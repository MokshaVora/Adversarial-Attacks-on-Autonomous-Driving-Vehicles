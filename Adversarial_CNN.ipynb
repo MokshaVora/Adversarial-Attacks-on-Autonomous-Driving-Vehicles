{
  "nbformat": 4,
  "nbformat_minor": 0,
  "metadata": {
    "accelerator": "GPU",
    "anaconda-cloud": {},
    "colab": {
      "name": "Adversarial_CNN.ipynb",
      "provenance": [],
      "collapsed_sections": []
    },
    "kernelspec": {
      "display_name": "Python 3",
      "language": "python",
      "name": "python3"
    },
    "language_info": {
      "codemirror_mode": {
        "name": "ipython",
        "version": 3
      },
      "file_extension": ".py",
      "mimetype": "text/x-python",
      "name": "python",
      "nbconvert_exporter": "python",
      "pygments_lexer": "ipython3",
      "version": "3.8.8"
    }
  },
  "cells": [
    {
      "cell_type": "code",
      "metadata": {
        "id": "Xb72y-6kHaYR"
      },
      "source": [
        "%matplotlib inline\n",
        "import matplotlib.pyplot as plt\n",
        "import tensorflow as tf\n",
        "import numpy as np\n",
        "from sklearn.metrics import confusion_matrix\n",
        "import time\n",
        "from datetime import timedelta\n",
        "import math\n",
        "import os\n",
        "from PIL import Image\n",
        "from sklearn.model_selection import train_test_split\n",
        "import tqdm.notebook as tq"
      ],
      "execution_count": 15,
      "outputs": []
    },
    {
      "cell_type": "code",
      "metadata": {
        "id": "R4xNaNc2HaYV"
      },
      "source": [
        "import tensorflow.compat.v1 as tf\n",
        "tf.disable_v2_behavior()"
      ],
      "execution_count": 23,
      "outputs": []
    },
    {
      "cell_type": "code",
      "metadata": {
        "id": "BGk7n_UTcY6Q"
      },
      "source": [
        "data_location  = 'Dataset/'\n",
        "model_location = 'Models/'"
      ],
      "execution_count": 1,
      "outputs": []
    },
    {
      "cell_type": "code",
      "metadata": {
        "id": "03OirVjNHaYV"
      },
      "source": [
        "classes = 4\n",
        "cur_path = data_location\n",
        "X, y = [], []\n",
        "\n",
        "for i in range(classes):\n",
        "    path = os.path.join(cur_path, str(i))\n",
        "    images = os.listdir(path)\n",
        "    labels = np.zeros(4)\n",
        "    labels[i] = 1\n",
        "    for a in tq.tqdm(images):\n",
        "        try:\n",
        "            temp = os.path.join(path, a)\n",
        "            image = Image.open(temp)\n",
        "            image = image.resize((30,30))\n",
        "            if image.mode == 'RGBA':\n",
        "                image.load() \n",
        "                background = Image.new(\"RGB\", image.size, (255, 255, 255))\n",
        "                background.paste(image, mask=image.split()[3])\n",
        "                image = np.array(background)\n",
        "            else:\n",
        "                image = np.array(image)\n",
        "            X.append(image)\n",
        "            y.append(labels)\n",
        "        except Exception as e:\n",
        "            print(e)"
      ],
      "execution_count": null,
      "outputs": []
    },
    {
      "cell_type": "code",
      "metadata": {
        "id": "gpttmG5MQ710"
      },
      "source": [
        "X_tra, X_tes, y_tra, y_tes = train_test_split(X, y, test_size = 0.2, shuffle=True)\n",
        "\n",
        "X_train = np.array(X_tra)\n",
        "y_train = np.array(y_tra)\n",
        "X_test = np.array(X_tes)\n",
        "y_test = np.array(y_tes) \n",
        "\n",
        "X_train = X_train.reshape(X_train.shape[0], 30, 30, 3)\n",
        "X_test = X_test.reshape(X_test.shape[0], 30, 30, 3)\n",
        "X_train = X_train.astype('float32')\n",
        "X_test = X_test.astype('float32')\n",
        "\n",
        "X_train /= 255\n",
        "X_test /= 255"
      ],
      "execution_count": 18,
      "outputs": []
    },
    {
      "cell_type": "code",
      "metadata": {
        "id": "fW0dre0pHaYW"
      },
      "source": [
        "img_size = 30\n",
        "img_size_flat = 2700\n",
        "img_shape = (30, 30, 3)\n",
        "num_classes = 4\n",
        "num_channels = 3"
      ],
      "execution_count": 19,
      "outputs": []
    },
    {
      "cell_type": "code",
      "metadata": {
        "id": "Pjw2pJ7HHaYX"
      },
      "source": [
        "def plot_images(images, cls_true, cls_pred=None, noise=0.0):\n",
        "    assert len(images) == len(cls_true) == 9\n",
        "    \n",
        "    fig, axes = plt.subplots(3, 3)\n",
        "    fig.subplots_adjust(hspace=0.3, wspace=0.3)\n",
        "\n",
        "    for i, ax in enumerate(axes.flat):\n",
        "        image = images[i].reshape(img_shape)\n",
        "        image += noise\n",
        "        image = np.clip(image, 0.0, 1.0)\n",
        "        ax.imshow(image,\n",
        "                  cmap='binary', interpolation='nearest')\n",
        "        \n",
        "        if cls_pred is None:\n",
        "            xlabel = \"True: {0}\".format(np.argmax(cls_true[i]))\n",
        "        else:\n",
        "            xlabel = \"True: {0}, Pred: {1}\".format(np.argmax(cls_true[i]), cls_pred[i])\n",
        "\n",
        "        ax.set_xlabel(xlabel)\n",
        "        ax.set_xticks([])\n",
        "        ax.set_yticks([])\n",
        "        \n",
        "    plt.show()"
      ],
      "execution_count": 20,
      "outputs": []
    },
    {
      "cell_type": "code",
      "metadata": {
        "colab": {
          "base_uri": "https://localhost:8080/",
          "height": 262
        },
        "id": "injLcFGcHaYX",
        "outputId": "2f48b34c-ef9b-4455-ff54-27d69291a80f"
      },
      "source": [
        "images = X_test[0:9]\n",
        "cls_true = y_test[0:9]\n",
        "# Plot the images and labels\n",
        "plot_images(images=images, cls_true=cls_true)"
      ],
      "execution_count": 21,
      "outputs": [
        {
          "output_type": "display_data",
          "data": {
            "image/png": "[encoded data removed]",
            "text/plain": [
              "<Figure size 432x288 with 9 Axes>"
            ]
          },
          "metadata": {
            "tags": []
          }
        }
      ]
    },
    {
      "cell_type": "code",
      "metadata": {
        "id": "7rILP70ZHaYY"
      },
      "source": [
        "x = tf.placeholder(tf.float32, shape=[None, img_size_flat], name='x')\n",
        "x_image = tf.reshape(x, [-1, img_size, img_size, num_channels])\n",
        "y_true = tf.placeholder(tf.float32, shape=[None, num_classes], name='y_true')\n",
        "y_true_cls = tf.argmax(y_true, axis=1)\n",
        "\n",
        "noise_limit = 0.15\n",
        "noise_l2_weight = 0.02\n",
        "\n",
        "ADVERSARY_VARIABLES = 'adversary_variables'\n",
        "\n",
        "collections = [tf.GraphKeys.GLOBAL_VARIABLES, ADVERSARY_VARIABLES]\n",
        "\n",
        "x_noise = tf.Variable(tf.zeros([img_size, img_size, num_channels]),\n",
        "                      name='x_noise', trainable=False,\n",
        "                      collections=collections)\n",
        "x_noise_clip = tf.assign(x_noise, tf.clip_by_value(x_noise,\n",
        "                                                   -noise_limit,\n",
        "                                                   noise_limit))\n",
        "x_noisy_image = x_image + x_noise\n",
        "x_noisy_image = tf.clip_by_value(x_noisy_image, 0.0, 1.0)"
      ],
      "execution_count": 24,
      "outputs": []
    },
    {
      "cell_type": "code",
      "metadata": {
        "id": "wUHMK29yHaYY"
      },
      "source": [
        "# Start the network with the noisy input image.\n",
        "net = x_noisy_image\n",
        "\n",
        "# 1st convolutional layer.\n",
        "net = tf.layers.conv2d(inputs=net, name='layer_conv1', padding='same',\n",
        "                       filters=16, kernel_size=5, activation=tf.nn.relu)\n",
        "net = tf.layers.max_pooling2d(inputs=net, pool_size=2, strides=2)\n",
        "\n",
        "# 2nd convolutional layer.\n",
        "net = tf.layers.conv2d(inputs=net, name='layer_conv2', padding='same',\n",
        "                       filters=36, kernel_size=5, activation=tf.nn.relu)\n",
        "net = tf.layers.max_pooling2d(inputs=net, pool_size=2, strides=2)\n",
        "\n",
        "# Flatten layer.This should eventually be replaced by:\n",
        "net = tf.layers.flatten(net)\n",
        "# net = tf.contrib.layers.flatten(net)\n",
        "\n",
        "# 1st fully-connected / dense layer.\n",
        "net = tf.layers.dense(inputs=net, name='layer_fc1',\n",
        "                      units=128, activation=tf.nn.relu)\n",
        "\n",
        "# 2nd fully-connected / dense layer.\n",
        "net = tf.layers.dense(inputs=net, name='layer_fc_out',\n",
        "                      units=num_classes, activation=None)\n",
        "\n",
        "# Unscaled output of the network.\n",
        "logits = net\n",
        "\n",
        "# Softmax output of the network.\n",
        "y_pred = tf.nn.softmax(logits=logits)\n",
        "\n",
        "# Loss measure to be optimized.\n",
        "cross_entropy = tf.nn.softmax_cross_entropy_with_logits_v2(labels=y_true,\n",
        "                                                           logits=logits)\n",
        "loss = tf.reduce_mean(cross_entropy)"
      ],
      "execution_count": null,
      "outputs": []
    },
    {
      "cell_type": "markdown",
      "metadata": {
        "id": "UHoxKViXHaYa"
      },
      "source": [
        "### Optimizer for Normal Training"
      ]
    },
    {
      "cell_type": "code",
      "metadata": {
        "id": "Wd3bPTx-HaYa"
      },
      "source": [
        "optimizer = tf.train.AdamOptimizer(learning_rate=1e-4).minimize(loss)"
      ],
      "execution_count": 26,
      "outputs": []
    },
    {
      "cell_type": "markdown",
      "metadata": {
        "id": "3Gp47ABrHaYa"
      },
      "source": [
        "### Optimizer for Adversarial Noise"
      ]
    },
    {
      "cell_type": "code",
      "metadata": {
        "id": "fN1ZpDImHaYb"
      },
      "source": [
        "adversary_variables = tf.get_collection(ADVERSARY_VARIABLES)"
      ],
      "execution_count": 27,
      "outputs": []
    },
    {
      "cell_type": "code",
      "metadata": {
        "id": "ajqGEWg-HaYb"
      },
      "source": [
        "l2_loss_noise = noise_l2_weight * tf.nn.l2_loss(x_noise)\n",
        "loss_adversary = loss + l2_loss_noise\n",
        "\n",
        "optimizer_adversary = tf.train.AdamOptimizer(learning_rate=1e-2).minimize(loss_adversary, var_list=adversary_variables)\n",
        "\n",
        "y_pred_cls = tf.argmax(y_pred, axis=1)\n",
        "correct_prediction = tf.equal(y_pred_cls, y_true_cls)\n",
        "accuracy = tf.reduce_mean(tf.cast(correct_prediction, tf.float32))"
      ],
      "execution_count": 28,
      "outputs": []
    },
    {
      "cell_type": "markdown",
      "metadata": {
        "id": "IlZsGwLyHaYb"
      },
      "source": [
        "## TensorFlow Run"
      ]
    },
    {
      "cell_type": "code",
      "metadata": {
        "id": "ODwmqLRfHaYb"
      },
      "source": [
        "session = tf.Session()"
      ],
      "execution_count": 29,
      "outputs": []
    },
    {
      "cell_type": "code",
      "metadata": {
        "id": "w5W8I4koHaYc"
      },
      "source": [
        "session.run(tf.global_variables_initializer())"
      ],
      "execution_count": 30,
      "outputs": []
    },
    {
      "cell_type": "code",
      "metadata": {
        "id": "u1PNfQ-gHaYc"
      },
      "source": [
        "def init_noise():\n",
        "    session.run(tf.variables_initializer([x_noise]))"
      ],
      "execution_count": 31,
      "outputs": []
    },
    {
      "cell_type": "code",
      "metadata": {
        "id": "5XZ3c5etHaYc"
      },
      "source": [
        "init_noise()"
      ],
      "execution_count": 32,
      "outputs": []
    },
    {
      "cell_type": "markdown",
      "metadata": {
        "id": "Ijr-GYNbHaYc"
      },
      "source": [
        "### Helper-function to perform optimization iterations"
      ]
    },
    {
      "cell_type": "code",
      "metadata": {
        "id": "UQzNNyG0HaYc"
      },
      "source": [
        "train_batch_size = 4"
      ],
      "execution_count": 33,
      "outputs": []
    },
    {
      "cell_type": "code",
      "metadata": {
        "id": "L_DOYCgnHaYc"
      },
      "source": [
        "import random\n",
        "def generate_batch(batch_size):\n",
        "    x_batch, y_batch = [], []\n",
        "    indices = random.sample(range(X_train.shape[0]), batch_size)\n",
        "    for index in indices:\n",
        "        x_batch.append(X_train[index].flatten())\n",
        "        y_batch.append(y_train[index])\n",
        "    return np.array(x_batch), np.array(y_batch)"
      ],
      "execution_count": 34,
      "outputs": []
    },
    {
      "cell_type": "code",
      "metadata": {
        "id": "qA8i8zxEHaYd"
      },
      "source": [
        "def optimize(num_iterations, adversary_target_cls=None):\n",
        "    start_time = time.time()\n",
        "\n",
        "    for i in range(num_iterations):\n",
        "        x_batch, y_true_batch = generate_batch(train_batch_size)\n",
        "\n",
        "        if adversary_target_cls is not None:\n",
        "            y_true_batch = np.zeros_like(y_true_batch)\n",
        "            y_true_batch[:, adversary_target_cls] = 1.0\n",
        "            \n",
        "        feed_dict_train = {x: x_batch,\n",
        "                           y_true: y_true_batch}\n",
        "\n",
        "        if adversary_target_cls is None:\n",
        "            session.run(optimizer, feed_dict=feed_dict_train)\n",
        "        else:\n",
        "            session.run(optimizer_adversary, feed_dict=feed_dict_train)\n",
        "            session.run(x_noise_clip)\n",
        "\n",
        "        if (i % 100 == 0) or (i == num_iterations - 1):\n",
        "            acc = session.run(accuracy, feed_dict=feed_dict_train)\n",
        "            msg = \"Optimization Iteration: {0:>6}, Training Accuracy: {1:>6.1%}\"\n",
        "            print(msg.format(i, acc))\n",
        "\n",
        "    # Ending time.\n",
        "    end_time = time.time()\n",
        "\n",
        "    # Difference between start and end-times.\n",
        "    time_dif = end_time - start_time\n",
        "\n",
        "    # Print the time-usage.\n",
        "    print(\"Time usage: \" + str(timedelta(seconds=int(round(time_dif)))))"
      ],
      "execution_count": 35,
      "outputs": []
    },
    {
      "cell_type": "markdown",
      "metadata": {
        "id": "H-p2UO1lHaYd"
      },
      "source": [
        "### Helper-functions for getting and plotting the noise"
      ]
    },
    {
      "cell_type": "code",
      "metadata": {
        "id": "0EiFUpIkHaYe"
      },
      "source": [
        "def get_noise():\n",
        "    noise = session.run(x_noise)\n",
        "    return np.squeeze(noise)"
      ],
      "execution_count": 36,
      "outputs": []
    },
    {
      "cell_type": "code",
      "metadata": {
        "id": "yy-NQbS6HaYe"
      },
      "source": [
        "def plot_noise():\n",
        "    # Get the adversarial noise from inside the TensorFlow graph.\n",
        "    noise = get_noise()\n",
        "    \n",
        "    # Print statistics.\n",
        "    print(\"Noise:\")\n",
        "    print(\"- Min:\", noise.min())\n",
        "    print(\"- Max:\", noise.max())\n",
        "    print(\"- Std:\", noise.std())\n",
        "\n",
        "    # Plot the noise.\n",
        "    plt.imshow(noise, interpolation='nearest', cmap='seismic',\n",
        "               vmin=-1.0, vmax=1.0)"
      ],
      "execution_count": 37,
      "outputs": []
    },
    {
      "cell_type": "markdown",
      "metadata": {
        "id": "KYZpKNRmHaYe"
      },
      "source": [
        "### Helper-function to plot example errors"
      ]
    },
    {
      "cell_type": "code",
      "metadata": {
        "id": "4SaiMkjWHaYe"
      },
      "source": [
        "def plot_example_errors(cls_pred, correct):\n",
        "    incorrect = (correct == False)\n",
        "    \n",
        "    images = X_test[incorrect]\n",
        "    cls_pred = cls_pred[incorrect]\n",
        "    cls_true = y_test[incorrect]\n",
        "    noise = get_noise()\n",
        "    \n",
        "    # Plot the first 9 images.\n",
        "    plot_images(images=images[0][0:9],\n",
        "                cls_true=cls_true[0][0:9],\n",
        "                cls_pred=cls_pred[0][0:9],\n",
        "                noise=noise)"
      ],
      "execution_count": 38,
      "outputs": []
    },
    {
      "cell_type": "markdown",
      "metadata": {
        "id": "Gdk67kMqHaYf"
      },
      "source": [
        "### Helper-function to plot confusion matrix"
      ]
    },
    {
      "cell_type": "code",
      "metadata": {
        "id": "MFYxLIEdHaYf"
      },
      "source": [
        "def plot_confusion_matrix(cls_pred):\n",
        "    cls_true = y_test\n",
        "    \n",
        "    cls_tt = []\n",
        "    for i in range(cls_true.shape[0]):\n",
        "        cls_tt.append(np.argmax(cls_true[i]))\n",
        "    cls_tt = np.array(cls_tt)\n",
        "    \n",
        "    # Get the confusion matrix using sklearn.\n",
        "    cm = confusion_matrix(y_true=cls_tt,\n",
        "                          y_pred=cls_pred)\n",
        "\n",
        "    # Print the confusion matrix as text.\n",
        "    print(cm)"
      ],
      "execution_count": 39,
      "outputs": []
    },
    {
      "cell_type": "code",
      "metadata": {
        "id": "tcC6dHDyHaYf"
      },
      "source": [
        "X_test1 = []\n",
        "for i in range(X_test.shape[0]):\n",
        "    X_test1.append(X_test[i].flatten())\n",
        "X_test1 = np.array(X_test1)"
      ],
      "execution_count": 40,
      "outputs": []
    },
    {
      "cell_type": "markdown",
      "metadata": {
        "id": "jwAChy1yHaYf"
      },
      "source": [
        "### Helper-function for showing the performance"
      ]
    },
    {
      "cell_type": "code",
      "metadata": {
        "id": "gmb3JJHwHaYg"
      },
      "source": [
        "# Split the test-set into smaller batches of this size.\n",
        "test_batch_size = 256\n",
        "\n",
        "def print_confusion_matrix(show_example_errors=False,\n",
        "                        show_confusion_matrix=False):\n",
        "\n",
        "    num_test = X_test.shape[0]\n",
        "    cls_pred = np.zeros(shape=num_test, dtype=np.int)\n",
        "\n",
        "    i = 0\n",
        "    while i < num_test:\n",
        "        j = min(i + test_batch_size, num_test)\n",
        "        images = X_test1[i:j, :]\n",
        "        labels = y_test[i:j, :]\n",
        "        feed_dict = {x: images,\n",
        "                     y_true: labels}\n",
        "        cls_pred[i:j] = session.run(y_pred_cls, feed_dict=feed_dict)\n",
        "        i = j\n",
        "\n",
        "    cls_true = y_test\n",
        "    correct = (cls_true == cls_pred)\n",
        "    corr = [1 if (cls_true == cls_pred) else 0]\n",
        "    correct_sum = sum(corr)\n",
        "    acc = float(correct_sum) / num_test\n",
        "\n",
        "    # Plot some examples of mis-classifications, if desired.\n",
        "    if show_example_errors:\n",
        "        print(\"Example errors:\")\n",
        "        plot_example_errors(cls_pred=cls_pred, correct=correct)\n",
        "\n",
        "    # Plot the confusion matrix, if desired.\n",
        "    if show_confusion_matrix:\n",
        "        print(\"Confusion Matrix:\")\n",
        "        plot_confusion_matrix(cls_pred=cls_pred)"
      ],
      "execution_count": 41,
      "outputs": []
    },
    {
      "cell_type": "code",
      "metadata": {
        "id": "JL-H3t8CHaYg",
        "scrolled": false,
        "colab": {
          "base_uri": "https://localhost:8080/"
        },
        "outputId": "0c115e30-567c-4213-c36e-6167da1cb95b"
      },
      "source": [
        "optimize(num_iterations=1000)"
      ],
      "execution_count": 42,
      "outputs": [
        {
          "output_type": "stream",
          "text": [
            "Optimization Iteration:      0, Training Accuracy:  25.0%\n",
            "Optimization Iteration:    100, Training Accuracy:  75.0%\n",
            "Optimization Iteration:    200, Training Accuracy:  50.0%\n",
            "Optimization Iteration:    300, Training Accuracy:  75.0%\n",
            "Optimization Iteration:    400, Training Accuracy: 100.0%\n",
            "Optimization Iteration:    500, Training Accuracy: 100.0%\n",
            "Optimization Iteration:    600, Training Accuracy: 100.0%\n",
            "Optimization Iteration:    700, Training Accuracy: 100.0%\n",
            "Optimization Iteration:    800, Training Accuracy: 100.0%\n",
            "Optimization Iteration:    900, Training Accuracy: 100.0%\n",
            "Optimization Iteration:    999, Training Accuracy: 100.0%\n",
            "Time usage: 0:00:33\n"
          ],
          "name": "stdout"
        }
      ]
    },
    {
      "cell_type": "code",
      "metadata": {
        "id": "wzCDGMWTHaYg",
        "scrolled": false,
        "colab": {
          "base_uri": "https://localhost:8080/",
          "height": 313
        },
        "outputId": "30069ae8-d1bb-4102-fc3f-fc7099da8a98"
      },
      "source": [
        "print_confusion_matrix(show_example_errors=True)"
      ],
      "execution_count": 43,
      "outputs": [
        {
          "output_type": "stream",
          "text": [
            "/usr/local/lib/python3.7/dist-packages/ipykernel_launcher.py:21: DeprecationWarning: elementwise comparison failed; this will raise an error in the future.\n",
            "/usr/local/lib/python3.7/dist-packages/ipykernel_launcher.py:22: DeprecationWarning: elementwise comparison failed; this will raise an error in the future.\n"
          ],
          "name": "stderr"
        },
        {
          "output_type": "stream",
          "text": [
            "Example errors:\n"
          ],
          "name": "stdout"
        },
        {
          "output_type": "display_data",
          "data": {
            "image/png": "[encoded data removed]",
            "text/plain": [
              "<Figure size 432x288 with 9 Axes>"
            ]
          },
          "metadata": {
            "tags": []
          }
        }
      ]
    },
    {
      "cell_type": "markdown",
      "metadata": {
        "id": "dNIGER1cHaYg"
      },
      "source": [
        "## Find the adversarial noise"
      ]
    },
    {
      "cell_type": "code",
      "metadata": {
        "id": "M2b1K1NlHaYg"
      },
      "source": [
        "init_noise()"
      ],
      "execution_count": 44,
      "outputs": []
    },
    {
      "cell_type": "code",
      "metadata": {
        "id": "vbEpHNDGHaYh",
        "scrolled": false,
        "colab": {
          "base_uri": "https://localhost:8080/"
        },
        "outputId": "ae1568c2-06cc-4878-b0b4-e01d8c4e4000"
      },
      "source": [
        "optimize(num_iterations=1000, adversary_target_cls=1)"
      ],
      "execution_count": 45,
      "outputs": [
        {
          "output_type": "stream",
          "text": [
            "Optimization Iteration:      0, Training Accuracy:  25.0%\n",
            "Optimization Iteration:    100, Training Accuracy: 100.0%\n",
            "Optimization Iteration:    200, Training Accuracy: 100.0%\n",
            "Optimization Iteration:    300, Training Accuracy: 100.0%\n",
            "Optimization Iteration:    400, Training Accuracy: 100.0%\n",
            "Optimization Iteration:    500, Training Accuracy: 100.0%\n",
            "Optimization Iteration:    600, Training Accuracy: 100.0%\n",
            "Optimization Iteration:    700, Training Accuracy: 100.0%\n",
            "Optimization Iteration:    800, Training Accuracy: 100.0%\n",
            "Optimization Iteration:    900, Training Accuracy: 100.0%\n",
            "Optimization Iteration:    999, Training Accuracy: 100.0%\n",
            "Time usage: 0:00:02\n"
          ],
          "name": "stdout"
        }
      ]
    },
    {
      "cell_type": "code",
      "metadata": {
        "id": "41F096bdHaYh",
        "scrolled": true,
        "colab": {
          "base_uri": "https://localhost:8080/",
          "height": 351
        },
        "outputId": "f992d091-6e27-458a-8a16-ff08b3b636b5"
      },
      "source": [
        "plot_noise()"
      ],
      "execution_count": 46,
      "outputs": [
        {
          "output_type": "stream",
          "text": [
            "Clipping input data to the valid range for imshow with RGB data ([0..1] for floats or [0..255] for integers).\n"
          ],
          "name": "stderr"
        },
        {
          "output_type": "stream",
          "text": [
            "Noise:\n",
            "- Min: -0.15\n",
            "- Max: 0.15\n",
            "- Std: 0.071344316\n"
          ],
          "name": "stdout"
        },
        {
          "output_type": "display_data",
          "data": {
            "image/png": "[encoded data removed]",
            "text/plain": [
              "<Figure size 432x288 with 1 Axes>"
            ]
          },
          "metadata": {
            "tags": [],
            "needs_background": "light"
          }
        }
      ]
    },
    {
      "cell_type": "code",
      "metadata": {
        "id": "T6gGsEFfHaYh",
        "scrolled": true,
        "colab": {
          "base_uri": "https://localhost:8080/",
          "height": 398
        },
        "outputId": "cc61dfa7-57df-453a-b1f0-455feccbc4c3"
      },
      "source": [
        "print_confusion_matrix(show_example_errors=True, show_confusion_matrix=True)"
      ],
      "execution_count": 47,
      "outputs": [
        {
          "output_type": "stream",
          "text": [
            "/usr/local/lib/python3.7/dist-packages/ipykernel_launcher.py:21: DeprecationWarning: elementwise comparison failed; this will raise an error in the future.\n",
            "/usr/local/lib/python3.7/dist-packages/ipykernel_launcher.py:22: DeprecationWarning: elementwise comparison failed; this will raise an error in the future.\n"
          ],
          "name": "stderr"
        },
        {
          "output_type": "stream",
          "text": [
            "Example errors:\n"
          ],
          "name": "stdout"
        },
        {
          "output_type": "display_data",
          "data": {
            "image/png": "[encoded data removed]",
            "text/plain": [
              "<Figure size 432x288 with 9 Axes>"
            ]
          },
          "metadata": {
            "tags": []
          }
        },
        {
          "output_type": "stream",
          "text": [
            "Confusion Matrix:\n",
            "[[ 0 47  0  0]\n",
            " [ 0 49  0  0]\n",
            " [ 0 19  2  0]\n",
            " [ 0 46  0  1]]\n"
          ],
          "name": "stdout"
        }
      ]
    },
    {
      "cell_type": "markdown",
      "metadata": {
        "id": "Mk6Ay6GwHaYh"
      },
      "source": [
        "## Adversarial noise for all target-classes"
      ]
    },
    {
      "cell_type": "code",
      "metadata": {
        "id": "EVw8PB9-HaYh"
      },
      "source": [
        "def find_all_noise(num_iterations=1000):\n",
        "    # Adversarial noise for all target-classes.\n",
        "    all_noise = []\n",
        "\n",
        "    # For each target-class.\n",
        "    for i in range(num_classes):\n",
        "        print(\"Finding adversarial noise for target-class:\", i)\n",
        "        init_noise\n",
        "        optimize(num_iterations=num_iterations,\n",
        "                 adversary_target_cls=i)\n",
        "        noise = get_noise()\n",
        "        all_noise.append(noise)\n",
        "        print()\n",
        "    \n",
        "    return all_noise"
      ],
      "execution_count": 50,
      "outputs": []
    },
    {
      "cell_type": "code",
      "metadata": {
        "id": "Z_a3bOOEHaYi",
        "colab": {
          "base_uri": "https://localhost:8080/"
        },
        "outputId": "a78bf3a8-4ee6-4335-8640-8324de302246"
      },
      "source": [
        "all_noise = find_all_noise(num_iterations=300)"
      ],
      "execution_count": 51,
      "outputs": [
        {
          "output_type": "stream",
          "text": [
            "Finding adversarial noise for target-class: 0\n",
            "Optimization Iteration:      0, Training Accuracy:   0.0%\n",
            "Optimization Iteration:    100, Training Accuracy: 100.0%\n",
            "Optimization Iteration:    200, Training Accuracy: 100.0%\n",
            "Optimization Iteration:    299, Training Accuracy: 100.0%\n",
            "Time usage: 0:00:01\n",
            "\n",
            "Finding adversarial noise for target-class: 1\n",
            "Optimization Iteration:      0, Training Accuracy:   0.0%\n",
            "Optimization Iteration:    100, Training Accuracy: 100.0%\n",
            "Optimization Iteration:    200, Training Accuracy: 100.0%\n",
            "Optimization Iteration:    299, Training Accuracy: 100.0%\n",
            "Time usage: 0:00:01\n",
            "\n",
            "Finding adversarial noise for target-class: 2\n",
            "Optimization Iteration:      0, Training Accuracy:   0.0%\n",
            "Optimization Iteration:    100, Training Accuracy: 100.0%\n",
            "Optimization Iteration:    200, Training Accuracy: 100.0%\n",
            "Optimization Iteration:    299, Training Accuracy: 100.0%\n",
            "Time usage: 0:00:01\n",
            "\n",
            "Finding adversarial noise for target-class: 3\n",
            "Optimization Iteration:      0, Training Accuracy:   0.0%\n",
            "Optimization Iteration:    100, Training Accuracy:  75.0%\n",
            "Optimization Iteration:    200, Training Accuracy: 100.0%\n",
            "Optimization Iteration:    299, Training Accuracy:  75.0%\n",
            "Time usage: 0:00:01\n",
            "\n"
          ],
          "name": "stdout"
        }
      ]
    },
    {
      "cell_type": "markdown",
      "metadata": {
        "id": "WILotpclHaYi"
      },
      "source": [
        "### Plot the adversarial noise for all target-classes"
      ]
    },
    {
      "cell_type": "code",
      "metadata": {
        "id": "C4-geiPlHaYi"
      },
      "source": [
        "def plot_all_noise(all_noise):\n",
        "    fig, axes = plt.subplots(2, 2)\n",
        "    fig.subplots_adjust(hspace=0.2, wspace=0.1)\n",
        "\n",
        "    for i, ax in enumerate(axes.flat):\n",
        "        noise = all_noise[i]\n",
        "        noise = np.clip(noise, 0.0, 1.0)\n",
        "        \n",
        "        ax.imshow(noise,\n",
        "                  cmap='seismic', interpolation='nearest',\n",
        "                  vmin=-1.0, vmax=1.0)\n",
        "        plt.imsave(os.path.join(data_location,'noise'+str(i)+'.png'), noise)\n",
        "        ax.set_xlabel(i)\n",
        "        ax.set_xticks([])\n",
        "        ax.set_yticks([])\n",
        "    plt.show()"
      ],
      "execution_count": 53,
      "outputs": []
    },
    {
      "cell_type": "code",
      "metadata": {
        "id": "Xvb-CJojHaYi",
        "scrolled": true,
        "colab": {
          "base_uri": "https://localhost:8080/",
          "height": 262
        },
        "outputId": "aa207dab-13c1-4efa-a29d-e7934dc0eaa1"
      },
      "source": [
        "plot_all_noise(all_noise)"
      ],
      "execution_count": 54,
      "outputs": [
        {
          "output_type": "display_data",
          "data": {
            "image/png": "[encoded data removed]",
            "text/plain": [
              "<Figure size 432x288 with 4 Axes>"
            ]
          },
          "metadata": {
            "tags": []
          }
        }
      ]
    },
    {
      "cell_type": "markdown",
      "metadata": {
        "id": "wB_h_8tgHaYi"
      },
      "source": [
        "## Close TensorFlow Session"
      ]
    },
    {
      "cell_type": "code",
      "metadata": {
        "id": "AU82SnEzHaYj"
      },
      "source": [
        "session.close()"
      ],
      "execution_count": 55,
      "outputs": []
    }
  ]
}