{
 "cells": [
  {
   "cell_type": "code",
   "execution_count": 1,
   "id": "d00584ef",
   "metadata": {},
   "outputs": [],
   "source": [
    "import os\n",
    "os.environ['TF_FORCE_GPU_ALLOW_GROWTH'] = 'true'\n"
   ]
  },
  {
   "cell_type": "code",
   "execution_count": 2,
   "id": "efa26081",
   "metadata": {},
   "outputs": [],
   "source": [
    "import numpy as np\n",
    "import tensorflow as tf\n",
    "import pandas as pd\n",
    "import matplotlib.pyplot as plt\n",
    "import csv\n",
    "import cv2\n",
    "import tqdm.notebook as tq\n",
    "from sklearn.utils import shuffle\n",
    "from keras.optimizers import *\n",
    "from keras.losses import *\n",
    "from keras import Sequential, Model\n",
    "from keras.layers import *\n",
    "import PIL\n",
    "import PIL.Image\n",
    "import keras.backend as K\n",
    "#tf.config.run_functions_eagerly(True)"
   ]
  },
  {
   "cell_type": "code",
   "execution_count": 44,
   "id": "a5e49c09",
   "metadata": {},
   "outputs": [],
   "source": [
    "data_location = 'Dataset/'\n",
    "model_location = 'Models/'\n",
    "save_model_location = 'saved_model2/'"
   ]
  },
  {
   "cell_type": "markdown",
   "id": "535e0667",
   "metadata": {},
   "source": [
    "# Model Generators"
   ]
  },
  {
   "cell_type": "code",
   "execution_count": 35,
   "id": "effadc72",
   "metadata": {},
   "outputs": [],
   "source": [
    "def get_discriminator(in_shape):\n",
    "    \n",
    "    model = Sequential()\n",
    "    model.add(Conv2D(64, (3,3), strides=(2, 2), padding='same', input_shape=in_shape))\n",
    "    model.add(LeakyReLU(alpha=0.2))\n",
    "    model.add(Dropout(0.4))\n",
    "    model.add(Conv2D(64, (3,3), strides=(2, 2), padding='same'))\n",
    "    model.add(LeakyReLU(alpha=0.2))\n",
    "    model.add(Dropout(0.4))\n",
    "    model.add(Flatten())\n",
    "    model.add(Dense(1, activation='sigmoid'))\n",
    "    opt = Adam(lr=0.00001, beta_1=0.5)\n",
    "    model.compile(loss='binary_crossentropy', optimizer=opt, metrics=['accuracy'])\n",
    "    return model\n",
    "\n",
    "def get_generator(in_shape):\n",
    "    \n",
    "    n_nodes      = 128 * 15 * 15\n",
    "    input_image  = Input(in_shape)\n",
    "    #rescaled    = experimental.preprocessing.Rescaling(1./255)(input_image)\n",
    "    flat         = Flatten() (input_image)\n",
    "    fc1          = Dense(n_nodes, kernel_initializer=tf.keras.initializers.HeNormal()) (flat)\n",
    "    lr1          = ReLU() (fc1)\n",
    "    out1         = Reshape((15, 15, 128)) (lr1)\n",
    "    tconv1       = Conv2DTranspose(128, (4,4), strides=(2,2), padding='same',\n",
    "                                  kernel_initializer=tf.keras.initializers.HeNormal()) (out1)\n",
    "    lr2          = LeakyReLU(alpha=0.2) (tconv1)\n",
    "    noise        = Conv2D(3, (7,7), activation='sigmoid', padding='same',\n",
    "                          kernel_initializer=tf.keras.initializers.HeNormal()) (lr2)\n",
    "    \n",
    "    #noise = tf.clip_by_value(noise, clip_value_min=-0.15, clip_value_max=0.15)\n",
    "    output_image = 0.9 * input_image +  0.1 *noise \n",
    "    output_image = tf.clip_by_value(output_image, clip_value_min=0, clip_value_max=1)\n",
    "    \n",
    "    model = Model(inputs=input_image, outputs=output_image)\n",
    "    return model\n",
    "\n",
    "def custom_loss(y_actual, y_predicted):\n",
    "    loss = K.categorical_crossentropy(y_actual, y_predicted)\n",
    "    return -1 * loss\n",
    "\n",
    "\n",
    "class GAN(tf.keras.Model):\n",
    "\n",
    "    def __init__(self, generator, discriminator, classifier):\n",
    "        super(GAN, self).__init__()\n",
    "        self.generator = generator\n",
    "        self.discriminator = discriminator\n",
    "        self.classifier = classifier\n",
    "        self.discriminator.trainable = False\n",
    "        self.classifier.trainable = False\n",
    "\n",
    "    def call(self, input_sign):\n",
    "        noisy_sign = self.generator(input_sign)\n",
    "        gan_out = self.discriminator(noisy_sign)\n",
    "        adv_out = self.classifier(noisy_sign)\n",
    "        return gan_out, adv_out\n",
    "\n",
    "\n",
    "\n",
    "def define_gan(generator, discriminator, classifier):   # Discriminator Loss Model\n",
    "    \n",
    "    model = GAN(generator, discriminator, classifier)\n",
    "    opt = Adam(lr=0.0001, beta_1=0.5)\n",
    "    model.compile( loss={'output_1': 'binary_crossentropy', \n",
    "                         'output_2': custom_loss},\n",
    "                  optimizer=opt,\n",
    "                  loss_weights=[0.1, 0.6])\n",
    "    return model\n"
   ]
  },
  {
   "cell_type": "markdown",
   "id": "571725df",
   "metadata": {},
   "source": [
    "#  Training Function"
   ]
  },
  {
   "cell_type": "code",
   "execution_count": null,
   "id": "d200eebc",
   "metadata": {},
   "outputs": [],
   "source": [
    "def train_all_models(d_model, g_model, gan_model, train_ds, num_epochs = 10):\n",
    "    N_runs = len(train_ds)\n",
    "    for i in range(num_epochs):\n",
    "        print('Epoch : ', i)\n",
    "        Dloss, Dacc, GD_loss, GAN_loss = 0,0,0,0\n",
    "        for n in tq.tqdm( range(N_runs) ):\n",
    "            \n",
    "            X_dis, Y_dis = generate_discriminator_dataset(g_model, train_ds, batch_size)\n",
    "            if(n > 0):\n",
    "                dloss, dacc  = d_model.train_on_batch(X_dis, Y_dis)\n",
    "            else:\n",
    "                dloss, dacc = d_model.evaluate(X_dis, Y_dis, verbose = 0)\n",
    "            \n",
    "            X_gan, Y_gan, Y_adv = generate_gan_dataset(train_ds)\n",
    "            ganloss      = gan_model.train_on_batch(X_gan, {'output_1' : Y_gan, 'output_2' : Y_adv})\n",
    "            \n",
    "            \n",
    "#             Dloss = Dloss + dloss\n",
    "#             Dacc = Dacc + dacc\n",
    "#             GAN_loss = GD_loss + ganloss[1]\n",
    "#             ADV_loss = GAN_loss + ganloss[2]\n",
    "#             Future Work : Joint Trainng Model\"\n",
    "            print('Discriminator Loss : ', round(dloss, 2), '  Accuracy', round(dacc,2),\n",
    "                  ' || GAN loss: ', ganloss)\n",
    "#         print('Discriminator Loss : ', round(Dloss/N_runs, 2), '  Accuracy', round(Dacc/N_runs,2),\n",
    "#               '|| GD Loss: ', round(GD_loss/N_runs,2) , ' || GAN loss: ', round(GAN_loss/N_runs,2))\n",
    "        \n",
    "        if( i%20 == 0 ):\n",
    "            g_model.save(save_model_location +'gen_'+ str(i) + '.h5')"
   ]
  },
  {
   "cell_type": "markdown",
   "id": "d154cc5f",
   "metadata": {},
   "source": [
    "# DataBatch Generator"
   ]
  },
  {
   "cell_type": "code",
   "execution_count": 8,
   "id": "c0d4ff03",
   "metadata": {},
   "outputs": [],
   "source": [
    "def generate_real_datas(train_ds):\n",
    "    image_batch, label_batch = next(iter(train_ds))\n",
    "    return image_batch, np.ones((len(image_batch), 1))\n",
    "\n",
    "def generate_fake_datas(g_model, train_ds):\n",
    "    image_batch, label_batch = next(iter(train_ds))\n",
    "    fake_images = g_model.predict(image_batch)\n",
    "    return fake_images, np.zeros( (len(fake_images), 1) )\n",
    "\n",
    "def generate_discriminator_dataset(g_model, train_ds, batch_size):\n",
    "    X_real, Y_real = generate_real_datas(train_ds)\n",
    "    X_fake, Y_fake = generate_fake_datas(g_model, train_ds)\n",
    "    X = np.concatenate(( X_real, X_fake ))\n",
    "    Y = np.concatenate(( Y_real, Y_fake ))\n",
    "    return X,Y\n",
    "\n",
    "def generate_gan_dataset(train_ds):\n",
    "    image_batch, label_batch = next(iter(train_ds))\n",
    "    return image_batch, np.ones((len(image_batch), 1)), tf.one_hot(label_batch, 4)"
   ]
  },
  {
   "cell_type": "code",
   "execution_count": null,
   "id": "2aeefe50",
   "metadata": {},
   "outputs": [],
   "source": []
  },
  {
   "cell_type": "markdown",
   "id": "7b5a369c",
   "metadata": {},
   "source": [
    "#  Execution "
   ]
  },
  {
   "cell_type": "code",
   "execution_count": 36,
   "id": "5415b8a5",
   "metadata": {},
   "outputs": [
    {
     "name": "stdout",
     "output_type": "stream",
     "text": [
      "Found 700 files belonging to 3 classes.\n",
      "Using 560 files for training.\n",
      "Found 700 files belonging to 3 classes.\n",
      "Using 140 files for validation.\n",
      " Loaded training data in train_ds and validation data in val_ds\n"
     ]
    }
   ],
   "source": [
    "sign_shape = (30, 30, 3)\n",
    "num_classes = 43\n",
    "num_epochs = 30\n",
    "\n",
    "batch_size = 32\n",
    "img_height = 30\n",
    "img_width = 30\n",
    "#images, labels = readTrafficSigns(data_location, 43)\n",
    "#images = images/256\n",
    "\n",
    "import pathlib\n",
    "data_dir = pathlib.Path('Dataset/Signs/')\n",
    "train_ds = tf.keras.preprocessing.image_dataset_from_directory( data_dir,  validation_split=0.2,\n",
    "  subset=\"training\",  seed=123,  image_size=(img_height, img_width),  batch_size=batch_size)\n",
    "val_ds = tf.keras.preprocessing.image_dataset_from_directory(  data_dir,  validation_split=0.2,\n",
    "  subset=\"validation\",  seed=123,  image_size=(img_height, img_width),  batch_size=batch_size)\n",
    "\n",
    "normalization_layer = tf.keras.layers.experimental.preprocessing.Rescaling(1./255)\n",
    "\n",
    "train_ds = train_ds.map(lambda x, y: (normalization_layer(x), y))\n",
    "val_ds = val_ds.map(lambda x, y: (normalization_layer(x), y))\n",
    "\n",
    "print(\" Loaded training data in train_ds and validation data in val_ds\")"
   ]
  },
  {
   "cell_type": "code",
   "execution_count": null,
   "id": "a3a0f6d6",
   "metadata": {},
   "outputs": [],
   "source": []
  },
  {
   "cell_type": "code",
   "execution_count": 38,
   "id": "8fecdbe6",
   "metadata": {},
   "outputs": [],
   "source": [
    "# Create the models Discriminator, Generator and GAN\n",
    "discriminator = get_discriminator(sign_shape)\n",
    "generator = get_generator(sign_shape)\n",
    "classifier = tf.keras.models.load_model(model_location +'model.h5')\n",
    "gan_model = define_gan(generator, discriminator, classifier)"
   ]
  },
  {
   "cell_type": "code",
   "execution_count": null,
   "id": "0ef63eff",
   "metadata": {},
   "outputs": [],
   "source": []
  },
  {
   "cell_type": "code",
   "execution_count": 39,
   "id": "c93a28e8",
   "metadata": {
    "scrolled": true
   },
   "outputs": [
    {
     "name": "stdout",
     "output_type": "stream",
     "text": [
      "Epoch :  0\n"
     ]
    },
    {
     "data": {
      "application/vnd.jupyter.widget-view+json": {
       "model_id": "25c7f2d372214751a9f06940eed77c8f",
       "version_major": 2,
       "version_minor": 0
      },
      "text/plain": [
       "HBox(children=(HTML(value=''), FloatProgress(value=0.0, max=18.0), HTML(value='')))"
      ]
     },
     "metadata": {},
     "output_type": "display_data"
    },
    {
     "name": "stdout",
     "output_type": "stream",
     "text": [
      "Discriminator Loss :  0.7   Accuracy 0.47  || GAN loss:  [-0.13354915380477905, 0.6404645442962646, -0.32932600378990173]\n",
      "Discriminator Loss :  0.7   Accuracy 0.41  || GAN loss:  [-0.0547293946146965, 0.6586251258850098, -0.20098650455474854]\n",
      "Discriminator Loss :  0.7   Accuracy 0.45  || GAN loss:  [0.02638263627886772, 0.6581035852432251, -0.06571286916732788]\n",
      "Discriminator Loss :  0.71   Accuracy 0.39  || GAN loss:  [-0.2924259901046753, 0.6586306095123291, -0.5971484184265137]\n",
      "Discriminator Loss :  0.7   Accuracy 0.36  || GAN loss:  [-0.20751847326755524, 0.6494988203048706, -0.4541139006614685]\n",
      "Discriminator Loss :  0.71   Accuracy 0.41  || GAN loss:  [-0.6731193661689758, 0.6673593521118164, -1.2330920696258545]\n",
      "Discriminator Loss :  0.7   Accuracy 0.52  || GAN loss:  [-0.5604673027992249, 0.6603871583938599, -1.044176697731018]\n",
      "Discriminator Loss :  0.7   Accuracy 0.42  || GAN loss:  [-0.2411663979291916, 0.6632359027862549, -0.5124832987785339]\n",
      "Discriminator Loss :  0.68   Accuracy 0.56  || GAN loss:  [-0.5691606402397156, 0.665002703666687, -1.0594347715377808]\n",
      "Discriminator Loss :  0.69   Accuracy 0.48  || GAN loss:  [-0.2813710868358612, 0.6671321988105774, -0.5801404714584351]\n",
      "Discriminator Loss :  0.7   Accuracy 0.53  || GAN loss:  [-1.1784648895263672, 0.6670620441436768, -2.075284957885742]\n",
      "Discriminator Loss :  0.69   Accuracy 0.55  || GAN loss:  [-0.2876085042953491, 0.6694587469100952, -0.5909239649772644]\n",
      "Discriminator Loss :  0.69   Accuracy 0.5  || GAN loss:  [-0.7618969082832336, 0.66352379322052, -1.380415439605713]\n",
      "Discriminator Loss :  0.7   Accuracy 0.52  || GAN loss:  [-1.485951542854309, 0.6592918634414673, -2.586467742919922]\n",
      "Discriminator Loss :  0.7   Accuracy 0.48  || GAN loss:  [-1.5257190465927124, 0.6501721143722534, -2.6512269973754883]\n",
      "Discriminator Loss :  0.7   Accuracy 0.41  || GAN loss:  [-2.078648805618286, 0.6802488565444946, -3.577789306640625]\n",
      "Discriminator Loss :  0.71   Accuracy 0.39  || GAN loss:  [-0.6781434416770935, 0.6614511013031006, -1.240480899810791]\n",
      "Discriminator Loss :  0.7   Accuracy 0.36  || GAN loss:  [-1.421840786933899, 0.6900794506072998, -2.484747886657715]\n",
      "\n",
      "Epoch :  1\n"
     ]
    },
    {
     "data": {
      "application/vnd.jupyter.widget-view+json": {
       "model_id": "d6f3ddb070c84f4cba935712e639dbce",
       "version_major": 2,
       "version_minor": 0
      },
      "text/plain": [
       "HBox(children=(HTML(value=''), FloatProgress(value=0.0, max=18.0), HTML(value='')))"
      ]
     },
     "metadata": {},
     "output_type": "display_data"
    },
    {
     "name": "stdout",
     "output_type": "stream",
     "text": [
      "Discriminator Loss :  0.69   Accuracy 0.47  || GAN loss:  [-1.242165446281433, 0.6720178127288818, -2.182278633117676]\n",
      "Discriminator Loss :  0.7   Accuracy 0.47  || GAN loss:  [-1.573931336402893, 0.6822885274887085, -2.736933469772339]\n",
      "Discriminator Loss :  0.71   Accuracy 0.48  || GAN loss:  [-1.3232215642929077, 0.6561684608459473, -2.314730644226074]\n",
      "Discriminator Loss :  0.71   Accuracy 0.5  || GAN loss:  [-1.6942524909973145, 0.6692718267440796, -2.9352993965148926]\n",
      "Discriminator Loss :  0.71   Accuracy 0.36  || GAN loss:  [-1.0590393543243408, 0.6655689477920532, -1.8759937286376953]\n",
      "Discriminator Loss :  0.71   Accuracy 0.48  || GAN loss:  [-1.9111469984054565, 0.674573540687561, -3.2976737022399902]\n",
      "Discriminator Loss :  0.7   Accuracy 0.44  || GAN loss:  [-1.7145295143127441, 0.6712847948074341, -2.9694297313690186]\n",
      "Discriminator Loss :  0.7   Accuracy 0.47  || GAN loss:  [-2.1435296535491943, 0.6798790693283081, -3.6858625411987305]\n",
      "Discriminator Loss :  0.71   Accuracy 0.48  || GAN loss:  [-1.6327686309814453, 0.6778901815414429, -2.8342626094818115]\n",
      "Discriminator Loss :  0.71   Accuracy 0.34  || GAN loss:  [-1.615004062652588, 0.6946568489074707, -2.8074493408203125]\n",
      "Discriminator Loss :  0.7   Accuracy 0.44  || GAN loss:  [-2.537017583847046, 0.6744297742843628, -4.3407673835754395]\n",
      "Discriminator Loss :  0.7   Accuracy 0.47  || GAN loss:  [-1.3746590614318848, 0.6706658005714417, -2.4028759002685547]\n",
      "Discriminator Loss :  0.7   Accuracy 0.52  || GAN loss:  [-2.7872490882873535, 0.6588326692581177, -4.755220413208008]\n",
      "Discriminator Loss :  0.7   Accuracy 0.48  || GAN loss:  [-1.687894344329834, 0.6681663990020752, -2.924518346786499]\n",
      "Discriminator Loss :  0.69   Accuracy 0.56  || GAN loss:  [-2.537907361984253, 0.6665639877319336, -4.340939521789551]\n",
      "Discriminator Loss :  0.7   Accuracy 0.5  || GAN loss:  [-4.5394134521484375, 0.6966323852539062, -7.681794166564941]\n",
      "Discriminator Loss :  0.7   Accuracy 0.42  || GAN loss:  [-3.563149929046631, 0.6948307752609253, -6.054388046264648]\n",
      "Discriminator Loss :  0.71   Accuracy 0.45  || GAN loss:  [-1.7189233303070068, 0.663711428642273, -2.9754905700683594]\n",
      "\n",
      "Epoch :  2\n"
     ]
    },
    {
     "data": {
      "application/vnd.jupyter.widget-view+json": {
       "model_id": "dd9117069b2f47c4a9a5cb6305340108",
       "version_major": 2,
       "version_minor": 0
      },
      "text/plain": [
       "HBox(children=(HTML(value=''), FloatProgress(value=0.0, max=18.0), HTML(value='')))"
      ]
     },
     "metadata": {},
     "output_type": "display_data"
    },
    {
     "name": "stdout",
     "output_type": "stream",
     "text": [
      "Discriminator Loss :  0.7   Accuracy 0.42  || GAN loss:  [-2.8713481426239014, 0.6813685297966003, -4.899141788482666]\n",
      "Discriminator Loss :  0.7   Accuracy 0.44  || GAN loss:  [-4.465841770172119, 0.6858196258544922, -7.557373046875]\n",
      "Discriminator Loss :  0.69   Accuracy 0.55  || GAN loss:  [-4.1905646324157715, 0.6777639389038086, -7.097234725952148]\n",
      "Discriminator Loss :  0.68   Accuracy 0.58  || GAN loss:  [-1.6518144607543945, 0.6837891340255737, -2.8669888973236084]\n",
      "Discriminator Loss :  0.69   Accuracy 0.47  || GAN loss:  [-2.407834768295288, 0.6832913160324097, -4.12693977355957]\n",
      "Discriminator Loss :  0.71   Accuracy 0.45  || GAN loss:  [-3.7638731002807617, 0.6849467754364014, -6.387279510498047]\n",
      "Discriminator Loss :  0.7   Accuracy 0.5  || GAN loss:  [-2.546583890914917, 0.6995395421981812, -4.360896110534668]\n",
      "Discriminator Loss :  0.69   Accuracy 0.48  || GAN loss:  [-2.6664979457855225, 0.6614159941673279, -4.554399013519287]\n",
      "Discriminator Loss :  0.69   Accuracy 0.53  || GAN loss:  [-2.738659620285034, 0.6861625909805298, -4.678792953491211]\n",
      "Discriminator Loss :  0.71   Accuracy 0.47  || GAN loss:  [-3.065479040145874, 0.674682080745697, -5.221578598022461]\n",
      "Discriminator Loss :  0.69   Accuracy 0.53  || GAN loss:  [-3.6870243549346924, 0.6959550976753235, -6.261033058166504]\n",
      "Discriminator Loss :  0.71   Accuracy 0.5  || GAN loss:  [-2.7810232639312744, 0.6925938129425049, -4.750471115112305]\n",
      "Discriminator Loss :  0.72   Accuracy 0.33  || GAN loss:  [-3.7730298042297363, 0.6784279346466064, -6.401453971862793]\n",
      "Discriminator Loss :  0.69   Accuracy 0.55  || GAN loss:  [-2.8381290435791016, 0.676923930644989, -4.8430352210998535]\n",
      "Discriminator Loss :  0.67   Accuracy 0.66  || GAN loss:  [-2.0709822177886963, 0.6752710938453674, -3.5641818046569824]\n",
      "Discriminator Loss :  0.69   Accuracy 0.48  || GAN loss:  [-4.493627548217773, 0.6717666387557983, -7.601340293884277]\n",
      "Discriminator Loss :  0.69   Accuracy 0.45  || GAN loss:  [-3.4712910652160645, 0.6722854375839233, -5.8975324630737305]\n",
      "Discriminator Loss :  0.69   Accuracy 0.44  || GAN loss:  [-3.0910847187042236, 0.6781427264213562, -5.26483154296875]\n",
      "\n",
      "Epoch :  3\n"
     ]
    },
    {
     "data": {
      "application/vnd.jupyter.widget-view+json": {
       "model_id": "3738dfc733ab4e37a2d471354c0fa402",
       "version_major": 2,
       "version_minor": 0
      },
      "text/plain": [
       "HBox(children=(HTML(value=''), FloatProgress(value=0.0, max=18.0), HTML(value='')))"
      ]
     },
     "metadata": {},
     "output_type": "display_data"
    },
    {
     "name": "stdout",
     "output_type": "stream",
     "text": [
      "Discriminator Loss :  0.69   Accuracy 0.53  || GAN loss:  [-4.008339881896973, 0.7116051912307739, -6.799166679382324]\n",
      "Discriminator Loss :  0.69   Accuracy 0.53  || GAN loss:  [-3.5007967948913574, 0.6863959431648254, -5.949060440063477]\n",
      "Discriminator Loss :  0.7   Accuracy 0.5  || GAN loss:  [-4.027894020080566, 0.6838460564613342, -6.8271307945251465]\n",
      "Discriminator Loss :  0.7   Accuracy 0.5  || GAN loss:  [-3.933436393737793, 0.6958619952201843, -6.671703815460205]\n",
      "Discriminator Loss :  0.69   Accuracy 0.5  || GAN loss:  [-4.561773777008057, 0.6888185143470764, -7.717759609222412]\n",
      "Discriminator Loss :  0.69   Accuracy 0.52  || GAN loss:  [-4.357302665710449, 0.6953046321868896, -7.378055095672607]\n",
      "Discriminator Loss :  0.68   Accuracy 0.53  || GAN loss:  [-3.310058832168579, 0.7015304565429688, -5.633686065673828]\n",
      "Discriminator Loss :  0.69   Accuracy 0.59  || GAN loss:  [-2.643275260925293, 0.6825723648071289, -4.51922082901001]\n",
      "Discriminator Loss :  0.69   Accuracy 0.45  || GAN loss:  [-4.89207124710083, 0.6860689520835876, -8.267796516418457]\n",
      "Discriminator Loss :  0.68   Accuracy 0.62  || GAN loss:  [-5.289371967315674, 0.6708901524543762, -8.927434921264648]\n",
      "Discriminator Loss :  0.69   Accuracy 0.53  || GAN loss:  [-4.508341312408447, 0.6928904056549072, -7.6293840408325195]\n",
      "Discriminator Loss :  0.68   Accuracy 0.55  || GAN loss:  [-3.737912178039551, 0.6854685544967651, -6.344098091125488]\n",
      "Discriminator Loss :  0.7   Accuracy 0.42  || GAN loss:  [-4.6258063316345215, 0.7048711776733398, -7.827155113220215]\n",
      "Discriminator Loss :  0.7   Accuracy 0.42  || GAN loss:  [-3.8007278442382812, 0.7137542963027954, -6.453505039215088]\n",
      "Discriminator Loss :  0.7   Accuracy 0.41  || GAN loss:  [-4.17253303527832, 0.6995588541030884, -7.07081413269043]\n",
      "Discriminator Loss :  0.69   Accuracy 0.52  || GAN loss:  [-5.2174072265625, 0.7027155160903931, -8.812797546386719]\n",
      "Discriminator Loss :  0.7   Accuracy 0.45  || GAN loss:  [-5.219663143157959, 0.670188307762146, -8.811136245727539]\n",
      "Discriminator Loss :  0.7   Accuracy 0.52  || GAN loss:  [-3.6918179988861084, 0.6945921182632446, -6.268795013427734]\n",
      "\n",
      "Epoch :  4\n"
     ]
    },
    {
     "data": {
      "application/vnd.jupyter.widget-view+json": {
       "model_id": "04b530afae4145b49ef92811ad14bd15",
       "version_major": 2,
       "version_minor": 0
      },
      "text/plain": [
       "HBox(children=(HTML(value=''), FloatProgress(value=0.0, max=18.0), HTML(value='')))"
      ]
     },
     "metadata": {},
     "output_type": "display_data"
    },
    {
     "name": "stdout",
     "output_type": "stream",
     "text": [
      "Discriminator Loss :  0.69   Accuracy 0.64  || GAN loss:  [-5.109708309173584, 0.7065584659576416, -8.633939743041992]\n",
      "Discriminator Loss :  0.69   Accuracy 0.53  || GAN loss:  [-3.683227062225342, 0.6915655136108398, -6.25397253036499]\n",
      "Discriminator Loss :  0.69   Accuracy 0.64  || GAN loss:  [-2.9714126586914062, 0.6956487894058228, -5.068295478820801]\n",
      "Discriminator Loss :  0.67   Accuracy 0.75  || GAN loss:  [-3.334613084793091, 0.6922717094421387, -5.673067092895508]\n",
      "Discriminator Loss :  0.69   Accuracy 0.52  || GAN loss:  [-3.0507383346557617, 0.6818228960037231, -5.198200702667236]\n",
      "Discriminator Loss :  0.7   Accuracy 0.52  || GAN loss:  [-3.7232017517089844, 0.7100079655647278, -6.323670864105225]\n",
      "Discriminator Loss :  0.7   Accuracy 0.44  || GAN loss:  [-3.28745698928833, 0.7123212218284607, -5.597815036773682]\n",
      "Discriminator Loss :  0.71   Accuracy 0.53  || GAN loss:  [-3.7858800888061523, 0.6943504810333252, -6.425525188446045]\n",
      "Discriminator Loss :  0.69   Accuracy 0.56  || GAN loss:  [-4.5779924392700195, 0.6722429990768433, -7.74202823638916]\n",
      "Discriminator Loss :  0.69   Accuracy 0.5  || GAN loss:  [-5.645414352416992, 0.7223718166351318, -9.5294189453125]\n",
      "Discriminator Loss :  0.71   Accuracy 0.38  || GAN loss:  [-4.6276750564575195, 0.6891031265258789, -7.827641487121582]\n",
      "Discriminator Loss :  0.72   Accuracy 0.39  || GAN loss:  [-4.728542327880859, 0.6975895166397095, -7.99716854095459]\n",
      "Discriminator Loss :  0.7   Accuracy 0.5  || GAN loss:  [-5.24081563949585, 0.7070936560630798, -8.852540969848633]\n",
      "Discriminator Loss :  0.69   Accuracy 0.47  || GAN loss:  [-3.4495697021484375, 0.7040749788284302, -5.866628170013428]\n",
      "Discriminator Loss :  0.69   Accuracy 0.45  || GAN loss:  [-4.243083477020264, 0.6998291015625, -7.188444137573242]\n",
      "Discriminator Loss :  0.69   Accuracy 0.52  || GAN loss:  [-3.8784873485565186, 0.7006036639213562, -6.5809125900268555]\n",
      "Discriminator Loss :  0.71   Accuracy 0.41  || GAN loss:  [-2.910668134689331, 0.673227071762085, -4.96331787109375]\n",
      "Discriminator Loss :  0.7   Accuracy 0.44  || GAN loss:  [-3.653352737426758, 0.6880561113357544, -6.203597068786621]\n",
      "\n",
      "Epoch :  5\n"
     ]
    },
    {
     "data": {
      "application/vnd.jupyter.widget-view+json": {
       "model_id": "bfe7b7b958ab44769ce2ad0af808968e",
       "version_major": 2,
       "version_minor": 0
      },
      "text/plain": [
       "HBox(children=(HTML(value=''), FloatProgress(value=0.0, max=18.0), HTML(value='')))"
      ]
     },
     "metadata": {},
     "output_type": "display_data"
    },
    {
     "name": "stdout",
     "output_type": "stream",
     "text": [
      "Discriminator Loss :  0.69   Accuracy 0.58  || GAN loss:  [-3.3713486194610596, 0.7128233313560486, -5.737718105316162]\n",
      "Discriminator Loss :  0.69   Accuracy 0.59  || GAN loss:  [-4.612176895141602, 0.7001006007194519, -7.80364465713501]\n",
      "Discriminator Loss :  0.68   Accuracy 0.5  || GAN loss:  [-4.391007900238037, 0.711043119430542, -7.436853885650635]\n",
      "Discriminator Loss :  0.69   Accuracy 0.59  || GAN loss:  [-3.7562849521636963, 0.6925089359283447, -6.375892639160156]\n",
      "Discriminator Loss :  0.69   Accuracy 0.48  || GAN loss:  [-3.3003225326538086, 0.7019903063774109, -5.617535591125488]\n",
      "Discriminator Loss :  0.69   Accuracy 0.48  || GAN loss:  [-5.411744594573975, 0.679164469242096, -9.132767677307129]\n",
      "Discriminator Loss :  0.69   Accuracy 0.55  || GAN loss:  [-2.668393850326538, 0.6971664428710938, -4.5635175704956055]\n",
      "Discriminator Loss :  0.71   Accuracy 0.38  || GAN loss:  [-6.3036980628967285, 0.7099077105522156, -10.624480247497559]\n",
      "Discriminator Loss :  0.67   Accuracy 0.52  || GAN loss:  [-5.031863689422607, 0.709551215171814, -8.504697799682617]\n",
      "Discriminator Loss :  0.69   Accuracy 0.55  || GAN loss:  [-3.642483711242676, 0.6890425086021423, -6.185646057128906]\n",
      "Discriminator Loss :  0.69   Accuracy 0.5  || GAN loss:  [-4.480637073516846, 0.6772942543029785, -7.580610752105713]\n",
      "Discriminator Loss :  0.69   Accuracy 0.59  || GAN loss:  [-5.165180683135986, 0.6968026161193848, -8.724767684936523]\n",
      "Discriminator Loss :  0.7   Accuracy 0.52  || GAN loss:  [-4.762524127960205, 0.696200966835022, -8.053573608398438]\n",
      "Discriminator Loss :  0.69   Accuracy 0.44  || GAN loss:  [-5.944768905639648, 0.7116521596908569, -10.026556015014648]\n",
      "Discriminator Loss :  0.68   Accuracy 0.56  || GAN loss:  [-5.053980350494385, 0.7115293741226196, -8.541889190673828]\n",
      "Discriminator Loss :  0.7   Accuracy 0.5  || GAN loss:  [-5.271209716796875, 0.6995010375976562, -8.901932716369629]\n",
      "Discriminator Loss :  0.68   Accuracy 0.59  || GAN loss:  [-4.064138412475586, 0.6858994960784912, -6.887880325317383]\n",
      "Discriminator Loss :  0.68   Accuracy 0.58  || GAN loss:  [-5.656182765960693, 0.7033005952835083, -9.544187545776367]\n",
      "\n",
      "Epoch :  6\n"
     ]
    },
    {
     "data": {
      "application/vnd.jupyter.widget-view+json": {
       "model_id": "a60d20acd966440d9198d508dfe53d3d",
       "version_major": 2,
       "version_minor": 0
      },
      "text/plain": [
       "HBox(children=(HTML(value=''), FloatProgress(value=0.0, max=18.0), HTML(value='')))"
      ]
     },
     "metadata": {},
     "output_type": "display_data"
    },
    {
     "name": "stdout",
     "output_type": "stream",
     "text": [
      "Discriminator Loss :  0.69   Accuracy 0.58  || GAN loss:  [-4.7685723304748535, 0.7049763202667236, -8.065115928649902]\n",
      "Discriminator Loss :  0.69   Accuracy 0.52  || GAN loss:  [-4.116037368774414, 0.7182223796844482, -6.979765892028809]\n",
      "Discriminator Loss :  0.69   Accuracy 0.61  || GAN loss:  [-3.7861814498901367, 0.6940287351608276, -6.425973892211914]\n",
      "Discriminator Loss :  0.7   Accuracy 0.48  || GAN loss:  [-5.472309112548828, 0.7038800716400146, -9.237828254699707]\n",
      "Discriminator Loss :  0.68   Accuracy 0.58  || GAN loss:  [-5.642789363861084, 0.7217345237731934, -9.524937629699707]\n",
      "Discriminator Loss :  0.69   Accuracy 0.61  || GAN loss:  [-5.140604019165039, 0.6823559403419495, -8.681398391723633]\n",
      "Discriminator Loss :  0.69   Accuracy 0.61  || GAN loss:  [-3.674710750579834, 0.7024886012077332, -6.241599082946777]\n",
      "Discriminator Loss :  0.69   Accuracy 0.48  || GAN loss:  [-4.729166507720947, 0.6885581612586975, -7.996703147888184]\n",
      "Discriminator Loss :  0.68   Accuracy 0.62  || GAN loss:  [-5.12824821472168, 0.7075320482254028, -8.66500186920166]\n",
      "Discriminator Loss :  0.7   Accuracy 0.48  || GAN loss:  [-5.833047389984131, 0.6920121312141418, -9.837080001831055]\n",
      "Discriminator Loss :  0.69   Accuracy 0.48  || GAN loss:  [-5.099181652069092, 0.6977084875106812, -8.614920616149902]\n",
      "Discriminator Loss :  0.69   Accuracy 0.58  || GAN loss:  [-4.714591979980469, 0.7127227783203125, -7.9764404296875]\n",
      "Discriminator Loss :  0.69   Accuracy 0.44  || GAN loss:  [-5.864929676055908, 0.6923800706863403, -9.890279769897461]\n",
      "Discriminator Loss :  0.7   Accuracy 0.55  || GAN loss:  [-5.441868305206299, 0.715306282043457, -9.188998222351074]\n",
      "Discriminator Loss :  0.7   Accuracy 0.45  || GAN loss:  [-4.1664018630981445, 0.6919682025909424, -7.059330940246582]\n",
      "Discriminator Loss :  0.69   Accuracy 0.61  || GAN loss:  [-3.16369891166687, 0.7015206217765808, -5.389751434326172]\n",
      "Discriminator Loss :  0.69   Accuracy 0.56  || GAN loss:  [-4.941717624664307, 0.7049233913421631, -8.353682518005371]\n",
      "Discriminator Loss :  0.69   Accuracy 0.64  || GAN loss:  [-4.227422714233398, 0.706142008304596, -7.163394927978516]\n",
      "\n",
      "Epoch :  7\n"
     ]
    },
    {
     "data": {
      "application/vnd.jupyter.widget-view+json": {
       "model_id": "4039fb46bd944f0886b8dfaa5f3a2eeb",
       "version_major": 2,
       "version_minor": 0
      },
      "text/plain": [
       "HBox(children=(HTML(value=''), FloatProgress(value=0.0, max=18.0), HTML(value='')))"
      ]
     },
     "metadata": {},
     "output_type": "display_data"
    },
    {
     "name": "stdout",
     "output_type": "stream",
     "text": [
      "Discriminator Loss :  0.69   Accuracy 0.59  || GAN loss:  [-4.3954176902771, 0.684640645980835, -7.439802646636963]\n",
      "Discriminator Loss :  0.69   Accuracy 0.57  || GAN loss:  [-4.7672858238220215, 0.7030745148658752, -8.062654495239258]\n",
      "Discriminator Loss :  0.69   Accuracy 0.61  || GAN loss:  [-4.209295272827148, 0.7124726176261902, -7.134237289428711]\n",
      "Discriminator Loss :  0.67   Accuracy 0.61  || GAN loss:  [-5.375691890716553, 0.7065718173980713, -9.077248573303223]\n",
      "Discriminator Loss :  0.7   Accuracy 0.52  || GAN loss:  [-5.4095683097839355, 0.7009744644165039, -9.132776260375977]\n",
      "Discriminator Loss :  0.71   Accuracy 0.45  || GAN loss:  [-4.501002311706543, 0.7202316522598267, -7.621708869934082]\n",
      "Discriminator Loss :  0.68   Accuracy 0.61  || GAN loss:  [-4.308203220367432, 0.7128036618232727, -7.299139022827148]\n",
      "Discriminator Loss :  0.7   Accuracy 0.48  || GAN loss:  [-5.3675947189331055, 0.6990318894386292, -9.062496185302734]\n",
      "Discriminator Loss :  0.69   Accuracy 0.56  || GAN loss:  [-5.756062984466553, 0.7086194753646851, -9.711541175842285]\n",
      "Discriminator Loss :  0.7   Accuracy 0.45  || GAN loss:  [-4.2567830085754395, 0.7137517929077148, -7.213597297668457]\n",
      "Discriminator Loss :  0.7   Accuracy 0.55  || GAN loss:  [-5.719178199768066, 0.7029461860656738, -9.649121284484863]\n",
      "Discriminator Loss :  0.7   Accuracy 0.56  || GAN loss:  [-4.891160488128662, 0.7118453979492188, -8.270574569702148]\n",
      "Discriminator Loss :  0.69   Accuracy 0.55  || GAN loss:  [-5.125197887420654, 0.7063094973564148, -8.659714698791504]\n",
      "Discriminator Loss :  0.69   Accuracy 0.58  || GAN loss:  [-4.85684871673584, 0.7301347255706787, -8.216436386108398]\n",
      "Discriminator Loss :  0.69   Accuracy 0.5  || GAN loss:  [-4.326679229736328, 0.6979314088821411, -7.32745361328125]\n",
      "Discriminator Loss :  0.69   Accuracy 0.56  || GAN loss:  [-5.416952610015869, 0.7075413465499878, -9.146177291870117]\n",
      "Discriminator Loss :  0.7   Accuracy 0.47  || GAN loss:  [-4.880218029022217, 0.7229436635971069, -8.254186630249023]\n",
      "Discriminator Loss :  0.69   Accuracy 0.52  || GAN loss:  [-5.231046676635742, 0.7289307713508606, -8.839899063110352]\n",
      "\n",
      "Epoch :  8\n"
     ]
    },
    {
     "data": {
      "application/vnd.jupyter.widget-view+json": {
       "model_id": "8dc8f79fa3ae447394a062f69a894755",
       "version_major": 2,
       "version_minor": 0
      },
      "text/plain": [
       "HBox(children=(HTML(value=''), FloatProgress(value=0.0, max=18.0), HTML(value='')))"
      ]
     },
     "metadata": {},
     "output_type": "display_data"
    },
    {
     "name": "stdout",
     "output_type": "stream",
     "text": [
      "Discriminator Loss :  0.69   Accuracy 0.61  || GAN loss:  [-6.662089824676514, 0.6993401050567627, -11.220039367675781]\n",
      "Discriminator Loss :  0.69   Accuracy 0.59  || GAN loss:  [-2.997309684753418, 0.7151860594749451, -5.114713668823242]\n",
      "Discriminator Loss :  0.69   Accuracy 0.5  || GAN loss:  [-5.030612945556641, 0.7065612077713013, -8.502115249633789]\n",
      "Discriminator Loss :  0.69   Accuracy 0.53  || GAN loss:  [-5.31616735458374, 0.704272985458374, -8.977657318115234]\n",
      "Discriminator Loss :  0.68   Accuracy 0.55  || GAN loss:  [-5.150873184204102, 0.7240046262741089, -8.705455780029297]\n",
      "Discriminator Loss :  0.68   Accuracy 0.66  || GAN loss:  [-5.019161701202393, 0.7132974863052368, -8.484151840209961]\n",
      "Discriminator Loss :  0.69   Accuracy 0.55  || GAN loss:  [-6.336422443389893, 0.7195804119110107, -10.680633544921875]\n",
      "Discriminator Loss :  0.67   Accuracy 0.64  || GAN loss:  [-4.708101749420166, 0.7150038480758667, -7.96600341796875]\n",
      "Discriminator Loss :  0.7   Accuracy 0.5  || GAN loss:  [-5.918972492218018, 0.6867560744285583, -9.979413032531738]\n",
      "Discriminator Loss :  0.68   Accuracy 0.55  || GAN loss:  [-6.184878826141357, 0.7176182866096497, -10.427733421325684]\n",
      "Discriminator Loss :  0.69   Accuracy 0.52  || GAN loss:  [-5.0132622718811035, 0.7227872610092163, -8.475900650024414]\n",
      "Discriminator Loss :  0.68   Accuracy 0.58  || GAN loss:  [-6.086639404296875, 0.7183688282966614, -10.264126777648926]\n",
      "Discriminator Loss :  0.69   Accuracy 0.53  || GAN loss:  [-5.113781929016113, 0.7315104603767395, -8.644887924194336]\n",
      "Discriminator Loss :  0.69   Accuracy 0.56  || GAN loss:  [-6.205187797546387, 0.7160509824752808, -10.461320877075195]\n",
      "Discriminator Loss :  0.69   Accuracy 0.56  || GAN loss:  [-2.651071786880493, 0.7389844655990601, -4.541616916656494]\n",
      "Discriminator Loss :  0.7   Accuracy 0.47  || GAN loss:  [-3.0329294204711914, 0.7096107006072998, -5.173150539398193]\n",
      "Discriminator Loss :  0.69   Accuracy 0.58  || GAN loss:  [-4.382246494293213, 0.7152318954467773, -7.422948837280273]\n",
      "Discriminator Loss :  0.68   Accuracy 0.61  || GAN loss:  [-4.338805198669434, 0.6987366080284119, -7.3477983474731445]\n",
      "\n",
      "Epoch :  9\n"
     ]
    },
    {
     "data": {
      "application/vnd.jupyter.widget-view+json": {
       "model_id": "edf7ea62caaa4f7fa8265190ee77a16b",
       "version_major": 2,
       "version_minor": 0
      },
      "text/plain": [
       "HBox(children=(HTML(value=''), FloatProgress(value=0.0, max=18.0), HTML(value='')))"
      ]
     },
     "metadata": {},
     "output_type": "display_data"
    },
    {
     "name": "stdout",
     "output_type": "stream",
     "text": [
      "Discriminator Loss :  0.69   Accuracy 0.55  || GAN loss:  [-5.271812438964844, 0.711353063583374, -8.904912948608398]\n",
      "Discriminator Loss :  0.69   Accuracy 0.55  || GAN loss:  [-3.520315408706665, 0.7182982563972473, -5.986908435821533]\n",
      "Discriminator Loss :  0.69   Accuracy 0.66  || GAN loss:  [-5.444235324859619, 0.7327026128768921, -9.195842742919922]\n",
      "Discriminator Loss :  0.69   Accuracy 0.59  || GAN loss:  [-4.062607288360596, 0.7162113189697266, -6.890380382537842]\n",
      "Discriminator Loss :  0.7   Accuracy 0.48  || GAN loss:  [-4.0834641456604, 0.720773458480835, -6.925902366638184]\n",
      "Discriminator Loss :  0.7   Accuracy 0.53  || GAN loss:  [-5.6428141593933105, 0.7189250588417053, -9.524511337280273]\n",
      "Discriminator Loss :  0.67   Accuracy 0.61  || GAN loss:  [-4.314166069030762, 0.7216262817382812, -7.310547351837158]\n",
      "Discriminator Loss :  0.69   Accuracy 0.56  || GAN loss:  [-5.101006984710693, 0.7331880331039429, -8.623876571655273]\n",
      "Discriminator Loss :  0.69   Accuracy 0.53  || GAN loss:  [-5.584868907928467, 0.7094642519950867, -9.426358222961426]\n",
      "Discriminator Loss :  0.69   Accuracy 0.48  || GAN loss:  [-5.169995307922363, 0.6953346133232117, -8.732547760009766]\n",
      "Discriminator Loss :  0.69   Accuracy 0.55  || GAN loss:  [-3.314770221710205, 0.7207105159759521, -5.644735336303711]\n",
      "Discriminator Loss :  0.71   Accuracy 0.5  || GAN loss:  [-5.779934883117676, 0.7184709310531616, -9.752969741821289]\n",
      "Discriminator Loss :  0.7   Accuracy 0.48  || GAN loss:  [-5.43282413482666, 0.7268798351287842, -9.175853729248047]\n",
      "Discriminator Loss :  0.68   Accuracy 0.61  || GAN loss:  [-5.75307035446167, 0.73442542552948, -9.710854530334473]\n",
      "Discriminator Loss :  0.69   Accuracy 0.47  || GAN loss:  [-5.500898361206055, 0.7256021499633789, -9.289097785949707]\n",
      "Discriminator Loss :  0.7   Accuracy 0.56  || GAN loss:  [-8.014348983764648, 0.7334823608398438, -13.479494094848633]\n",
      "Discriminator Loss :  0.69   Accuracy 0.55  || GAN loss:  [-7.837982177734375, 0.7107599377632141, -13.1817626953125]\n",
      "Discriminator Loss :  0.69   Accuracy 0.56  || GAN loss:  [-5.220730304718018, 0.7283303737640381, -8.82260513305664]\n",
      "\n",
      "Epoch :  10\n"
     ]
    },
    {
     "data": {
      "application/vnd.jupyter.widget-view+json": {
       "model_id": "6efe748a240f439787ee3e080be7f663",
       "version_major": 2,
       "version_minor": 0
      },
      "text/plain": [
       "HBox(children=(HTML(value=''), FloatProgress(value=0.0, max=18.0), HTML(value='')))"
      ]
     },
     "metadata": {},
     "output_type": "display_data"
    },
    {
     "name": "stdout",
     "output_type": "stream",
     "text": [
      "Discriminator Loss :  0.68   Accuracy 0.72  || GAN loss:  [-6.199898719787598, 0.7184018492698669, -10.452898025512695]\n",
      "Discriminator Loss :  0.69   Accuracy 0.57  || GAN loss:  [-8.362237930297852, 0.7451164126396179, -14.061248779296875]\n",
      "Discriminator Loss :  0.69   Accuracy 0.59  || GAN loss:  [-7.073578834533691, 0.7245998382568359, -11.910064697265625]\n",
      "Discriminator Loss :  0.68   Accuracy 0.61  || GAN loss:  [-8.445582389831543, 0.7104461193084717, -14.194377899169922]\n",
      "Discriminator Loss :  0.7   Accuracy 0.56  || GAN loss:  [-7.272703170776367, 0.7214477062225342, -12.241413116455078]\n",
      "Discriminator Loss :  0.69   Accuracy 0.52  || GAN loss:  [-9.681363105773926, 0.7271558046340942, -16.256797790527344]\n",
      "Discriminator Loss :  0.68   Accuracy 0.59  || GAN loss:  [-6.302838325500488, 0.7068452835083008, -10.622537612915039]\n",
      "Discriminator Loss :  0.67   Accuracy 0.64  || GAN loss:  [-9.230912208557129, 0.7134371995925903, -15.503759384155273]\n",
      "Discriminator Loss :  0.71   Accuracy 0.39  || GAN loss:  [-8.426264762878418, 0.7153121829032898, -14.162992477416992]\n",
      "Discriminator Loss :  0.69   Accuracy 0.53  || GAN loss:  [-7.758371829986572, 0.7165761590003967, -13.050048828125]\n",
      "Discriminator Loss :  0.7   Accuracy 0.41  || GAN loss:  [-8.684379577636719, 0.7158803939819336, -14.593279838562012]\n",
      "Discriminator Loss :  0.69   Accuracy 0.55  || GAN loss:  [-9.849434852600098, 0.7174429893493652, -16.535297393798828]\n",
      "Discriminator Loss :  0.69   Accuracy 0.42  || GAN loss:  [-6.26005744934082, 0.7345239520072937, -10.555849075317383]\n",
      "Discriminator Loss :  0.69   Accuracy 0.5  || GAN loss:  [-9.797857284545898, 0.7047877311706543, -16.44722557067871]\n",
      "Discriminator Loss :  0.7   Accuracy 0.59  || GAN loss:  [-9.158528327941895, 0.7316588759422302, -15.38615608215332]\n",
      "Discriminator Loss :  0.69   Accuracy 0.48  || GAN loss:  [-7.237607002258301, 0.7020885944366455, -12.179693222045898]\n",
      "Discriminator Loss :  0.7   Accuracy 0.55  || GAN loss:  [-9.42296028137207, 0.7253119945526123, -15.825818061828613]\n",
      "Discriminator Loss :  0.68   Accuracy 0.59  || GAN loss:  [-7.296084880828857, 0.7205888032913208, -12.28023910522461]\n",
      "\n",
      "Epoch :  11\n"
     ]
    },
    {
     "data": {
      "application/vnd.jupyter.widget-view+json": {
       "model_id": "e5076b30d78144d3b61ab09950e284f5",
       "version_major": 2,
       "version_minor": 0
      },
      "text/plain": [
       "HBox(children=(HTML(value=''), FloatProgress(value=0.0, max=18.0), HTML(value='')))"
      ]
     },
     "metadata": {},
     "output_type": "display_data"
    },
    {
     "name": "stdout",
     "output_type": "stream",
     "text": [
      "Discriminator Loss :  0.69   Accuracy 0.58  || GAN loss:  [-6.9392595291137695, 0.6995028853416443, -11.682015419006348]\n",
      "Discriminator Loss :  0.68   Accuracy 0.59  || GAN loss:  [-5.470401287078857, 0.7159121632575989, -9.236654281616211]\n",
      "Discriminator Loss :  0.7   Accuracy 0.52  || GAN loss:  [-7.466947078704834, 0.7067028284072876, -12.562694549560547]\n",
      "Discriminator Loss :  0.67   Accuracy 0.64  || GAN loss:  [-9.17273998260498, 0.7009515762329102, -15.40472412109375]\n",
      "Discriminator Loss :  0.68   Accuracy 0.55  || GAN loss:  [-7.8984503746032715, 0.7129629850387573, -13.282910346984863]\n",
      "Discriminator Loss :  0.69   Accuracy 0.45  || GAN loss:  [-7.9589080810546875, 0.7393361926078796, -13.388069152832031]\n",
      "Discriminator Loss :  0.7   Accuracy 0.48  || GAN loss:  [-9.917410850524902, 0.7279837131500244, -16.650348663330078]\n",
      "Discriminator Loss :  0.69   Accuracy 0.56  || GAN loss:  [-7.756004810333252, 0.7094767093658447, -13.044919967651367]\n",
      "Discriminator Loss :  0.69   Accuracy 0.48  || GAN loss:  [-6.888564109802246, 0.730607807636261, -11.602707862854004]\n",
      "Discriminator Loss :  0.69   Accuracy 0.53  || GAN loss:  [-7.753294944763184, 0.7284359335899353, -13.043563842773438]\n",
      "Discriminator Loss :  0.69   Accuracy 0.52  || GAN loss:  [-8.277363777160645, 0.7206904888153076, -13.91572093963623]\n",
      "Discriminator Loss :  0.71   Accuracy 0.34  || GAN loss:  [-5.189258098602295, 0.7220762372016907, -8.769108772277832]\n",
      "Discriminator Loss :  0.67   Accuracy 0.66  || GAN loss:  [-8.490771293640137, 0.7330816388130188, -14.27346420288086]\n",
      "Discriminator Loss :  0.68   Accuracy 0.58  || GAN loss:  [-8.669318199157715, 0.7260810732841492, -14.569876670837402]\n",
      "Discriminator Loss :  0.69   Accuracy 0.5  || GAN loss:  [-7.563047885894775, 0.7223337888717651, -12.725467681884766]\n",
      "Discriminator Loss :  0.69   Accuracy 0.62  || GAN loss:  [-8.951226234436035, 0.7292568683624268, -15.040251731872559]\n",
      "Discriminator Loss :  0.68   Accuracy 0.56  || GAN loss:  [-7.866025447845459, 0.7054044008255005, -13.227609634399414]\n",
      "Discriminator Loss :  0.68   Accuracy 0.55  || GAN loss:  [-9.442253112792969, 0.7163211703300476, -15.856474876403809]\n",
      "\n",
      "Epoch :  12\n"
     ]
    },
    {
     "data": {
      "application/vnd.jupyter.widget-view+json": {
       "model_id": "76a30c3268b547dc8955c454fd772c4d",
       "version_major": 2,
       "version_minor": 0
      },
      "text/plain": [
       "HBox(children=(HTML(value=''), FloatProgress(value=0.0, max=18.0), HTML(value='')))"
      ]
     },
     "metadata": {},
     "output_type": "display_data"
    },
    {
     "name": "stdout",
     "output_type": "stream",
     "text": [
      "Discriminator Loss :  0.69   Accuracy 0.62  || GAN loss:  [-8.0227689743042, 0.7148829698562622, -13.490428924560547]\n",
      "Discriminator Loss :  0.69   Accuracy 0.58  || GAN loss:  [-9.822772026062012, 0.7221250534057617, -16.491640090942383]\n",
      "Discriminator Loss :  0.69   Accuracy 0.5  || GAN loss:  [-11.331811904907227, 0.7195361852645874, -19.006275177001953]\n",
      "Discriminator Loss :  0.68   Accuracy 0.52  || GAN loss:  [-10.197025299072266, 0.7213842868804932, -17.115272521972656]\n",
      "Discriminator Loss :  0.68   Accuracy 0.61  || GAN loss:  [-8.694452285766602, 0.7205777168273926, -14.610849380493164]\n",
      "Discriminator Loss :  0.68   Accuracy 0.59  || GAN loss:  [-7.9271626472473145, 0.705514132976532, -13.329523086547852]\n",
      "Discriminator Loss :  0.68   Accuracy 0.62  || GAN loss:  [-6.951990604400635, 0.7423139810562134, -11.710370063781738]\n",
      "Discriminator Loss :  0.69   Accuracy 0.58  || GAN loss:  [-9.444941520690918, 0.7111843824386597, -15.860098838806152]\n",
      "Discriminator Loss :  0.69   Accuracy 0.58  || GAN loss:  [-6.568109512329102, 0.7340654134750366, -11.069192886352539]\n",
      "Discriminator Loss :  0.68   Accuracy 0.59  || GAN loss:  [-9.632015228271484, 0.721686065196991, -16.17363929748535]\n",
      "Discriminator Loss :  0.69   Accuracy 0.56  || GAN loss:  [-8.444962501525879, 0.7312114238739014, -14.196805953979492]\n",
      "Discriminator Loss :  0.68   Accuracy 0.59  || GAN loss:  [-10.475425720214844, 0.7193808555603027, -17.57893943786621]\n",
      "Discriminator Loss :  0.68   Accuracy 0.56  || GAN loss:  [-6.538110733032227, 0.7140129208564758, -11.015852928161621]\n",
      "Discriminator Loss :  0.7   Accuracy 0.5  || GAN loss:  [-8.686808586120605, 0.7229361534118652, -14.598502159118652]\n",
      "Discriminator Loss :  0.68   Accuracy 0.58  || GAN loss:  [-8.456308364868164, 0.7087802886962891, -14.211977005004883]\n",
      "Discriminator Loss :  0.67   Accuracy 0.61  || GAN loss:  [-9.876888275146484, 0.7099443078041077, -16.579803466796875]\n",
      "Discriminator Loss :  0.69   Accuracy 0.55  || GAN loss:  [-7.739720344543457, 0.7354679107666016, -13.022111892700195]\n",
      "Discriminator Loss :  0.69   Accuracy 0.55  || GAN loss:  [-7.77972412109375, 0.7262049913406372, -13.087240219116211]\n",
      "\n",
      "Epoch :  13\n"
     ]
    },
    {
     "data": {
      "application/vnd.jupyter.widget-view+json": {
       "model_id": "cb6424a7b4e141bbb8edc010c54f14e8",
       "version_major": 2,
       "version_minor": 0
      },
      "text/plain": [
       "HBox(children=(HTML(value=''), FloatProgress(value=0.0, max=18.0), HTML(value='')))"
      ]
     },
     "metadata": {},
     "output_type": "display_data"
    },
    {
     "name": "stdout",
     "output_type": "stream",
     "text": [
      "Discriminator Loss :  0.68   Accuracy 0.66  || GAN loss:  [-9.910826683044434, 0.7188771963119507, -16.63785743713379]\n",
      "Discriminator Loss :  0.69   Accuracy 0.62  || GAN loss:  [-12.896515846252441, 0.7209011912345886, -21.614341735839844]\n",
      "Discriminator Loss :  0.69   Accuracy 0.64  || GAN loss:  [-10.3914155960083, 0.7304232716560364, -17.44076156616211]\n",
      "Discriminator Loss :  0.69   Accuracy 0.56  || GAN loss:  [-9.837979316711426, 0.7299126982688904, -16.51828384399414]\n",
      "Discriminator Loss :  0.7   Accuracy 0.53  || GAN loss:  [-13.300559997558594, 0.7219126224517822, -22.287918090820312]\n",
      "Discriminator Loss :  0.69   Accuracy 0.58  || GAN loss:  [-10.84096622467041, 0.7190452814102173, -18.1881160736084]\n",
      "Discriminator Loss :  0.69   Accuracy 0.59  || GAN loss:  [-11.413167953491211, 0.7327094078063965, -19.14406394958496]\n",
      "Discriminator Loss :  0.67   Accuracy 0.58  || GAN loss:  [-8.451086044311523, 0.7370895147323608, -14.207989692687988]\n",
      "Discriminator Loss :  0.7   Accuracy 0.48  || GAN loss:  [-7.897124767303467, 0.7282891273498535, -13.283255577087402]\n",
      "Discriminator Loss :  0.66   Accuracy 0.7  || GAN loss:  [-9.452720642089844, 0.7111992835998535, -15.873067855834961]\n",
      "Discriminator Loss :  0.68   Accuracy 0.52  || GAN loss:  [-8.878682136535645, 0.7248056530952454, -14.918603897094727]\n",
      "Discriminator Loss :  0.68   Accuracy 0.59  || GAN loss:  [-9.177359580993652, 0.7246711254119873, -15.416376113891602]\n",
      "Discriminator Loss :  0.69   Accuracy 0.52  || GAN loss:  [-10.544858932495117, 0.7392411828041077, -17.69797134399414]\n",
      "Discriminator Loss :  0.68   Accuracy 0.66  || GAN loss:  [-9.814507484436035, 0.7104951739311218, -16.475927352905273]\n",
      "Discriminator Loss :  0.69   Accuracy 0.53  || GAN loss:  [-5.60242223739624, 0.7470413446426392, -9.46187686920166]\n",
      "Discriminator Loss :  0.69   Accuracy 0.66  || GAN loss:  [-8.70483112335205, 0.7363957166671753, -14.63078498840332]\n",
      "Discriminator Loss :  0.68   Accuracy 0.55  || GAN loss:  [-6.373837947845459, 0.7351232171058655, -10.745583534240723]\n",
      "Discriminator Loss :  0.68   Accuracy 0.61  || GAN loss:  [-9.402413368225098, 0.7434734106063843, -15.794601440429688]\n",
      "\n",
      "Epoch :  14\n"
     ]
    },
    {
     "data": {
      "application/vnd.jupyter.widget-view+json": {
       "model_id": "ab582dcbf90642e0b6264c444985e83f",
       "version_major": 2,
       "version_minor": 0
      },
      "text/plain": [
       "HBox(children=(HTML(value=''), FloatProgress(value=0.0, max=18.0), HTML(value='')))"
      ]
     },
     "metadata": {},
     "output_type": "display_data"
    },
    {
     "name": "stdout",
     "output_type": "stream",
     "text": [
      "Discriminator Loss :  0.69   Accuracy 0.62  || GAN loss:  [-6.528472900390625, 0.716073215007782, -11.00013256072998]\n",
      "Discriminator Loss :  0.69   Accuracy 0.58  || GAN loss:  [-9.625006675720215, 0.7248687744140625, -16.16248893737793]\n",
      "Discriminator Loss :  0.68   Accuracy 0.53  || GAN loss:  [-9.048632621765137, 0.7451529502868652, -15.205245971679688]\n",
      "Discriminator Loss :  0.68   Accuracy 0.58  || GAN loss:  [-8.658841133117676, 0.7224538326263428, -14.551811218261719]\n",
      "Discriminator Loss :  0.68   Accuracy 0.61  || GAN loss:  [-9.257946968078613, 0.7349417209625244, -15.552400588989258]\n",
      "Discriminator Loss :  0.68   Accuracy 0.52  || GAN loss:  [-9.025704383850098, 0.7245594263076782, -15.16360092163086]\n",
      "Discriminator Loss :  0.69   Accuracy 0.5  || GAN loss:  [-11.836411476135254, 0.7333863973617554, -19.84958267211914]\n",
      "Discriminator Loss :  0.69   Accuracy 0.59  || GAN loss:  [-10.21794605255127, 0.7260184288024902, -17.15091323852539]\n",
      "Discriminator Loss :  0.68   Accuracy 0.59  || GAN loss:  [-7.409030437469482, 0.7487843036651611, -12.473180770874023]\n",
      "Discriminator Loss :  0.68   Accuracy 0.59  || GAN loss:  [-11.209892272949219, 0.7105685472488403, -18.80158233642578]\n",
      "Discriminator Loss :  0.69   Accuracy 0.56  || GAN loss:  [-8.909960746765137, 0.7091712355613708, -14.96812915802002]\n",
      "Discriminator Loss :  0.69   Accuracy 0.61  || GAN loss:  [-9.590892791748047, 0.7296724319458008, -16.106433868408203]\n",
      "Discriminator Loss :  0.7   Accuracy 0.52  || GAN loss:  [-9.243967056274414, 0.7239142060279846, -15.527263641357422]\n",
      "Discriminator Loss :  0.69   Accuracy 0.55  || GAN loss:  [-9.750899314880371, 0.7394499778747559, -16.374740600585938]\n",
      "Discriminator Loss :  0.68   Accuracy 0.61  || GAN loss:  [-9.089909553527832, 0.7273707389831543, -15.271076202392578]\n",
      "Discriminator Loss :  0.68   Accuracy 0.67  || GAN loss:  [-6.566738605499268, 0.7167487144470215, -11.064022064208984]\n",
      "Discriminator Loss :  0.68   Accuracy 0.59  || GAN loss:  [-11.712409019470215, 0.75323885679245, -19.646221160888672]\n",
      "Discriminator Loss :  0.68   Accuracy 0.61  || GAN loss:  [-10.669900894165039, 0.7251258492469788, -17.904022216796875]\n",
      "\n",
      "Epoch :  15\n"
     ]
    },
    {
     "data": {
      "application/vnd.jupyter.widget-view+json": {
       "model_id": "7290face558e4f328a1b18f4c02a5549",
       "version_major": 2,
       "version_minor": 0
      },
      "text/plain": [
       "HBox(children=(HTML(value=''), FloatProgress(value=0.0, max=18.0), HTML(value='')))"
      ]
     },
     "metadata": {},
     "output_type": "display_data"
    },
    {
     "name": "stdout",
     "output_type": "stream",
     "text": [
      "Discriminator Loss :  0.68   Accuracy 0.61  || GAN loss:  [-7.973130226135254, 0.7202619910240173, -13.408594131469727]\n",
      "Discriminator Loss :  0.69   Accuracy 0.61  || GAN loss:  [-9.650626182556152, 0.728384256362915, -16.205774307250977]\n",
      "Discriminator Loss :  0.69   Accuracy 0.56  || GAN loss:  [-10.728434562683105, 0.7425949573516846, -18.00448989868164]\n",
      "Discriminator Loss :  0.69   Accuracy 0.58  || GAN loss:  [-7.157848834991455, 0.7347288131713867, -12.052202224731445]\n",
      "Discriminator Loss :  0.69   Accuracy 0.55  || GAN loss:  [-12.787192344665527, 0.6918138265609741, -21.427288055419922]\n",
      "Discriminator Loss :  0.68   Accuracy 0.64  || GAN loss:  [-9.058389663696289, 0.7282227277755737, -15.218687057495117]\n",
      "Discriminator Loss :  0.69   Accuracy 0.61  || GAN loss:  [-10.243575096130371, 0.7237813472747803, -17.193254470825195]\n",
      "Discriminator Loss :  0.69   Accuracy 0.53  || GAN loss:  [-9.696573257446289, 0.7252415418624878, -16.281827926635742]\n",
      "Discriminator Loss :  0.7   Accuracy 0.52  || GAN loss:  [-8.213254928588867, 0.7268508672714233, -13.809900283813477]\n",
      "Discriminator Loss :  0.69   Accuracy 0.55  || GAN loss:  [-10.212859153747559, 0.7306651473045349, -17.14320945739746]\n",
      "Discriminator Loss :  0.67   Accuracy 0.64  || GAN loss:  [-8.895819664001465, 0.7217122912406921, -14.946651458740234]\n",
      "Discriminator Loss :  0.68   Accuracy 0.61  || GAN loss:  [-5.2941365242004395, 0.7219787836074829, -8.943890571594238]\n",
      "Discriminator Loss :  0.69   Accuracy 0.5  || GAN loss:  [-11.087533950805664, 0.723250150680542, -18.599763870239258]\n",
      "Discriminator Loss :  0.69   Accuracy 0.59  || GAN loss:  [-11.781291007995605, 0.7251096963882446, -19.756336212158203]\n",
      "Discriminator Loss :  0.7   Accuracy 0.56  || GAN loss:  [-8.120450973510742, 0.7281218767166138, -13.655438423156738]\n",
      "Discriminator Loss :  0.68   Accuracy 0.66  || GAN loss:  [-5.907762050628662, 0.7190479040145874, -9.966111183166504]\n",
      "Discriminator Loss :  0.67   Accuracy 0.69  || GAN loss:  [-10.39254379272461, 0.7584568858146667, -17.447315216064453]\n",
      "Discriminator Loss :  0.69   Accuracy 0.48  || GAN loss:  [-8.827741622924805, 0.7153469324111938, -14.83212661743164]\n",
      "\n",
      "Epoch :  16\n"
     ]
    },
    {
     "data": {
      "application/vnd.jupyter.widget-view+json": {
       "model_id": "e54a1ff963e643ff91a10530192d1c35",
       "version_major": 2,
       "version_minor": 0
      },
      "text/plain": [
       "HBox(children=(HTML(value=''), FloatProgress(value=0.0, max=18.0), HTML(value='')))"
      ]
     },
     "metadata": {},
     "output_type": "display_data"
    },
    {
     "name": "stdout",
     "output_type": "stream",
     "text": [
      "Discriminator Loss :  0.69   Accuracy 0.58  || GAN loss:  [-12.958138465881348, 0.7207070589065552, -21.71701431274414]\n",
      "Discriminator Loss :  0.69   Accuracy 0.58  || GAN loss:  [-7.772380828857422, 0.7317124009132385, -13.075919151306152]\n",
      "Discriminator Loss :  0.7   Accuracy 0.5  || GAN loss:  [-7.915401935577393, 0.7248979806900024, -13.313152313232422]\n",
      "Discriminator Loss :  0.69   Accuracy 0.53  || GAN loss:  [-13.760353088378906, 0.7265970706939697, -23.05501937866211]\n",
      "Discriminator Loss :  0.69   Accuracy 0.45  || GAN loss:  [-10.849920272827148, 0.7172889709472656, -18.202747344970703]\n",
      "Discriminator Loss :  0.68   Accuracy 0.66  || GAN loss:  [-10.612725257873535, 0.7383888363838196, -17.81093978881836]\n",
      "Discriminator Loss :  0.68   Accuracy 0.64  || GAN loss:  [-9.853049278259277, 0.7153759598731995, -16.540977478027344]\n",
      "Discriminator Loss :  0.68   Accuracy 0.53  || GAN loss:  [-7.495212078094482, 0.7301948070526123, -12.61371898651123]\n",
      "Discriminator Loss :  0.69   Accuracy 0.59  || GAN loss:  [-9.596007347106934, 0.7174903154373169, -16.112926483154297]\n",
      "Discriminator Loss :  0.68   Accuracy 0.61  || GAN loss:  [-9.601179122924805, 0.689498245716095, -16.116880416870117]\n",
      "Discriminator Loss :  0.7   Accuracy 0.5  || GAN loss:  [-8.369247436523438, 0.735535740852356, -14.071334838867188]\n",
      "Discriminator Loss :  0.69   Accuracy 0.59  || GAN loss:  [-8.253777503967285, 0.7189335823059082, -13.876118659973145]\n",
      "Discriminator Loss :  0.67   Accuracy 0.64  || GAN loss:  [-11.145108222961426, 0.7233837842941284, -18.695743560791016]\n",
      "Discriminator Loss :  0.68   Accuracy 0.66  || GAN loss:  [-9.306791305541992, 0.7200114727020264, -15.63132095336914]\n",
      "Discriminator Loss :  0.68   Accuracy 0.55  || GAN loss:  [-11.286528587341309, 0.7291402816772461, -18.932403564453125]\n",
      "Discriminator Loss :  0.69   Accuracy 0.56  || GAN loss:  [-12.26855182647705, 0.7352155447006226, -20.57012176513672]\n",
      "Discriminator Loss :  0.7   Accuracy 0.47  || GAN loss:  [-6.782719135284424, 0.7457183599472046, -11.428817749023438]\n",
      "Discriminator Loss :  0.69   Accuracy 0.62  || GAN loss:  [-10.441865921020508, 0.721717119216919, -17.523395538330078]\n",
      "\n",
      "Epoch :  17\n"
     ]
    },
    {
     "data": {
      "application/vnd.jupyter.widget-view+json": {
       "model_id": "8d82da707a1743cbb49f45b78c1b30be",
       "version_major": 2,
       "version_minor": 0
      },
      "text/plain": [
       "HBox(children=(HTML(value=''), FloatProgress(value=0.0, max=18.0), HTML(value='')))"
      ]
     },
     "metadata": {},
     "output_type": "display_data"
    },
    {
     "name": "stdout",
     "output_type": "stream",
     "text": [
      "Discriminator Loss :  0.68   Accuracy 0.56  || GAN loss:  [-12.4789400100708, 0.7404884099960327, -20.921648025512695]\n",
      "Discriminator Loss :  0.69   Accuracy 0.53  || GAN loss:  [-9.180608749389648, 0.720841646194458, -15.421154022216797]\n",
      "Discriminator Loss :  0.69   Accuracy 0.5  || GAN loss:  [-10.17990493774414, 0.7357950210571289, -17.089139938354492]\n",
      "Discriminator Loss :  0.68   Accuracy 0.64  || GAN loss:  [-13.68889331817627, 0.7201045155525208, -22.934837341308594]\n",
      "Discriminator Loss :  0.69   Accuracy 0.58  || GAN loss:  [-10.02839183807373, 0.711478590965271, -16.832565307617188]\n",
      "Discriminator Loss :  0.69   Accuracy 0.52  || GAN loss:  [-13.868138313293457, 0.7309107780456543, -23.235382080078125]\n",
      "Discriminator Loss :  0.7   Accuracy 0.5  || GAN loss:  [-10.107229232788086, 0.7379910349845886, -16.968379974365234]\n",
      "Discriminator Loss :  0.69   Accuracy 0.58  || GAN loss:  [-11.484909057617188, 0.7094565629959106, -19.25975799560547]\n",
      "Discriminator Loss :  0.7   Accuracy 0.56  || GAN loss:  [-11.540085792541504, 0.7180827856063843, -19.3531551361084]\n",
      "Discriminator Loss :  0.69   Accuracy 0.52  || GAN loss:  [-9.0016508102417, 0.7164739370346069, -15.122162818908691]\n",
      "Discriminator Loss :  0.69   Accuracy 0.55  || GAN loss:  [-13.985544204711914, 0.7127575874328613, -23.42803192138672]\n",
      "Discriminator Loss :  0.68   Accuracy 0.64  || GAN loss:  [-8.837965965270996, 0.717494010925293, -14.849525451660156]\n",
      "Discriminator Loss :  0.67   Accuracy 0.61  || GAN loss:  [-7.769391059875488, 0.7334568500518799, -13.071227073669434]\n",
      "Discriminator Loss :  0.69   Accuracy 0.56  || GAN loss:  [-12.532693862915039, 0.7304660081863403, -21.009567260742188]\n",
      "Discriminator Loss :  0.69   Accuracy 0.59  || GAN loss:  [-7.354454040527344, 0.7339733839035034, -12.379751205444336]\n",
      "Discriminator Loss :  0.69   Accuracy 0.55  || GAN loss:  [-6.4632487297058105, 0.7205690145492554, -10.892175674438477]\n",
      "Discriminator Loss :  0.68   Accuracy 0.66  || GAN loss:  [-9.902402877807617, 0.7086736559867859, -16.622116088867188]\n",
      "Discriminator Loss :  0.69   Accuracy 0.52  || GAN loss:  [-9.478571891784668, 0.7101580500602722, -15.915977478027344]\n",
      "\n",
      "Epoch :  18\n"
     ]
    },
    {
     "data": {
      "application/vnd.jupyter.widget-view+json": {
       "model_id": "051d745fa03c4b15849db7756b9243e6",
       "version_major": 2,
       "version_minor": 0
      },
      "text/plain": [
       "HBox(children=(HTML(value=''), FloatProgress(value=0.0, max=18.0), HTML(value='')))"
      ]
     },
     "metadata": {},
     "output_type": "display_data"
    },
    {
     "name": "stdout",
     "output_type": "stream",
     "text": [
      "Discriminator Loss :  0.69   Accuracy 0.66  || GAN loss:  [-10.426920890808105, 0.7335355281829834, -17.500457763671875]\n",
      "Discriminator Loss :  0.68   Accuracy 0.64  || GAN loss:  [-8.278361320495605, 0.7369343042373657, -13.920090675354004]\n",
      "Discriminator Loss :  0.68   Accuracy 0.61  || GAN loss:  [-8.810306549072266, 0.7333581447601318, -14.806069374084473]\n",
      "Discriminator Loss :  0.68   Accuracy 0.66  || GAN loss:  [-9.049017906188965, 0.7196310758590698, -15.201635360717773]\n",
      "Discriminator Loss :  0.68   Accuracy 0.59  || GAN loss:  [-11.309749603271484, 0.7172784805297852, -18.969127655029297]\n",
      "Discriminator Loss :  0.68   Accuracy 0.62  || GAN loss:  [-8.002196311950684, 0.7255455851554871, -13.457917213439941]\n",
      "Discriminator Loss :  0.68   Accuracy 0.7  || GAN loss:  [-10.741255760192871, 0.7465605735778809, -18.026519775390625]\n",
      "Discriminator Loss :  0.69   Accuracy 0.56  || GAN loss:  [-5.579571723937988, 0.7450343370437622, -9.423458099365234]\n",
      "Discriminator Loss :  0.69   Accuracy 0.58  || GAN loss:  [-8.842924118041992, 0.7315554618835449, -14.860132217407227]\n",
      "Discriminator Loss :  0.7   Accuracy 0.48  || GAN loss:  [-9.703822135925293, 0.7266290187835693, -16.29414176940918]\n",
      "Discriminator Loss :  0.7   Accuracy 0.58  || GAN loss:  [-11.212963104248047, 0.7437278628349304, -18.812227249145508]\n",
      "Discriminator Loss :  0.7   Accuracy 0.48  || GAN loss:  [-9.867110252380371, 0.7381927371025085, -16.568214416503906]\n",
      "Discriminator Loss :  0.7   Accuracy 0.5  || GAN loss:  [-8.52657699584961, 0.7178548574447632, -14.330604553222656]\n",
      "Discriminator Loss :  0.66   Accuracy 0.75  || GAN loss:  [-8.72883415222168, 0.7346658110618591, -14.670499801635742]\n",
      "Discriminator Loss :  0.68   Accuracy 0.59  || GAN loss:  [-9.23376750946045, 0.7503581047058105, -15.51467227935791]\n",
      "Discriminator Loss :  0.68   Accuracy 0.58  || GAN loss:  [-10.638655662536621, 0.7354311347007751, -17.85366439819336]\n",
      "Discriminator Loss :  0.68   Accuracy 0.67  || GAN loss:  [-11.38571548461914, 0.7271973490715027, -19.09739112854004]\n",
      "Discriminator Loss :  0.68   Accuracy 0.62  || GAN loss:  [-8.937427520751953, 0.715866208076477, -15.015022277832031]\n",
      "\n",
      "Epoch :  19\n"
     ]
    },
    {
     "data": {
      "application/vnd.jupyter.widget-view+json": {
       "model_id": "92472d39f6534d31b90b7c34051eaec3",
       "version_major": 2,
       "version_minor": 0
      },
      "text/plain": [
       "HBox(children=(HTML(value=''), FloatProgress(value=0.0, max=18.0), HTML(value='')))"
      ]
     },
     "metadata": {},
     "output_type": "display_data"
    },
    {
     "name": "stdout",
     "output_type": "stream",
     "text": [
      "Discriminator Loss :  0.68   Accuracy 0.66  || GAN loss:  [-7.271355628967285, 0.7393990755081177, -12.242158889770508]\n",
      "Discriminator Loss :  0.69   Accuracy 0.59  || GAN loss:  [-7.158935546875, 0.7355082631111145, -12.054142951965332]\n",
      "Discriminator Loss :  0.68   Accuracy 0.64  || GAN loss:  [-10.06408405303955, 0.7274181842803955, -16.89470863342285]\n",
      "Discriminator Loss :  0.67   Accuracy 0.67  || GAN loss:  [-9.953143119812012, 0.729487419128418, -16.71015167236328]\n",
      "Discriminator Loss :  0.69   Accuracy 0.47  || GAN loss:  [-10.22319507598877, 0.7380842566490173, -17.161672592163086]\n",
      "Discriminator Loss :  0.68   Accuracy 0.55  || GAN loss:  [-12.168461799621582, 0.7524265050888062, -20.406173706054688]\n",
      "Discriminator Loss :  0.68   Accuracy 0.58  || GAN loss:  [-5.452579975128174, 0.7355866432189941, -9.210230827331543]\n",
      "Discriminator Loss :  0.67   Accuracy 0.67  || GAN loss:  [-14.174036026000977, 0.7216733694076538, -23.743671417236328]\n",
      "Discriminator Loss :  0.7   Accuracy 0.48  || GAN loss:  [-8.868492126464844, 0.7167612910270691, -14.900279998779297]\n",
      "Discriminator Loss :  0.7   Accuracy 0.47  || GAN loss:  [-8.837579727172852, 0.7232702970504761, -14.84984302520752]\n",
      "Discriminator Loss :  0.69   Accuracy 0.52  || GAN loss:  [-10.685114860534668, 0.7286078929901123, -17.92995834350586]\n",
      "Discriminator Loss :  0.69   Accuracy 0.55  || GAN loss:  [-13.22583293914795, 0.7331901788711548, -22.165252685546875]\n",
      "Discriminator Loss :  0.68   Accuracy 0.56  || GAN loss:  [-12.46682357788086, 0.7251864671707153, -20.898902893066406]\n",
      "Discriminator Loss :  0.68   Accuracy 0.64  || GAN loss:  [-10.827098846435547, 0.7134923338890076, -18.164079666137695]\n",
      "Discriminator Loss :  0.69   Accuracy 0.61  || GAN loss:  [-8.960859298706055, 0.7394757866859436, -15.058012008666992]\n",
      "Discriminator Loss :  0.69   Accuracy 0.53  || GAN loss:  [-11.325429916381836, 0.7376701235771179, -18.998661041259766]\n",
      "Discriminator Loss :  0.67   Accuracy 0.69  || GAN loss:  [-11.549211502075195, 0.7353334426879883, -19.371240615844727]\n",
      "Discriminator Loss :  0.69   Accuracy 0.59  || GAN loss:  [-10.170513153076172, 0.746431827545166, -17.075260162353516]\n",
      "\n",
      "Epoch :  20\n"
     ]
    },
    {
     "data": {
      "application/vnd.jupyter.widget-view+json": {
       "model_id": "bc7a2690aed0490c8b74abc5eec7bc62",
       "version_major": 2,
       "version_minor": 0
      },
      "text/plain": [
       "HBox(children=(HTML(value=''), FloatProgress(value=0.0, max=18.0), HTML(value='')))"
      ]
     },
     "metadata": {},
     "output_type": "display_data"
    },
    {
     "name": "stdout",
     "output_type": "stream",
     "text": [
      "Discriminator Loss :  0.68   Accuracy 0.64  || GAN loss:  [-9.769021987915039, 0.7356420755386353, -16.40431022644043]\n",
      "Discriminator Loss :  0.69   Accuracy 0.54  || GAN loss:  [-10.074542045593262, 0.7422976493835449, -16.91461944580078]\n",
      "Discriminator Loss :  0.67   Accuracy 0.53  || GAN loss:  [-9.619388580322266, 0.7349623441696167, -16.15480613708496]\n",
      "Discriminator Loss :  0.68   Accuracy 0.66  || GAN loss:  [-11.868998527526855, 0.7357527017593384, -19.90428924560547]\n",
      "Discriminator Loss :  0.69   Accuracy 0.55  || GAN loss:  [-11.27967643737793, 0.7541067600250244, -18.92514419555664]\n",
      "Discriminator Loss :  0.67   Accuracy 0.64  || GAN loss:  [-9.075324058532715, 0.7393694519996643, -15.248767852783203]\n",
      "Discriminator Loss :  0.68   Accuracy 0.59  || GAN loss:  [-12.090039253234863, 0.7532408237457275, -20.275604248046875]\n",
      "Discriminator Loss :  0.67   Accuracy 0.59  || GAN loss:  [-7.103199481964111, 0.7325147390365601, -11.960750579833984]\n",
      "Discriminator Loss :  0.69   Accuracy 0.53  || GAN loss:  [-13.04074764251709, 0.7245181798934937, -21.855331420898438]\n",
      "Discriminator Loss :  0.69   Accuracy 0.53  || GAN loss:  [-7.087409973144531, 0.7319686412811279, -11.934344291687012]\n",
      "Discriminator Loss :  0.68   Accuracy 0.61  || GAN loss:  [-8.572896957397461, 0.7326923608779907, -14.41027545928955]\n",
      "Discriminator Loss :  0.66   Accuracy 0.72  || GAN loss:  [-13.290772438049316, 0.7062695026397705, -22.268999099731445]\n",
      "Discriminator Loss :  0.67   Accuracy 0.69  || GAN loss:  [-10.019503593444824, 0.7424255609512329, -16.82291030883789]\n",
      "Discriminator Loss :  0.69   Accuracy 0.62  || GAN loss:  [-8.602645874023438, 0.7230674028396606, -14.458253860473633]\n",
      "Discriminator Loss :  0.68   Accuracy 0.59  || GAN loss:  [-14.471478462219238, 0.7168923020362854, -24.23861312866211]\n",
      "Discriminator Loss :  0.69   Accuracy 0.59  || GAN loss:  [-7.305588245391846, 0.7374959588050842, -12.298895835876465]\n",
      "Discriminator Loss :  0.69   Accuracy 0.59  || GAN loss:  [-7.45371150970459, 0.7330763339996338, -12.545031547546387]\n",
      "Discriminator Loss :  0.68   Accuracy 0.61  || GAN loss:  [-9.286457061767578, 0.7323688268661499, -15.599489212036133]\n",
      "\n",
      "Epoch :  21\n"
     ]
    },
    {
     "data": {
      "application/vnd.jupyter.widget-view+json": {
       "model_id": "11e4edc25283425989a0c96d7688e7f1",
       "version_major": 2,
       "version_minor": 0
      },
      "text/plain": [
       "HBox(children=(HTML(value=''), FloatProgress(value=0.0, max=18.0), HTML(value='')))"
      ]
     },
     "metadata": {},
     "output_type": "display_data"
    },
    {
     "name": "stdout",
     "output_type": "stream",
     "text": [
      "Discriminator Loss :  0.68   Accuracy 0.59  || GAN loss:  [-12.603302955627441, 0.7351964712142944, -21.128036499023438]\n",
      "Discriminator Loss :  0.68   Accuracy 0.61  || GAN loss:  [-11.306951522827148, 0.7210606932640076, -18.96509552001953]\n",
      "Discriminator Loss :  0.68   Accuracy 0.56  || GAN loss:  [-9.865920066833496, 0.7224816679954529, -16.563613891601562]\n",
      "Discriminator Loss :  0.69   Accuracy 0.53  || GAN loss:  [-6.631490230560303, 0.7347378134727478, -11.17494010925293]\n",
      "Discriminator Loss :  0.7   Accuracy 0.53  || GAN loss:  [-9.78648853302002, 0.7125098705291748, -16.4295654296875]\n",
      "Discriminator Loss :  0.69   Accuracy 0.62  || GAN loss:  [-9.746672630310059, 0.744333028793335, -16.36850929260254]\n",
      "Discriminator Loss :  0.68   Accuracy 0.62  || GAN loss:  [-10.550572395324707, 0.7368661761283875, -17.70709800720215]\n",
      "Discriminator Loss :  0.68   Accuracy 0.64  || GAN loss:  [-8.287138938903809, 0.7306943535804749, -13.933680534362793]\n",
      "Discriminator Loss :  0.68   Accuracy 0.66  || GAN loss:  [-9.810099601745605, 0.7357066869735718, -16.472782135009766]\n",
      "Discriminator Loss :  0.67   Accuracy 0.69  || GAN loss:  [-9.416692733764648, 0.7389580607414246, -15.817646980285645]\n",
      "Discriminator Loss :  0.67   Accuracy 0.59  || GAN loss:  [-10.10061264038086, 0.7335428595542908, -16.95661163330078]\n",
      "Discriminator Loss :  0.68   Accuracy 0.59  || GAN loss:  [-11.190934181213379, 0.7397526502609253, -18.77484893798828]\n",
      "Discriminator Loss :  0.67   Accuracy 0.67  || GAN loss:  [-8.490492820739746, 0.7553030252456665, -14.276704788208008]\n",
      "Discriminator Loss :  0.68   Accuracy 0.56  || GAN loss:  [-10.271644592285156, 0.7288745641708374, -17.240886688232422]\n",
      "Discriminator Loss :  0.69   Accuracy 0.55  || GAN loss:  [-14.779693603515625, 0.7429194450378418, -24.756641387939453]\n",
      "Discriminator Loss :  0.67   Accuracy 0.61  || GAN loss:  [-6.597286701202393, 0.7368742227554321, -11.118289947509766]\n",
      "Discriminator Loss :  0.67   Accuracy 0.56  || GAN loss:  [-8.750227928161621, 0.7449476718902588, -14.707870483398438]\n",
      "Discriminator Loss :  0.69   Accuracy 0.52  || GAN loss:  [-9.013548851013184, 0.7338452935218811, -15.144887924194336]\n",
      "\n",
      "Epoch :  22\n"
     ]
    },
    {
     "data": {
      "application/vnd.jupyter.widget-view+json": {
       "model_id": "300c93c709624aab998ac85c79cae963",
       "version_major": 2,
       "version_minor": 0
      },
      "text/plain": [
       "HBox(children=(HTML(value=''), FloatProgress(value=0.0, max=18.0), HTML(value='')))"
      ]
     },
     "metadata": {},
     "output_type": "display_data"
    },
    {
     "name": "stdout",
     "output_type": "stream",
     "text": [
      "Discriminator Loss :  0.68   Accuracy 0.62  || GAN loss:  [-8.9776611328125, 0.7395265102386475, -15.08602237701416]\n",
      "Discriminator Loss :  0.68   Accuracy 0.66  || GAN loss:  [-7.6869096755981445, 0.7057496905326843, -12.929140090942383]\n",
      "Discriminator Loss :  0.68   Accuracy 0.56  || GAN loss:  [-8.685379981994629, 0.7217308282852173, -14.59592056274414]\n",
      "Discriminator Loss :  0.7   Accuracy 0.56  || GAN loss:  [-11.44927978515625, 0.731082022190094, -19.2039794921875]\n",
      "Discriminator Loss :  0.68   Accuracy 0.58  || GAN loss:  [-7.5345778465271, 0.7326382398605347, -12.67973518371582]\n",
      "Discriminator Loss :  0.69   Accuracy 0.47  || GAN loss:  [-9.99887466430664, 0.7266989350318909, -16.785907745361328]\n",
      "Discriminator Loss :  0.68   Accuracy 0.56  || GAN loss:  [-11.068016052246094, 0.719140887260437, -18.56654930114746]\n",
      "Discriminator Loss :  0.69   Accuracy 0.56  || GAN loss:  [-9.037860870361328, 0.7459070682525635, -15.187418937683105]\n",
      "Discriminator Loss :  0.69   Accuracy 0.64  || GAN loss:  [-7.520723819732666, 0.7773468494415283, -12.66409683227539]\n",
      "Discriminator Loss :  0.69   Accuracy 0.59  || GAN loss:  [-11.179118156433105, 0.7173173427581787, -18.751415252685547]\n",
      "Discriminator Loss :  0.68   Accuracy 0.59  || GAN loss:  [-10.160215377807617, 0.7222982048988342, -17.054073333740234]\n",
      "Discriminator Loss :  0.68   Accuracy 0.59  || GAN loss:  [-10.64986515045166, 0.7315996289253235, -17.871707916259766]\n",
      "Discriminator Loss :  0.68   Accuracy 0.62  || GAN loss:  [-12.231063842773438, 0.7550870180130005, -20.510953903198242]\n",
      "Discriminator Loss :  0.69   Accuracy 0.58  || GAN loss:  [-9.861275672912598, 0.732162356376648, -16.557485580444336]\n",
      "Discriminator Loss :  0.69   Accuracy 0.55  || GAN loss:  [-11.80835247039795, 0.7410115003585815, -19.804088592529297]\n",
      "Discriminator Loss :  0.68   Accuracy 0.55  || GAN loss:  [-11.932766914367676, 0.7337969541549683, -20.010242462158203]\n",
      "Discriminator Loss :  0.7   Accuracy 0.56  || GAN loss:  [-8.0985107421875, 0.73387610912323, -13.619829177856445]\n",
      "Discriminator Loss :  0.67   Accuracy 0.62  || GAN loss:  [-10.687310218811035, 0.7362119555473328, -17.934885025024414]\n",
      "\n",
      "Epoch :  23\n"
     ]
    },
    {
     "data": {
      "application/vnd.jupyter.widget-view+json": {
       "model_id": "9e5c8d7ca04a4994afb850aaf4bf8d57",
       "version_major": 2,
       "version_minor": 0
      },
      "text/plain": [
       "HBox(children=(HTML(value=''), FloatProgress(value=0.0, max=18.0), HTML(value='')))"
      ]
     },
     "metadata": {},
     "output_type": "display_data"
    },
    {
     "name": "stdout",
     "output_type": "stream",
     "text": [
      "Discriminator Loss :  0.68   Accuracy 0.73  || GAN loss:  [-7.626469135284424, 0.7111493349075317, -12.829306602478027]\n",
      "Discriminator Loss :  0.68   Accuracy 0.7  || GAN loss:  [-9.97069263458252, 0.7493341565132141, -16.742708206176758]\n",
      "Discriminator Loss :  0.7   Accuracy 0.44  || GAN loss:  [-9.753636360168457, 0.7530514597892761, -16.381568908691406]\n",
      "Discriminator Loss :  0.67   Accuracy 0.72  || GAN loss:  [-11.631597518920898, 0.7439208030700684, -19.50998306274414]\n",
      "Discriminator Loss :  0.68   Accuracy 0.64  || GAN loss:  [-10.747654914855957, 0.7364009022712708, -18.035490036010742]\n",
      "Discriminator Loss :  0.67   Accuracy 0.66  || GAN loss:  [-10.571614265441895, 0.7386888265609741, -17.74247169494629]\n",
      "Discriminator Loss :  0.67   Accuracy 0.69  || GAN loss:  [-10.888864517211914, 0.7277441620826721, -18.269397735595703]\n",
      "Discriminator Loss :  0.68   Accuracy 0.66  || GAN loss:  [-10.80836009979248, 0.734147310256958, -18.13629150390625]\n",
      "Discriminator Loss :  0.68   Accuracy 0.62  || GAN loss:  [-11.371356010437012, 0.7286426424980164, -19.073699951171875]\n",
      "Discriminator Loss :  0.67   Accuracy 0.72  || GAN loss:  [-14.681804656982422, 0.7213979959487915, -24.589906692504883]\n",
      "Discriminator Loss :  0.67   Accuracy 0.59  || GAN loss:  [-9.642276763916016, 0.7282613515853882, -16.191837310791016]\n",
      "Discriminator Loss :  0.69   Accuracy 0.59  || GAN loss:  [-11.016450881958008, 0.7421342134475708, -18.484439849853516]\n",
      "Discriminator Loss :  0.68   Accuracy 0.59  || GAN loss:  [-10.977497100830078, 0.726163387298584, -18.416854858398438]\n",
      "Discriminator Loss :  0.69   Accuracy 0.55  || GAN loss:  [-8.821259498596191, 0.742978572845459, -14.825927734375]\n",
      "Discriminator Loss :  0.69   Accuracy 0.59  || GAN loss:  [-10.45409870147705, 0.7232568264007568, -17.54404067993164]\n",
      "Discriminator Loss :  0.67   Accuracy 0.62  || GAN loss:  [-13.470163345336914, 0.7381689548492432, -22.573299407958984]\n",
      "Discriminator Loss :  0.67   Accuracy 0.72  || GAN loss:  [-14.105931282043457, 0.742402195930481, -23.63361930847168]\n",
      "Discriminator Loss :  0.68   Accuracy 0.66  || GAN loss:  [-10.948038101196289, 0.7222729921340942, -18.367109298706055]\n",
      "\n",
      "Epoch :  24\n"
     ]
    },
    {
     "data": {
      "application/vnd.jupyter.widget-view+json": {
       "model_id": "907f1991d3304dc4b0bb69f100fc3115",
       "version_major": 2,
       "version_minor": 0
      },
      "text/plain": [
       "HBox(children=(HTML(value=''), FloatProgress(value=0.0, max=18.0), HTML(value='')))"
      ]
     },
     "metadata": {},
     "output_type": "display_data"
    },
    {
     "name": "stdout",
     "output_type": "stream",
     "text": [
      "Discriminator Loss :  0.68   Accuracy 0.66  || GAN loss:  [-9.97064208984375, 0.7367956638336182, -16.740535736083984]\n",
      "Discriminator Loss :  0.68   Accuracy 0.62  || GAN loss:  [-11.645573616027832, 0.7303204536437988, -19.531009674072266]\n",
      "Discriminator Loss :  0.69   Accuracy 0.55  || GAN loss:  [-10.159348487854004, 0.7338908314704895, -17.054561614990234]\n",
      "Discriminator Loss :  0.68   Accuracy 0.61  || GAN loss:  [-9.679262161254883, 0.7302036285400391, -16.253803253173828]\n",
      "Discriminator Loss :  0.68   Accuracy 0.58  || GAN loss:  [-11.286200523376465, 0.7431212663650513, -18.934186935424805]\n",
      "Discriminator Loss :  0.67   Accuracy 0.72  || GAN loss:  [-10.228684425354004, 0.746185302734375, -17.172170639038086]\n",
      "Discriminator Loss :  0.67   Accuracy 0.7  || GAN loss:  [-10.046111106872559, 0.7547298669815063, -16.869306564331055]\n",
      "Discriminator Loss :  0.68   Accuracy 0.61  || GAN loss:  [-10.925597190856934, 0.7360960841178894, -18.33201026916504]\n",
      "Discriminator Loss :  0.68   Accuracy 0.56  || GAN loss:  [-8.60727596282959, 0.7389886379241943, -14.468624114990234]\n",
      "Discriminator Loss :  0.68   Accuracy 0.67  || GAN loss:  [-9.813868522644043, 0.7496240139007568, -16.48138427734375]\n",
      "Discriminator Loss :  0.67   Accuracy 0.62  || GAN loss:  [-9.83911418914795, 0.7237650156021118, -16.519149780273438]\n",
      "Discriminator Loss :  0.68   Accuracy 0.7  || GAN loss:  [-7.503365993499756, 0.7093712091445923, -12.623838424682617]\n",
      "Discriminator Loss :  0.68   Accuracy 0.64  || GAN loss:  [-11.368499755859375, 0.7381662130355835, -19.070526123046875]\n",
      "Discriminator Loss :  0.68   Accuracy 0.64  || GAN loss:  [-12.424110412597656, 0.7416478395462036, -20.83045768737793]\n",
      "Discriminator Loss :  0.68   Accuracy 0.62  || GAN loss:  [-10.588201522827148, 0.7322471141815186, -17.76904296875]\n",
      "Discriminator Loss :  0.68   Accuracy 0.7  || GAN loss:  [-8.87120246887207, 0.7378861904144287, -14.908317565917969]\n",
      "Discriminator Loss :  0.67   Accuracy 0.66  || GAN loss:  [-8.311697006225586, 0.7182903289794922, -13.972541809082031]\n",
      "Discriminator Loss :  0.68   Accuracy 0.59  || GAN loss:  [-13.37820053100586, 0.7224332690238953, -22.41740608215332]\n",
      "\n",
      "Epoch :  25\n"
     ]
    },
    {
     "data": {
      "application/vnd.jupyter.widget-view+json": {
       "model_id": "05e14111b7ca4dcc9b82e5b26e427725",
       "version_major": 2,
       "version_minor": 0
      },
      "text/plain": [
       "HBox(children=(HTML(value=''), FloatProgress(value=0.0, max=18.0), HTML(value='')))"
      ]
     },
     "metadata": {},
     "output_type": "display_data"
    },
    {
     "name": "stdout",
     "output_type": "stream",
     "text": [
      "Discriminator Loss :  0.68   Accuracy 0.73  || GAN loss:  [-7.886456489562988, 0.7139927744865417, -13.263092041015625]\n",
      "Discriminator Loss :  0.68   Accuracy 0.67  || GAN loss:  [-11.971077919006348, 0.7466716170310974, -20.07624053955078]\n",
      "Discriminator Loss :  0.67   Accuracy 0.58  || GAN loss:  [-12.420248985290527, 0.7312455177307129, -20.822288513183594]\n",
      "Discriminator Loss :  0.68   Accuracy 0.56  || GAN loss:  [-10.68056583404541, 0.747272789478302, -17.925487518310547]\n",
      "Discriminator Loss :  0.68   Accuracy 0.75  || GAN loss:  [-9.589128494262695, 0.7413533926010132, -16.105440139770508]\n",
      "Discriminator Loss :  0.69   Accuracy 0.58  || GAN loss:  [-8.237717628479004, 0.7310389280319214, -13.851367950439453]\n",
      "Discriminator Loss :  0.68   Accuracy 0.66  || GAN loss:  [-8.842811584472656, 0.7370164394378662, -14.860855102539062]\n",
      "Discriminator Loss :  0.69   Accuracy 0.62  || GAN loss:  [-9.853375434875488, 0.707790732383728, -16.54025650024414]\n",
      "Discriminator Loss :  0.68   Accuracy 0.61  || GAN loss:  [-13.313943862915039, 0.7580056190490723, -22.316240310668945]\n",
      "Discriminator Loss :  0.68   Accuracy 0.61  || GAN loss:  [-12.545382499694824, 0.7220996618270874, -21.029319763183594]\n",
      "Discriminator Loss :  0.69   Accuracy 0.59  || GAN loss:  [-12.73947525024414, 0.7104584574699402, -21.350868225097656]\n",
      "Discriminator Loss :  0.69   Accuracy 0.5  || GAN loss:  [-8.600872039794922, 0.7463398575782776, -14.459175109863281]\n",
      "Discriminator Loss :  0.68   Accuracy 0.61  || GAN loss:  [-10.880892753601074, 0.7410542368888855, -18.258329391479492]\n",
      "Discriminator Loss :  0.67   Accuracy 0.67  || GAN loss:  [-8.456799507141113, 0.7499280571937561, -14.219653129577637]\n",
      "Discriminator Loss :  0.69   Accuracy 0.58  || GAN loss:  [-12.598461151123047, 0.7190624475479126, -21.117277145385742]\n",
      "Discriminator Loss :  0.68   Accuracy 0.56  || GAN loss:  [-10.677643775939941, 0.7259526252746582, -17.917064666748047]\n",
      "Discriminator Loss :  0.69   Accuracy 0.59  || GAN loss:  [-8.960859298706055, 0.7078002691268921, -15.05273151397705]\n",
      "Discriminator Loss :  0.68   Accuracy 0.67  || GAN loss:  [-10.61733341217041, 0.7298094630241394, -17.817190170288086]\n",
      "\n",
      "Epoch :  26\n"
     ]
    },
    {
     "data": {
      "application/vnd.jupyter.widget-view+json": {
       "model_id": "027ba41402bb429597b5301e5585f5ee",
       "version_major": 2,
       "version_minor": 0
      },
      "text/plain": [
       "HBox(children=(HTML(value=''), FloatProgress(value=0.0, max=18.0), HTML(value='')))"
      ]
     },
     "metadata": {},
     "output_type": "display_data"
    },
    {
     "name": "stdout",
     "output_type": "stream",
     "text": [
      "Discriminator Loss :  0.68   Accuracy 0.7  || GAN loss:  [-13.48048210144043, 0.7373629808425903, -22.590362548828125]\n",
      "Discriminator Loss :  0.68   Accuracy 0.66  || GAN loss:  [-12.198872566223145, 0.7069556713104248, -20.44927978515625]\n",
      "Discriminator Loss :  0.67   Accuracy 0.67  || GAN loss:  [-11.325254440307617, 0.7168552875518799, -18.99489974975586]\n",
      "Discriminator Loss :  0.67   Accuracy 0.75  || GAN loss:  [-7.945222854614258, 0.7296373844146729, -13.363643646240234]\n",
      "Discriminator Loss :  0.68   Accuracy 0.62  || GAN loss:  [-10.405704498291016, 0.7485199570655823, -17.467594146728516]\n",
      "Discriminator Loss :  0.67   Accuracy 0.66  || GAN loss:  [-11.696185111999512, 0.7328519225120544, -19.61578369140625]\n",
      "Discriminator Loss :  0.69   Accuracy 0.64  || GAN loss:  [-11.206161499023438, 0.742842435836792, -18.800743103027344]\n",
      "Discriminator Loss :  0.68   Accuracy 0.62  || GAN loss:  [-13.385068893432617, 0.7380602359771729, -22.43145751953125]\n",
      "Discriminator Loss :  0.69   Accuracy 0.58  || GAN loss:  [-11.899438858032227, 0.728807270526886, -19.95386505126953]\n",
      "Discriminator Loss :  0.67   Accuracy 0.61  || GAN loss:  [-10.36838436126709, 0.745168149471283, -17.404834747314453]\n",
      "Discriminator Loss :  0.67   Accuracy 0.67  || GAN loss:  [-10.448994636535645, 0.7270501852035522, -17.536165237426758]\n",
      "Discriminator Loss :  0.69   Accuracy 0.61  || GAN loss:  [-11.957117080688477, 0.7269741892814636, -20.04969024658203]\n",
      "Discriminator Loss :  0.68   Accuracy 0.62  || GAN loss:  [-8.4747314453125, 0.7406747937202454, -14.247997283935547]\n",
      "Discriminator Loss :  0.68   Accuracy 0.66  || GAN loss:  [-7.00648832321167, 0.7421640157699585, -11.80117416381836]\n",
      "Discriminator Loss :  0.68   Accuracy 0.55  || GAN loss:  [-10.451251983642578, 0.7204008102416992, -17.538818359375]\n",
      "Discriminator Loss :  0.68   Accuracy 0.61  || GAN loss:  [-14.290343284606934, 0.7417480945587158, -23.94086265563965]\n",
      "Discriminator Loss :  0.69   Accuracy 0.5  || GAN loss:  [-10.22125244140625, 0.7494300603866577, -17.160324096679688]\n",
      "Discriminator Loss :  0.67   Accuracy 0.73  || GAN loss:  [-13.59330940246582, 0.7343237400054932, -22.77790069580078]\n",
      "\n",
      "Epoch :  27\n"
     ]
    },
    {
     "data": {
      "application/vnd.jupyter.widget-view+json": {
       "model_id": "1d3724792fbc4f098b74cca04a84f79a",
       "version_major": 2,
       "version_minor": 0
      },
      "text/plain": [
       "HBox(children=(HTML(value=''), FloatProgress(value=0.0, max=18.0), HTML(value='')))"
      ]
     },
     "metadata": {},
     "output_type": "display_data"
    },
    {
     "name": "stdout",
     "output_type": "stream",
     "text": [
      "Discriminator Loss :  0.68   Accuracy 0.7  || GAN loss:  [-12.401941299438477, 0.7409663200378418, -20.79339599609375]\n",
      "Discriminator Loss :  0.68   Accuracy 0.66  || GAN loss:  [-11.076944351196289, 0.7505766153335571, -18.586669921875]\n",
      "Discriminator Loss :  0.68   Accuracy 0.66  || GAN loss:  [-13.145035743713379, 0.7390421628952026, -22.031564712524414]\n",
      "Discriminator Loss :  0.68   Accuracy 0.56  || GAN loss:  [-9.533910751342773, 0.7299666404724121, -16.011512756347656]\n",
      "Discriminator Loss :  0.68   Accuracy 0.61  || GAN loss:  [-11.235490798950195, 0.7338742613792419, -18.848129272460938]\n",
      "Discriminator Loss :  0.68   Accuracy 0.69  || GAN loss:  [-9.589934349060059, 0.7362179756164551, -16.105926513671875]\n",
      "Discriminator Loss :  0.68   Accuracy 0.66  || GAN loss:  [-12.922006607055664, 0.7374603748321533, -21.65958595275879]\n",
      "Discriminator Loss :  0.68   Accuracy 0.66  || GAN loss:  [-10.754802703857422, 0.7336658239364624, -18.046947479248047]\n",
      "Discriminator Loss :  0.68   Accuracy 0.59  || GAN loss:  [-12.230812072753906, 0.7396938800811768, -20.50796890258789]\n",
      "Discriminator Loss :  0.68   Accuracy 0.61  || GAN loss:  [-11.756414413452148, 0.7179673314094543, -19.71368408203125]\n",
      "Discriminator Loss :  0.68   Accuracy 0.66  || GAN loss:  [-9.939693450927734, 0.7169555425643921, -16.68564796447754]\n",
      "Discriminator Loss :  0.68   Accuracy 0.62  || GAN loss:  [-12.028770446777344, 0.7354879379272461, -20.1705322265625]\n",
      "Discriminator Loss :  0.67   Accuracy 0.73  || GAN loss:  [-10.169266700744629, 0.7427657842636108, -17.072572708129883]\n",
      "Discriminator Loss :  0.68   Accuracy 0.64  || GAN loss:  [-13.601049423217773, 0.7405496835708618, -22.791839599609375]\n",
      "Discriminator Loss :  0.67   Accuracy 0.72  || GAN loss:  [-13.667317390441895, 0.7603845596313477, -22.90559196472168]\n",
      "Discriminator Loss :  0.67   Accuracy 0.69  || GAN loss:  [-12.792166709899902, 0.7347240447998047, -21.442729949951172]\n",
      "Discriminator Loss :  0.67   Accuracy 0.62  || GAN loss:  [-10.214226722717285, 0.7186501026153564, -17.14348602294922]\n",
      "Discriminator Loss :  0.68   Accuracy 0.69  || GAN loss:  [-11.61678409576416, 0.7207844257354736, -19.48143768310547]\n",
      "\n",
      "Epoch :  28\n"
     ]
    },
    {
     "data": {
      "application/vnd.jupyter.widget-view+json": {
       "model_id": "145ecd9733c54a8d85b9d1fe49ab2e49",
       "version_major": 2,
       "version_minor": 0
      },
      "text/plain": [
       "HBox(children=(HTML(value=''), FloatProgress(value=0.0, max=18.0), HTML(value='')))"
      ]
     },
     "metadata": {},
     "output_type": "display_data"
    },
    {
     "name": "stdout",
     "output_type": "stream",
     "text": [
      "Discriminator Loss :  0.67   Accuracy 0.77  || GAN loss:  [-10.28243350982666, 0.7571651339530945, -17.26358413696289]\n",
      "Discriminator Loss :  0.68   Accuracy 0.69  || GAN loss:  [-11.112480163574219, 0.7425277233123779, -18.644554138183594]\n",
      "Discriminator Loss :  0.67   Accuracy 0.7  || GAN loss:  [-12.195873260498047, 0.737461507320404, -20.449363708496094]\n",
      "Discriminator Loss :  0.69   Accuracy 0.45  || GAN loss:  [-14.292974472045898, 0.7386795878410339, -23.94473648071289]\n",
      "Discriminator Loss :  0.68   Accuracy 0.59  || GAN loss:  [-11.258806228637695, 0.737733006477356, -18.887632369995117]\n",
      "Discriminator Loss :  0.68   Accuracy 0.64  || GAN loss:  [-9.468696594238281, 0.73301762342453, -15.903329849243164]\n",
      "Discriminator Loss :  0.66   Accuracy 0.67  || GAN loss:  [-8.695080757141113, 0.7448573112487793, -14.615943908691406]\n",
      "Discriminator Loss :  0.68   Accuracy 0.64  || GAN loss:  [-11.307170867919922, 0.7345989346504211, -18.967716217041016]\n",
      "Discriminator Loss :  0.68   Accuracy 0.58  || GAN loss:  [-11.747777938842773, 0.7414252758026123, -19.70319938659668]\n",
      "Discriminator Loss :  0.69   Accuracy 0.5  || GAN loss:  [-8.74513053894043, 0.7232969999313354, -14.69576644897461]\n",
      "Discriminator Loss :  0.68   Accuracy 0.66  || GAN loss:  [-7.738752365112305, 0.706984281539917, -13.015750885009766]\n",
      "Discriminator Loss :  0.67   Accuracy 0.66  || GAN loss:  [-13.885980606079102, 0.7404035329818726, -23.266700744628906]\n",
      "Discriminator Loss :  0.68   Accuracy 0.58  || GAN loss:  [-9.97692584991455, 0.7403243184089661, -16.751596450805664]\n",
      "Discriminator Loss :  0.67   Accuracy 0.64  || GAN loss:  [-10.261012077331543, 0.7195930480957031, -17.22161865234375]\n",
      "Discriminator Loss :  0.67   Accuracy 0.69  || GAN loss:  [-11.100106239318848, 0.7284805774688721, -18.62158966064453]\n",
      "Discriminator Loss :  0.67   Accuracy 0.67  || GAN loss:  [-9.883150100708008, 0.7453734874725342, -16.596145629882812]\n",
      "Discriminator Loss :  0.69   Accuracy 0.62  || GAN loss:  [-9.163422584533691, 0.7348676919937134, -15.394847869873047]\n",
      "Discriminator Loss :  0.67   Accuracy 0.69  || GAN loss:  [-10.415590286254883, 0.7365994453430176, -17.48208236694336]\n",
      "\n",
      "Epoch :  29\n"
     ]
    },
    {
     "data": {
      "application/vnd.jupyter.widget-view+json": {
       "model_id": "196f377dd1ce49c096f9d1e5b712d1a7",
       "version_major": 2,
       "version_minor": 0
      },
      "text/plain": [
       "HBox(children=(HTML(value=''), FloatProgress(value=0.0, max=18.0), HTML(value='')))"
      ]
     },
     "metadata": {},
     "output_type": "display_data"
    },
    {
     "name": "stdout",
     "output_type": "stream",
     "text": [
      "Discriminator Loss :  0.67   Accuracy 0.83  || GAN loss:  [-11.263442993164062, 0.7572101354598999, -18.898605346679688]\n",
      "Discriminator Loss :  0.68   Accuracy 0.71  || GAN loss:  [-10.370026588439941, 0.7467395067214966, -17.407833099365234]\n",
      "Discriminator Loss :  0.68   Accuracy 0.61  || GAN loss:  [-12.699789047241211, 0.7344974279403687, -21.28873062133789]\n",
      "Discriminator Loss :  0.69   Accuracy 0.5  || GAN loss:  [-8.035050392150879, 0.7372133731842041, -13.514617919921875]\n",
      "Discriminator Loss :  0.68   Accuracy 0.59  || GAN loss:  [-8.99710750579834, 0.7396516799926758, -15.118453979492188]\n",
      "Discriminator Loss :  0.66   Accuracy 0.72  || GAN loss:  [-14.748966217041016, 0.7364149689674377, -24.704345703125]\n",
      "Discriminator Loss :  0.67   Accuracy 0.59  || GAN loss:  [-10.399968147277832, 0.7272286415100098, -17.454483032226562]\n",
      "Discriminator Loss :  0.68   Accuracy 0.56  || GAN loss:  [-8.985488891601562, 0.7328561544418335, -15.097957611083984]\n",
      "Discriminator Loss :  0.69   Accuracy 0.61  || GAN loss:  [-6.142294406890869, 0.7516847252845764, -10.362438201904297]\n",
      "Discriminator Loss :  0.69   Accuracy 0.55  || GAN loss:  [-10.661434173583984, 0.7464566230773926, -17.89346694946289]\n",
      "Discriminator Loss :  0.69   Accuracy 0.59  || GAN loss:  [-13.240194320678711, 0.7420916557312012, -22.190671920776367]\n",
      "Discriminator Loss :  0.66   Accuracy 0.75  || GAN loss:  [-11.317472457885742, 0.7424421906471252, -18.986194610595703]\n",
      "Discriminator Loss :  0.68   Accuracy 0.55  || GAN loss:  [-7.6231584548950195, 0.7225466966629028, -12.825688362121582]\n",
      "Discriminator Loss :  0.67   Accuracy 0.64  || GAN loss:  [-7.203126907348633, 0.7398113012313843, -12.12851333618164]\n",
      "Discriminator Loss :  0.66   Accuracy 0.72  || GAN loss:  [-13.754233360290527, 0.7315207719802856, -23.045642852783203]\n",
      "Discriminator Loss :  0.7   Accuracy 0.58  || GAN loss:  [-11.833759307861328, 0.7284568548202515, -19.844341278076172]\n",
      "Discriminator Loss :  0.68   Accuracy 0.64  || GAN loss:  [-8.880072593688965, 0.7319378852844238, -14.922109603881836]\n",
      "Discriminator Loss :  0.67   Accuracy 0.66  || GAN loss:  [-11.03500747680664, 0.7389603853225708, -18.51483917236328]\n",
      "\n",
      "Epoch :  30\n"
     ]
    },
    {
     "data": {
      "application/vnd.jupyter.widget-view+json": {
       "model_id": "08babdaa89e845d2a69a3c93c1e5f7e7",
       "version_major": 2,
       "version_minor": 0
      },
      "text/plain": [
       "HBox(children=(HTML(value=''), FloatProgress(value=0.0, max=18.0), HTML(value='')))"
      ]
     },
     "metadata": {},
     "output_type": "display_data"
    },
    {
     "name": "stdout",
     "output_type": "stream",
     "text": [
      "Discriminator Loss :  0.67   Accuracy 0.83  || GAN loss:  [-6.607109069824219, 0.7587915658950806, -11.138313293457031]\n",
      "Discriminator Loss :  0.68   Accuracy 0.71  || GAN loss:  [-12.234855651855469, 0.7455726265907288, -20.515687942504883]\n",
      "Discriminator Loss :  0.68   Accuracy 0.66  || GAN loss:  [-7.51454496383667, 0.7575885653495789, -12.650506019592285]\n",
      "Discriminator Loss :  0.68   Accuracy 0.59  || GAN loss:  [-9.890531539916992, 0.7285088300704956, -16.605636596679688]\n",
      "Discriminator Loss :  0.68   Accuracy 0.61  || GAN loss:  [-8.951614379882812, 0.7308505773544312, -15.04116439819336]\n",
      "Discriminator Loss :  0.68   Accuracy 0.59  || GAN loss:  [-8.936163902282715, 0.7348381876945496, -15.01607894897461]\n",
      "Discriminator Loss :  0.68   Accuracy 0.66  || GAN loss:  [-10.530817031860352, 0.7317125797271729, -17.67331314086914]\n",
      "Discriminator Loss :  0.68   Accuracy 0.67  || GAN loss:  [-8.961585998535156, 0.750038206577301, -15.060981750488281]\n",
      "Discriminator Loss :  0.68   Accuracy 0.64  || GAN loss:  [-9.190668106079102, 0.7273392677307129, -15.43900203704834]\n",
      "Discriminator Loss :  0.69   Accuracy 0.58  || GAN loss:  [-8.49470043182373, 0.7457445859909058, -14.282124519348145]\n",
      "Discriminator Loss :  0.68   Accuracy 0.69  || GAN loss:  [-7.236926555633545, 0.7531995177268982, -12.187076568603516]\n",
      "Discriminator Loss :  0.68   Accuracy 0.58  || GAN loss:  [-12.388071060180664, 0.7201714515686035, -20.76681137084961]\n",
      "Discriminator Loss :  0.68   Accuracy 0.58  || GAN loss:  [-10.619162559509277, 0.7425928711891174, -17.822370529174805]\n",
      "Discriminator Loss :  0.68   Accuracy 0.64  || GAN loss:  [-11.082064628601074, 0.713099479675293, -18.588956832885742]\n",
      "Discriminator Loss :  0.68   Accuracy 0.66  || GAN loss:  [-8.233738899230957, 0.7405201196670532, -13.846317291259766]\n",
      "Discriminator Loss :  0.68   Accuracy 0.61  || GAN loss:  [-11.730683326721191, 0.7403479814529419, -19.674530029296875]\n",
      "Discriminator Loss :  0.68   Accuracy 0.62  || GAN loss:  [-11.755331993103027, 0.7493320107460022, -19.71710777282715]\n",
      "Discriminator Loss :  0.68   Accuracy 0.64  || GAN loss:  [-7.679712772369385, 0.7353513240814209, -12.922079086303711]\n",
      "\n",
      "Epoch :  31\n"
     ]
    },
    {
     "data": {
      "application/vnd.jupyter.widget-view+json": {
       "model_id": "550fb2b760d04f91a5ae607f14e88890",
       "version_major": 2,
       "version_minor": 0
      },
      "text/plain": [
       "HBox(children=(HTML(value=''), FloatProgress(value=0.0, max=18.0), HTML(value='')))"
      ]
     },
     "metadata": {},
     "output_type": "display_data"
    },
    {
     "name": "stdout",
     "output_type": "stream",
     "text": [
      "Discriminator Loss :  0.68   Accuracy 0.81  || GAN loss:  [-9.652484893798828, 0.7423815727233887, -16.211204528808594]\n",
      "Discriminator Loss :  0.68   Accuracy 0.68  || GAN loss:  [-9.871386528015137, 0.7225180864334106, -16.572731018066406]\n",
      "Discriminator Loss :  0.67   Accuracy 0.67  || GAN loss:  [-16.226125717163086, 0.7260310053825378, -27.164546966552734]\n",
      "Discriminator Loss :  0.68   Accuracy 0.67  || GAN loss:  [-10.656693458557129, 0.7364647388458252, -17.883899688720703]\n",
      "Discriminator Loss :  0.67   Accuracy 0.67  || GAN loss:  [-10.045218467712402, 0.7415894865989685, -16.86562728881836]\n",
      "Discriminator Loss :  0.68   Accuracy 0.69  || GAN loss:  [-8.56017017364502, 0.7154914140701294, -14.386198043823242]\n",
      "Discriminator Loss :  0.66   Accuracy 0.77  || GAN loss:  [-12.876919746398926, 0.730501651763916, -21.583282470703125]\n",
      "Discriminator Loss :  0.68   Accuracy 0.59  || GAN loss:  [-11.818866729736328, 0.7257964611053467, -19.819076538085938]\n",
      "Discriminator Loss :  0.66   Accuracy 0.78  || GAN loss:  [-13.706172943115234, 0.7520138025283813, -22.968955993652344]\n",
      "Discriminator Loss :  0.67   Accuracy 0.66  || GAN loss:  [-9.074604988098145, 0.7503684759140015, -15.24940299987793]\n",
      "Discriminator Loss :  0.68   Accuracy 0.58  || GAN loss:  [-9.481111526489258, 0.725104570388794, -15.922703742980957]\n",
      "Discriminator Loss :  0.68   Accuracy 0.61  || GAN loss:  [-9.284903526306152, 0.7252267599105835, -15.595710754394531]\n",
      "Discriminator Loss :  0.68   Accuracy 0.56  || GAN loss:  [-10.661091804504395, 0.7432085871696472, -17.892353057861328]\n",
      "Discriminator Loss :  0.68   Accuracy 0.64  || GAN loss:  [-8.740264892578125, 0.7389166355133057, -14.69025993347168]\n",
      "Discriminator Loss :  0.68   Accuracy 0.62  || GAN loss:  [-11.240413665771484, 0.7336201667785645, -18.856292724609375]\n",
      "Discriminator Loss :  0.66   Accuracy 0.73  || GAN loss:  [-11.469817161560059, 0.7419089078903198, -19.240013122558594]\n",
      "Discriminator Loss :  0.69   Accuracy 0.62  || GAN loss:  [-11.219346046447754, 0.7495278716087341, -18.82383155822754]\n",
      "Discriminator Loss :  0.68   Accuracy 0.61  || GAN loss:  [-14.081626892089844, 0.747075080871582, -23.593889236450195]\n",
      "\n",
      "Epoch :  32\n"
     ]
    },
    {
     "data": {
      "application/vnd.jupyter.widget-view+json": {
       "model_id": "86cd127efc3b42ada6bde78b15bb9424",
       "version_major": 2,
       "version_minor": 0
      },
      "text/plain": [
       "HBox(children=(HTML(value=''), FloatProgress(value=0.0, max=18.0), HTML(value='')))"
      ]
     },
     "metadata": {},
     "output_type": "display_data"
    },
    {
     "name": "stdout",
     "output_type": "stream",
     "text": [
      "Discriminator Loss :  0.67   Accuracy 0.72  || GAN loss:  [-12.48996353149414, 0.7652344703674316, -20.94414520263672]\n",
      "Discriminator Loss :  0.67   Accuracy 0.7  || GAN loss:  [-11.219615936279297, 0.7607690095901489, -18.826152801513672]\n",
      "Discriminator Loss :  0.68   Accuracy 0.56  || GAN loss:  [-7.295114517211914, 0.7202892303466797, -12.278572082519531]\n",
      "Discriminator Loss :  0.67   Accuracy 0.7  || GAN loss:  [-11.071869850158691, 0.7426708936691284, -18.576894760131836]\n",
      "Discriminator Loss :  0.68   Accuracy 0.61  || GAN loss:  [-9.157146453857422, 0.7332583665847778, -15.384119987487793]\n",
      "Discriminator Loss :  0.67   Accuracy 0.69  || GAN loss:  [-11.408416748046875, 0.7410045862197876, -19.137527465820312]\n",
      "Discriminator Loss :  0.67   Accuracy 0.7  || GAN loss:  [-9.246650695800781, 0.739113450050354, -15.534269332885742]\n",
      "Discriminator Loss :  0.67   Accuracy 0.73  || GAN loss:  [-10.366768836975098, 0.7577561736106873, -17.404239654541016]\n",
      "Discriminator Loss :  0.67   Accuracy 0.72  || GAN loss:  [-13.75688648223877, 0.7560122013092041, -23.05414581298828]\n",
      "Discriminator Loss :  0.66   Accuracy 0.75  || GAN loss:  [-8.135418891906738, 0.75852370262146, -13.68545150756836]\n",
      "Discriminator Loss :  0.67   Accuracy 0.62  || GAN loss:  [-11.903870582580566, 0.7480134963989258, -19.964452743530273]\n",
      "Discriminator Loss :  0.67   Accuracy 0.67  || GAN loss:  [-13.446043014526367, 0.7371335029602051, -22.532926559448242]\n",
      "Discriminator Loss :  0.68   Accuracy 0.61  || GAN loss:  [-10.686637878417969, 0.7452143430709839, -17.935264587402344]\n",
      "Discriminator Loss :  0.67   Accuracy 0.72  || GAN loss:  [-11.839908599853516, 0.7346757650375366, -19.85562515258789]\n",
      "Discriminator Loss :  0.67   Accuracy 0.64  || GAN loss:  [-12.619813919067383, 0.7533832788467407, -21.158586502075195]\n",
      "Discriminator Loss :  0.67   Accuracy 0.72  || GAN loss:  [-13.597198486328125, 0.7586675882339478, -22.788440704345703]\n",
      "Discriminator Loss :  0.68   Accuracy 0.62  || GAN loss:  [-11.84391975402832, 0.7423769235610962, -19.863595962524414]\n",
      "Discriminator Loss :  0.66   Accuracy 0.69  || GAN loss:  [-9.80293083190918, 0.7577095031738281, -16.464502334594727]\n",
      "\n",
      "Epoch :  33\n"
     ]
    },
    {
     "data": {
      "application/vnd.jupyter.widget-view+json": {
       "model_id": "b3f24eee5fc5414392c956a61499338f",
       "version_major": 2,
       "version_minor": 0
      },
      "text/plain": [
       "HBox(children=(HTML(value=''), FloatProgress(value=0.0, max=18.0), HTML(value='')))"
      ]
     },
     "metadata": {},
     "output_type": "display_data"
    },
    {
     "name": "stdout",
     "output_type": "stream",
     "text": [
      "Discriminator Loss :  0.67   Accuracy 0.7  || GAN loss:  [-10.565048217773438, 0.7522391080856323, -17.73378562927246]\n",
      "Discriminator Loss :  0.68   Accuracy 0.64  || GAN loss:  [-12.013274192810059, 0.7429373264312744, -20.145946502685547]\n",
      "Discriminator Loss :  0.68   Accuracy 0.59  || GAN loss:  [-10.006077766418457, 0.7458621263504028, -16.801105499267578]\n",
      "Discriminator Loss :  0.69   Accuracy 0.53  || GAN loss:  [-10.137253761291504, 0.78301602602005, -17.025924682617188]\n",
      "Discriminator Loss :  0.66   Accuracy 0.69  || GAN loss:  [-7.3923211097717285, 0.7535658478736877, -12.446128845214844]\n",
      "Discriminator Loss :  0.67   Accuracy 0.7  || GAN loss:  [-10.812190055847168, 0.7565964460372925, -18.14641571044922]\n",
      "Discriminator Loss :  0.67   Accuracy 0.69  || GAN loss:  [-13.967022895812988, 0.7248400449752808, -23.39917755126953]\n",
      "Discriminator Loss :  0.67   Accuracy 0.72  || GAN loss:  [-14.799615859985352, 0.7360507845878601, -24.7887020111084]\n",
      "Discriminator Loss :  0.67   Accuracy 0.67  || GAN loss:  [-11.91413688659668, 0.7452640533447266, -19.98110580444336]\n",
      "Discriminator Loss :  0.66   Accuracy 0.66  || GAN loss:  [-8.036127090454102, 0.7606961131095886, -13.5203275680542]\n",
      "Discriminator Loss :  0.7   Accuracy 0.56  || GAN loss:  [-12.331663131713867, 0.7439404129981995, -20.676761627197266]\n",
      "Discriminator Loss :  0.67   Accuracy 0.75  || GAN loss:  [-8.652689933776855, 0.7469152808189392, -14.545635223388672]\n",
      "Discriminator Loss :  0.67   Accuracy 0.58  || GAN loss:  [-13.946101188659668, 0.7494444847106934, -23.368408203125]\n",
      "Discriminator Loss :  0.68   Accuracy 0.75  || GAN loss:  [-12.693615913391113, 0.7812896966934204, -21.286239624023438]\n",
      "Discriminator Loss :  0.67   Accuracy 0.67  || GAN loss:  [-10.205608367919922, 0.7484188079833984, -17.134082794189453]\n",
      "Discriminator Loss :  0.67   Accuracy 0.58  || GAN loss:  [-12.829368591308594, 0.7375087738037109, -21.505197525024414]\n",
      "Discriminator Loss :  0.66   Accuracy 0.7  || GAN loss:  [-11.19779109954834, 0.7660555839538574, -18.790660858154297]\n",
      "Discriminator Loss :  0.68   Accuracy 0.62  || GAN loss:  [-8.933893203735352, 0.7613002061843872, -15.016704559326172]\n",
      "\n",
      "Epoch :  34\n"
     ]
    },
    {
     "data": {
      "application/vnd.jupyter.widget-view+json": {
       "model_id": "84b41587521f4025b62a051006f382ce",
       "version_major": 2,
       "version_minor": 0
      },
      "text/plain": [
       "HBox(children=(HTML(value=''), FloatProgress(value=0.0, max=18.0), HTML(value='')))"
      ]
     },
     "metadata": {},
     "output_type": "display_data"
    },
    {
     "name": "stdout",
     "output_type": "stream",
     "text": [
      "Discriminator Loss :  0.67   Accuracy 0.77  || GAN loss:  [-9.24587631225586, 0.7660385966300964, -15.537466049194336]\n",
      "Discriminator Loss :  0.67   Accuracy 0.73  || GAN loss:  [-11.123428344726562, 0.7583293914794922, -18.665435791015625]\n",
      "Discriminator Loss :  0.68   Accuracy 0.66  || GAN loss:  [-14.043041229248047, 0.7442070841789246, -23.529102325439453]\n",
      "Discriminator Loss :  0.68   Accuracy 0.61  || GAN loss:  [-9.810919761657715, 0.7426027059555054, -16.475299835205078]\n",
      "Discriminator Loss :  0.67   Accuracy 0.66  || GAN loss:  [-14.063531875610352, 0.7670584917068481, -23.567062377929688]\n",
      "Discriminator Loss :  0.66   Accuracy 0.73  || GAN loss:  [-9.728899002075195, 0.7545727491378784, -16.340593338012695]\n",
      "Discriminator Loss :  0.69   Accuracy 0.53  || GAN loss:  [-9.481881141662598, 0.7458804845809937, -15.927447319030762]\n",
      "Discriminator Loss :  0.68   Accuracy 0.58  || GAN loss:  [-10.104450225830078, 0.7470641136169434, -16.965259552001953]\n",
      "Discriminator Loss :  0.67   Accuracy 0.7  || GAN loss:  [-13.925068855285645, 0.7470694780349731, -23.332958221435547]\n",
      "Discriminator Loss :  0.68   Accuracy 0.69  || GAN loss:  [-10.22834300994873, 0.7521284818649292, -17.172592163085938]\n",
      "Discriminator Loss :  0.69   Accuracy 0.55  || GAN loss:  [-7.701553821563721, 0.7559443712234497, -12.961913108825684]\n",
      "Discriminator Loss :  0.69   Accuracy 0.64  || GAN loss:  [-12.418539047241211, 0.7416234016418457, -20.821168899536133]\n",
      "Discriminator Loss :  0.67   Accuracy 0.7  || GAN loss:  [-8.388914108276367, 0.7436981201171875, -14.105472564697266]\n",
      "Discriminator Loss :  0.67   Accuracy 0.69  || GAN loss:  [-13.765852928161621, 0.7381113767623901, -23.06610679626465]\n",
      "Discriminator Loss :  0.67   Accuracy 0.7  || GAN loss:  [-8.105719566345215, 0.7474763989448547, -13.634111404418945]\n",
      "Discriminator Loss :  0.68   Accuracy 0.67  || GAN loss:  [-12.536969184875488, 0.7380447387695312, -21.017955780029297]\n",
      "Discriminator Loss :  0.68   Accuracy 0.66  || GAN loss:  [-12.542977333068848, 0.7343847751617432, -21.027359008789062]\n",
      "Discriminator Loss :  0.68   Accuracy 0.59  || GAN loss:  [-12.992025375366211, 0.7589919567108154, -21.77987289428711]\n",
      "\n",
      "Epoch :  35\n"
     ]
    },
    {
     "data": {
      "application/vnd.jupyter.widget-view+json": {
       "model_id": "d34140e593b74f4a96d5ffae9c93040f",
       "version_major": 2,
       "version_minor": 0
      },
      "text/plain": [
       "HBox(children=(HTML(value=''), FloatProgress(value=0.0, max=18.0), HTML(value='')))"
      ]
     },
     "metadata": {},
     "output_type": "display_data"
    },
    {
     "name": "stdout",
     "output_type": "stream",
     "text": [
      "Discriminator Loss :  0.67   Accuracy 0.75  || GAN loss:  [-9.599188804626465, 0.7448376417160034, -16.122787475585938]\n",
      "Discriminator Loss :  0.67   Accuracy 0.73  || GAN loss:  [-4.862611293792725, 0.7266623973846436, -8.225461959838867]\n",
      "Discriminator Loss :  0.66   Accuracy 0.77  || GAN loss:  [-9.542038917541504, 0.7562424540519714, -16.029438018798828]\n",
      "Discriminator Loss :  0.67   Accuracy 0.75  || GAN loss:  [-10.203433990478516, 0.7687259912490845, -17.13384437561035]\n",
      "Discriminator Loss :  0.67   Accuracy 0.69  || GAN loss:  [-11.444178581237793, 0.7418199777603149, -19.197265625]\n",
      "Discriminator Loss :  0.69   Accuracy 0.69  || GAN loss:  [-10.314042091369629, 0.7677909135818481, -17.318035125732422]\n",
      "Discriminator Loss :  0.68   Accuracy 0.67  || GAN loss:  [-9.055548667907715, 0.7632976174354553, -15.219797134399414]\n",
      "Discriminator Loss :  0.66   Accuracy 0.75  || GAN loss:  [-15.205299377441406, 0.7698999047279358, -25.470481872558594]\n",
      "Discriminator Loss :  0.67   Accuracy 0.69  || GAN loss:  [-10.84603500366211, 0.7432366609573364, -18.200597763061523]\n",
      "Discriminator Loss :  0.69   Accuracy 0.58  || GAN loss:  [-12.911189079284668, 0.7415663599967957, -21.642242431640625]\n",
      "Discriminator Loss :  0.68   Accuracy 0.69  || GAN loss:  [-12.405965805053711, 0.7572474479675293, -20.80281639099121]\n",
      "Discriminator Loss :  0.68   Accuracy 0.66  || GAN loss:  [-12.174933433532715, 0.7549583911895752, -20.417381286621094]\n",
      "Discriminator Loss :  0.68   Accuracy 0.67  || GAN loss:  [-12.276233673095703, 0.7766403555870056, -20.589828491210938]\n",
      "Discriminator Loss :  0.68   Accuracy 0.61  || GAN loss:  [-6.481815814971924, 0.7263380885124207, -10.924081802368164]\n",
      "Discriminator Loss :  0.68   Accuracy 0.67  || GAN loss:  [-11.912741661071777, 0.7563093304634094, -19.980621337890625]\n",
      "Discriminator Loss :  0.66   Accuracy 0.7  || GAN loss:  [-12.519193649291992, 0.7536226511001587, -20.990924835205078]\n",
      "Discriminator Loss :  0.68   Accuracy 0.62  || GAN loss:  [-13.090933799743652, 0.7622948884963989, -21.945270538330078]\n",
      "Discriminator Loss :  0.67   Accuracy 0.72  || GAN loss:  [-11.792899131774902, 0.7628539800643921, -19.781972885131836]\n",
      "\n",
      "Epoch :  36\n"
     ]
    },
    {
     "data": {
      "application/vnd.jupyter.widget-view+json": {
       "model_id": "cd816e0ed15f46dda6eb19c8d618075b",
       "version_major": 2,
       "version_minor": 0
      },
      "text/plain": [
       "HBox(children=(HTML(value=''), FloatProgress(value=0.0, max=18.0), HTML(value='')))"
      ]
     },
     "metadata": {},
     "output_type": "display_data"
    },
    {
     "name": "stdout",
     "output_type": "stream",
     "text": [
      "Discriminator Loss :  0.67   Accuracy 0.69  || GAN loss:  [-11.952718734741211, 0.7465635538101196, -20.045623779296875]\n",
      "Discriminator Loss :  0.67   Accuracy 0.66  || GAN loss:  [-9.949039459228516, 0.7546994686126709, -16.707515716552734]\n",
      "Discriminator Loss :  0.68   Accuracy 0.62  || GAN loss:  [-11.940437316894531, 0.7501508593559265, -20.025753021240234]\n",
      "Discriminator Loss :  0.68   Accuracy 0.69  || GAN loss:  [-8.53573989868164, 0.7686030864715576, -14.354333877563477]\n",
      "Discriminator Loss :  0.66   Accuracy 0.64  || GAN loss:  [-13.989361763000488, 0.7482775449752808, -23.44031524658203]\n",
      "Discriminator Loss :  0.67   Accuracy 0.61  || GAN loss:  [-12.25932788848877, 0.7432205677032471, -20.556081771850586]\n",
      "Discriminator Loss :  0.68   Accuracy 0.58  || GAN loss:  [-9.347099304199219, 0.7493371963500977, -15.703388214111328]\n",
      "Discriminator Loss :  0.67   Accuracy 0.67  || GAN loss:  [-11.609668731689453, 0.7371875643730164, -19.472312927246094]\n",
      "Discriminator Loss :  0.67   Accuracy 0.62  || GAN loss:  [-10.247523307800293, 0.7444890141487122, -17.203285217285156]\n",
      "Discriminator Loss :  0.67   Accuracy 0.75  || GAN loss:  [-10.289329528808594, 0.757701575756073, -17.275165557861328]\n",
      "Discriminator Loss :  0.67   Accuracy 0.66  || GAN loss:  [-10.063149452209473, 0.754714846611023, -16.897701263427734]\n",
      "Discriminator Loss :  0.68   Accuracy 0.69  || GAN loss:  [-12.718294143676758, 0.7673649787902832, -21.325050354003906]\n",
      "Discriminator Loss :  0.67   Accuracy 0.66  || GAN loss:  [-14.689713478088379, 0.7487235069274902, -24.607641220092773]\n",
      "Discriminator Loss :  0.68   Accuracy 0.66  || GAN loss:  [-8.661231994628906, 0.7655198574066162, -14.562973022460938]\n",
      "Discriminator Loss :  0.67   Accuracy 0.64  || GAN loss:  [-10.774532318115234, 0.7566567659378052, -18.083662033081055]\n",
      "Discriminator Loss :  0.68   Accuracy 0.61  || GAN loss:  [-10.956489562988281, 0.7733644247055054, -18.38970947265625]\n",
      "Discriminator Loss :  0.67   Accuracy 0.64  || GAN loss:  [-8.67978286743164, 0.7456345558166504, -14.590576171875]\n",
      "Discriminator Loss :  0.66   Accuracy 0.72  || GAN loss:  [-8.680340766906738, 0.7446857690811157, -14.591348648071289]\n",
      "\n",
      "Epoch :  37\n"
     ]
    },
    {
     "data": {
      "application/vnd.jupyter.widget-view+json": {
       "model_id": "fcfe3f64c00548ac86e92a084b32fcd2",
       "version_major": 2,
       "version_minor": 0
      },
      "text/plain": [
       "HBox(children=(HTML(value=''), FloatProgress(value=0.0, max=18.0), HTML(value='')))"
      ]
     },
     "metadata": {},
     "output_type": "display_data"
    },
    {
     "name": "stdout",
     "output_type": "stream",
     "text": [
      "Discriminator Loss :  0.67   Accuracy 0.77  || GAN loss:  [-8.987921714782715, 0.7473713159561157, -15.10443115234375]\n",
      "Discriminator Loss :  0.66   Accuracy 0.73  || GAN loss:  [-10.299925804138184, 0.7520061135292053, -17.29187774658203]\n",
      "Discriminator Loss :  0.68   Accuracy 0.64  || GAN loss:  [-11.792701721191406, 0.7360233664512634, -19.77717399597168]\n",
      "Discriminator Loss :  0.67   Accuracy 0.61  || GAN loss:  [-10.239553451538086, 0.7544523477554321, -17.19166374206543]\n",
      "Discriminator Loss :  0.68   Accuracy 0.66  || GAN loss:  [-11.837108612060547, 0.7648427486419678, -19.855987548828125]\n",
      "Discriminator Loss :  0.67   Accuracy 0.69  || GAN loss:  [-12.782781600952148, 0.7583931684494019, -21.431034088134766]\n",
      "Discriminator Loss :  0.69   Accuracy 0.58  || GAN loss:  [-12.827116966247559, 0.7802155017852783, -21.508563995361328]\n",
      "Discriminator Loss :  0.67   Accuracy 0.64  || GAN loss:  [-6.976632595062256, 0.749494731426239, -11.752635955810547]\n",
      "Discriminator Loss :  0.67   Accuracy 0.61  || GAN loss:  [-13.146827697753906, 0.7612968683242798, -22.03826141357422]\n",
      "Discriminator Loss :  0.67   Accuracy 0.64  || GAN loss:  [-8.204446792602539, 0.7529995441436768, -13.799577713012695]\n",
      "Discriminator Loss :  0.66   Accuracy 0.7  || GAN loss:  [-10.779200553894043, 0.7642416954040527, -18.092708587646484]\n",
      "Discriminator Loss :  0.67   Accuracy 0.62  || GAN loss:  [-10.242895126342773, 0.7455623149871826, -17.195751190185547]\n",
      "Discriminator Loss :  0.67   Accuracy 0.69  || GAN loss:  [-13.790085792541504, 0.7384611964225769, -23.106552124023438]\n",
      "Discriminator Loss :  0.67   Accuracy 0.64  || GAN loss:  [-14.86474895477295, 0.7642661333084106, -24.901958465576172]\n",
      "Discriminator Loss :  0.67   Accuracy 0.67  || GAN loss:  [-10.344593048095703, 0.7742631435394287, -17.370031356811523]\n",
      "Discriminator Loss :  0.68   Accuracy 0.66  || GAN loss:  [-12.821863174438477, 0.7479212880134583, -21.49442481994629]\n",
      "Discriminator Loss :  0.68   Accuracy 0.67  || GAN loss:  [-11.823417663574219, 0.764826238155365, -19.833166122436523]\n",
      "Discriminator Loss :  0.69   Accuracy 0.56  || GAN loss:  [-9.847299575805664, 0.746152400970459, -16.536523818969727]\n",
      "\n",
      "Epoch :  38\n"
     ]
    },
    {
     "data": {
      "application/vnd.jupyter.widget-view+json": {
       "model_id": "5f757082595e4b01be857ac30bfa72d0",
       "version_major": 2,
       "version_minor": 0
      },
      "text/plain": [
       "HBox(children=(HTML(value=''), FloatProgress(value=0.0, max=18.0), HTML(value='')))"
      ]
     },
     "metadata": {},
     "output_type": "display_data"
    },
    {
     "name": "stdout",
     "output_type": "stream",
     "text": [
      "Discriminator Loss :  0.67   Accuracy 0.75  || GAN loss:  [-12.361416816711426, 0.7628403902053833, -20.729501724243164]\n",
      "Discriminator Loss :  0.66   Accuracy 0.69  || GAN loss:  [-10.918566703796387, 0.7459313869476318, -18.32193374633789]\n",
      "Discriminator Loss :  0.67   Accuracy 0.75  || GAN loss:  [-12.654417991638184, 0.7560412883758545, -21.216703414916992]\n",
      "Discriminator Loss :  0.67   Accuracy 0.67  || GAN loss:  [-8.572577476501465, 0.7819613814353943, -14.41795539855957]\n",
      "Discriminator Loss :  0.66   Accuracy 0.72  || GAN loss:  [-9.980829238891602, 0.7517086267471313, -16.759998321533203]\n",
      "Discriminator Loss :  0.67   Accuracy 0.72  || GAN loss:  [-12.530984878540039, 0.7667622566223145, -21.012767791748047]\n",
      "Discriminator Loss :  0.68   Accuracy 0.66  || GAN loss:  [-8.081869125366211, 0.7787004709243774, -13.599565505981445]\n",
      "Discriminator Loss :  0.68   Accuracy 0.69  || GAN loss:  [-14.576493263244629, 0.7812228202819824, -24.424358367919922]\n",
      "Discriminator Loss :  0.68   Accuracy 0.69  || GAN loss:  [-13.416291236877441, 0.7413197755813599, -22.484037399291992]\n",
      "Discriminator Loss :  0.67   Accuracy 0.7  || GAN loss:  [-10.491947174072266, 0.7594199776649475, -17.613147735595703]\n",
      "Discriminator Loss :  0.68   Accuracy 0.59  || GAN loss:  [-11.80382251739502, 0.7899004220962524, -19.8046875]\n",
      "Discriminator Loss :  0.66   Accuracy 0.73  || GAN loss:  [-12.854391098022461, 0.7710486650466919, -21.552492141723633]\n",
      "Discriminator Loss :  0.66   Accuracy 0.73  || GAN loss:  [-8.960281372070312, 0.7413820028305054, -15.057365417480469]\n",
      "Discriminator Loss :  0.68   Accuracy 0.64  || GAN loss:  [-6.986032009124756, 0.7631489038467407, -11.770577430725098]\n",
      "Discriminator Loss :  0.67   Accuracy 0.66  || GAN loss:  [-12.925192832946777, 0.7619751691818237, -21.668983459472656]\n",
      "Discriminator Loss :  0.67   Accuracy 0.7  || GAN loss:  [-9.740789413452148, 0.7383700609207153, -16.357709884643555]\n",
      "Discriminator Loss :  0.69   Accuracy 0.55  || GAN loss:  [-13.949753761291504, 0.7669329643249512, -23.377410888671875]\n",
      "Discriminator Loss :  0.67   Accuracy 0.67  || GAN loss:  [-11.821856498718262, 0.7533267736434937, -19.82864761352539]\n",
      "\n",
      "Epoch :  39\n"
     ]
    },
    {
     "data": {
      "application/vnd.jupyter.widget-view+json": {
       "model_id": "4e43b0b10623490abfc9d76bc5f6f45b",
       "version_major": 2,
       "version_minor": 0
      },
      "text/plain": [
       "HBox(children=(HTML(value=''), FloatProgress(value=0.0, max=18.0), HTML(value='')))"
      ]
     },
     "metadata": {},
     "output_type": "display_data"
    },
    {
     "name": "stdout",
     "output_type": "stream",
     "text": [
      "Discriminator Loss :  0.66   Accuracy 0.81  || GAN loss:  [-12.705636978149414, 0.7580718994140625, -21.302406311035156]\n",
      "Discriminator Loss :  0.67   Accuracy 0.73  || GAN loss:  [-8.38852310180664, 0.7668224573135376, -14.108675003051758]\n",
      "Discriminator Loss :  0.67   Accuracy 0.69  || GAN loss:  [-11.941110610961914, 0.7594279050827026, -20.02842140197754]\n",
      "Discriminator Loss :  0.68   Accuracy 0.64  || GAN loss:  [-8.758307456970215, 0.7613128423690796, -14.7240629196167]\n",
      "Discriminator Loss :  0.68   Accuracy 0.67  || GAN loss:  [-10.2587251663208, 0.7776573300361633, -17.22748374938965]\n",
      "Discriminator Loss :  0.68   Accuracy 0.7  || GAN loss:  [-8.075489044189453, 0.757064700126648, -13.585325241088867]\n",
      "Discriminator Loss :  0.69   Accuracy 0.55  || GAN loss:  [-10.868253707885742, 0.7407060861587524, -18.237207412719727]\n",
      "Discriminator Loss :  0.68   Accuracy 0.67  || GAN loss:  [-11.282890319824219, 0.7385785579681396, -18.927913665771484]\n",
      "Discriminator Loss :  0.66   Accuracy 0.67  || GAN loss:  [-9.752538681030273, 0.7476311922073364, -16.378835678100586]\n",
      "Discriminator Loss :  0.66   Accuracy 0.73  || GAN loss:  [-10.17717170715332, 0.724229097366333, -17.082656860351562]\n",
      "Discriminator Loss :  0.67   Accuracy 0.72  || GAN loss:  [-9.497111320495605, 0.7609983682632446, -15.955350875854492]\n",
      "Discriminator Loss :  0.67   Accuracy 0.67  || GAN loss:  [-10.665056228637695, 0.7455823421478271, -17.899356842041016]\n",
      "Discriminator Loss :  0.67   Accuracy 0.56  || GAN loss:  [-13.439874649047852, 0.7569043636322021, -22.52593994140625]\n",
      "Discriminator Loss :  0.68   Accuracy 0.7  || GAN loss:  [-8.949700355529785, 0.7668993473052979, -15.043983459472656]\n",
      "Discriminator Loss :  0.68   Accuracy 0.67  || GAN loss:  [-10.806694030761719, 0.7500560283660889, -18.136165618896484]\n",
      "Discriminator Loss :  0.68   Accuracy 0.58  || GAN loss:  [-8.439691543579102, 0.7739942073822021, -14.195150375366211]\n",
      "Discriminator Loss :  0.67   Accuracy 0.67  || GAN loss:  [-12.062613487243652, 0.7588495016098022, -20.2308292388916]\n",
      "Discriminator Loss :  0.67   Accuracy 0.72  || GAN loss:  [-11.786094665527344, 0.7711061835289001, -19.77200698852539]\n",
      "\n"
     ]
    }
   ],
   "source": [
    "# Train Functions\n",
    "train_all_models(discriminator, generator, gan_model, train_ds, num_epochs=40)"
   ]
  },
  {
   "cell_type": "markdown",
   "id": "843b9d03",
   "metadata": {},
   "source": [
    "# Load and Run the Models"
   ]
  },
  {
   "cell_type": "code",
   "execution_count": 32,
   "id": "9a09d498",
   "metadata": {},
   "outputs": [
    {
     "name": "stdout",
     "output_type": "stream",
     "text": [
      "WARNING:tensorflow:No training configuration found in the save file, so the model was *not* compiled. Compile it manually.\n"
     ]
    }
   ],
   "source": [
    "load = 0\n",
    "if(load = 1):\n",
    "    generator = tf.keras.models.load_model('saved_model2/gen_60.h5')"
   ]
  },
  {
   "cell_type": "code",
   "execution_count": 46,
   "id": "357b5ac7",
   "metadata": {},
   "outputs": [
    {
     "data": {
      "application/vnd.jupyter.widget-view+json": {
       "model_id": "9f92cd2250704b96a73451154d2a4a67",
       "version_major": 2,
       "version_minor": 0
      },
      "text/plain": [
       "HBox(children=(HTML(value=''), FloatProgress(value=0.0, max=18.0), HTML(value='')))"
      ]
     },
     "metadata": {},
     "output_type": "display_data"
    },
    {
     "name": "stdout",
     "output_type": "stream",
     "text": [
      "\n"
     ]
    },
    {
     "data": {
      "text/plain": [
       "(394, 560)"
      ]
     },
     "execution_count": 46,
     "metadata": {},
     "output_type": "execute_result"
    }
   ],
   "source": [
    "#Training Missclassification\n",
    "count = 0\n",
    "total_count = 0\n",
    "for x in tq.tqdm(train_ds):\n",
    "    for y in range(len(x[0])):\n",
    "        if( x[1][y] != 3):\n",
    "            im = tf.expand_dims(x[0][y], 0)\n",
    "            predb = generator(im )\n",
    "            pred = classifier.predict(predb)\n",
    "            \n",
    "            total_count = total_count + 1\n",
    "            count = count + (np.argmax(pred[0]) != x[1][y].numpy())\n",
    "            #print(np.argmax(pred[0]) , x[1][y].numpy())\n",
    "count, total_count"
   ]
  },
  {
   "cell_type": "code",
   "execution_count": 47,
   "id": "7b1f2b60",
   "metadata": {},
   "outputs": [
    {
     "data": {
      "application/vnd.jupyter.widget-view+json": {
       "model_id": "07c1836d969549a7b2ce053b4ec4d8a6",
       "version_major": 2,
       "version_minor": 0
      },
      "text/plain": [
       "HBox(children=(HTML(value=''), FloatProgress(value=0.0, max=5.0), HTML(value='')))"
      ]
     },
     "metadata": {},
     "output_type": "display_data"
    },
    {
     "name": "stdout",
     "output_type": "stream",
     "text": [
      "\n"
     ]
    },
    {
     "data": {
      "text/plain": [
       "(92, 140)"
      ]
     },
     "execution_count": 47,
     "metadata": {},
     "output_type": "execute_result"
    }
   ],
   "source": [
    "# Validation Missclassification\n",
    "count = 0\n",
    "total_count = 0\n",
    "for x in tq.tqdm(val_ds):\n",
    "    for y in range(len(x[0])):\n",
    "        if( x[1][y] != 3):\n",
    "            im = tf.expand_dims(x[0][y], 0)\n",
    "            predb = generator(im )\n",
    "            pred = classifier.predict(predb)\n",
    "            \n",
    "            total_count = total_count + 1\n",
    "            count = count + (np.argmax(pred[0]) != x[1][y].numpy())\n",
    "            #print(np.argmax(pred[0]) , x[1][y].numpy())\n",
    "count, total_count"
   ]
  },
  {
   "cell_type": "code",
   "execution_count": null,
   "id": "0cce8fe1",
   "metadata": {},
   "outputs": [],
   "source": []
  },
  {
   "cell_type": "code",
   "execution_count": null,
   "id": "f74c9219",
   "metadata": {},
   "outputs": [],
   "source": []
  }
 ],
 "metadata": {
  "kernelspec": {
   "display_name": "Python 3",
   "language": "python",
   "name": "python3"
  },
  "language_info": {
   "codemirror_mode": {
    "name": "ipython",
    "version": 3
   },
   "file_extension": ".py",
   "mimetype": "text/x-python",
   "name": "python",
   "nbconvert_exporter": "python",
   "pygments_lexer": "ipython3",
   "version": "3.8.5"
  }
 },
 "nbformat": 4,
 "nbformat_minor": 5
}
