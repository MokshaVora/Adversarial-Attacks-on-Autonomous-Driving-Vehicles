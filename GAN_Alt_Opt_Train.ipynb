{
 "cells": [
  {
   "cell_type": "code",
   "execution_count": 1,
   "id": "d00584ef",
   "metadata": {},
   "outputs": [],
   "source": [
    "import os\n",
    "os.environ['TF_FORCE_GPU_ALLOW_GROWTH'] = 'true'\n"
   ]
  },
  {
   "cell_type": "code",
   "execution_count": 3,
   "id": "efa26081",
   "metadata": {},
   "outputs": [],
   "source": [
    "import numpy as np\n",
    "import tensorflow as tf\n",
    "import pandas as pd\n",
    "import matplotlib.pyplot as plt\n",
    "import csv\n",
    "import cv2\n",
    "import tqdm.notebook as tq\n",
    "from sklearn.utils import shuffle\n",
    "from keras.optimizers import *\n",
    "from keras.losses import *\n",
    "from keras import Sequential, Model\n",
    "from keras.layers import *\n",
    "import PIL\n",
    "import PIL.Image\n",
    "import keras.backend as K\n",
    "#tf.config.run_functions_eagerly(True)"
   ]
  },
  {
   "cell_type": "code",
   "execution_count": 4,
   "id": "a5e49c09",
   "metadata": {},
   "outputs": [],
   "source": [
    "data_location = 'Dataset/'\n",
    "model_location = 'Models/'"
   ]
  },
  {
   "cell_type": "code",
   "execution_count": null,
   "id": "4a1a7e67",
   "metadata": {},
   "outputs": [],
   "source": []
  },
  {
   "cell_type": "code",
   "execution_count": 5,
   "id": "2c6be903",
   "metadata": {},
   "outputs": [],
   "source": [
    "def readTrafficSigns(rootpath, num_classes):\n",
    "    '''Arguments: path to the traffic sign data, for example './GTSRB/Training'\n",
    "    Returns:   list of images, list of corresponding labels'''\n",
    "    images = []\n",
    "    labels = []\n",
    "    for c in tq.tqdm( range(0,43) ):\n",
    "        prefix = rootpath + '/' + format(c, '05d') + '/' \n",
    "        gtFile = open(prefix + 'GT-'+ format(c, '05d') + '.csv') \n",
    "        gtReader = csv.reader(gtFile, delimiter=';') \n",
    "        next(gtReader) \n",
    "        \n",
    "        for row in gtReader:\n",
    "            img = plt.imread(prefix + row[0])\n",
    "            img = cv2.resize(img, (30, 30))\n",
    "            d = np.zeros(num_classes)\n",
    "            d[int(row[7])] = 1\n",
    "            images.append(img) \n",
    "            labels.append(d)\n",
    "        gtFile.close()\n",
    "    return np.array(images), np.array(labels)"
   ]
  },
  {
   "cell_type": "code",
   "execution_count": null,
   "id": "07a9e5bc",
   "metadata": {},
   "outputs": [],
   "source": []
  },
  {
   "cell_type": "code",
   "execution_count": 6,
   "id": "effadc72",
   "metadata": {},
   "outputs": [],
   "source": [
    "def get_discriminator(in_shape):\n",
    "    \n",
    "    model = Sequential()\n",
    "    model.add(Conv2D(64, (3,3), strides=(2, 2), padding='same', input_shape=in_shape))\n",
    "    model.add(LeakyReLU(alpha=0.2))\n",
    "    model.add(Dropout(0.4))\n",
    "    model.add(Conv2D(64, (3,3), strides=(2, 2), padding='same'))\n",
    "    model.add(LeakyReLU(alpha=0.2))\n",
    "    model.add(Dropout(0.4))\n",
    "    model.add(Flatten())\n",
    "    model.add(Dense(1, activation='sigmoid'))\n",
    "    opt = Adam(lr=0.00001, beta_1=0.5)\n",
    "    model.compile(loss='binary_crossentropy', optimizer=opt, metrics=['accuracy'])\n",
    "    return model\n",
    "\n",
    "def get_generator(in_shape):\n",
    "    \n",
    "    n_nodes      = 128 * 15 * 15\n",
    "    input_image  = Input(in_shape)\n",
    "    #rescaled    = experimental.preprocessing.Rescaling(1./255)(input_image)\n",
    "    flat         = Flatten() (input_image)\n",
    "    fc1          = Dense(n_nodes, kernel_initializer=tf.keras.initializers.HeNormal()) (flat)\n",
    "    lr1          = ReLU() (fc1)\n",
    "    out1         = Reshape((15, 15, 128)) (lr1)\n",
    "    tconv1       = Conv2DTranspose(128, (4,4), strides=(2,2), padding='same',\n",
    "                                  kernel_initializer=tf.keras.initializers.HeNormal()) (out1)\n",
    "    lr2          = LeakyReLU(alpha=0.2) (tconv1)\n",
    "    noise        = Conv2D(3, (7,7), activation='sigmoid', padding='same',\n",
    "                          kernel_initializer=tf.keras.initializers.HeNormal()) (lr2)\n",
    "    \n",
    "    #noise = tf.clip_by_value(noise, clip_value_min=-0.15, clip_value_max=0.15)\n",
    "    output_image = 0.9 * input_image +  0.1 *noise \n",
    "    output_image = tf.clip_by_value(output_image, clip_value_min=0, clip_value_max=1)\n",
    "    \n",
    "    model = Model(inputs=input_image, outputs=output_image)\n",
    "    opt = Adam(lr=0.001, beta_1=0.6)\n",
    "    model.compile(loss='binary_crossentropy', optimizer=opt)\n",
    "    return model\n",
    "\n",
    "def define_gan(generator, discriminator):   # Discriminator Loss Model\n",
    "    \n",
    "    discriminator.trainable = False\n",
    "    model = Sequential()\n",
    "    model.add( generator )\n",
    "    model.add( discriminator )\n",
    "    opt = Adam(lr=0.0001, beta_1=0.5)\n",
    "    model.compile(loss='binary_crossentropy', optimizer=opt)\n",
    "    return model\n",
    "\n",
    "def custom_loss(y_actual, y_predicted):\n",
    "    loss = K.categorical_crossentropy(y_actual, y_predicted)\n",
    "    return -1 * loss\n",
    "\n",
    "def define_adv(generator, classifier):\n",
    "    classifier.trainable = False\n",
    "    model = Sequential()\n",
    "    model.add( generator )\n",
    "    model.add( classifier )\n",
    "    opt = Adam(lr=0.004, beta_1=0.5)\n",
    "    model.compile(loss=custom_loss, optimizer='adam')\n",
    "    return model"
   ]
  },
  {
   "cell_type": "code",
   "execution_count": null,
   "id": "e1e1620a",
   "metadata": {},
   "outputs": [],
   "source": []
  },
  {
   "cell_type": "code",
   "execution_count": null,
   "id": "cd7c0005",
   "metadata": {},
   "outputs": [],
   "source": []
  },
  {
   "cell_type": "code",
   "execution_count": null,
   "id": "3589f0a1",
   "metadata": {},
   "outputs": [],
   "source": []
  },
  {
   "cell_type": "code",
   "execution_count": 7,
   "id": "c0d4ff03",
   "metadata": {},
   "outputs": [],
   "source": [
    "def generate_real_datas(train_ds):\n",
    "    image_batch, label_batch = next(iter(train_ds))\n",
    "    return image_batch, np.ones((len(image_batch), 1))\n",
    "\n",
    "def generate_fake_datas(g_model, train_ds):\n",
    "    image_batch, label_batch = next(iter(train_ds))\n",
    "    fake_images = g_model.predict(image_batch)\n",
    "    return fake_images, np.zeros( (len(fake_images), 1) )\n",
    "\n",
    "def generate_discriminator_dataset(g_model, train_ds, batch_size):\n",
    "    X_real, Y_real = generate_real_datas(train_ds)\n",
    "    X_fake, Y_fake = generate_fake_datas(g_model, train_ds)\n",
    "    X = np.concatenate(( X_real, X_fake ))\n",
    "    Y = np.concatenate(( Y_real, Y_fake ))\n",
    "    return X,Y\n",
    "\n",
    "def generate_gan_dataset(train_ds):\n",
    "    image_batch, label_batch = next(iter(train_ds))\n",
    "    return image_batch, tf.one_hot(label_batch, 4)"
   ]
  },
  {
   "cell_type": "code",
   "execution_count": null,
   "id": "ecdd7a64",
   "metadata": {},
   "outputs": [],
   "source": []
  },
  {
   "cell_type": "code",
   "execution_count": 8,
   "id": "fa711a80",
   "metadata": {},
   "outputs": [],
   "source": [
    "def train_all_models(d_model, g_model, gan_model, adv_model, train_ds, num_epochs = 10, train_dis = 1):\n",
    "    N_runs = len(train_ds)\n",
    "    for i in range(num_epochs):\n",
    "        print('Epoch : ', i)\n",
    "        Dloss, Dacc, GD_loss, GAN_loss = 0,0,0,0\n",
    "        for n in tq.tqdm( range(N_runs) ):\n",
    "            \n",
    "            X_dis, Y_dis = generate_discriminator_dataset(g_model, train_ds, batch_size)\n",
    "            if(n > 0):\n",
    "                dloss, dacc  = d_model.train_on_batch(X_dis, Y_dis)\n",
    "            else:\n",
    "                dloss, dacc = d_model.evaluate(X_dis, Y_dis, verbose = 0)\n",
    "    \n",
    "            X_gd, Y_gd   = generate_real_datas(train_ds)\n",
    "            gloss        = gan_model.train_on_batch(X_gd, Y_gd)\n",
    "            \n",
    "            X_gan, Y_gan = generate_gan_dataset(train_ds)\n",
    "            ganloss      = adv_model.train_on_batch(X_gan, Y_gan)\n",
    "            \n",
    "            \n",
    "            Dloss = Dloss + dloss\n",
    "            Dacc = Dacc + dacc\n",
    "            GD_loss = GD_loss + gloss\n",
    "            GAN_loss = GAN_loss + ganloss\n",
    "            # Future Work : Joint Trainng Model\n",
    "            #print('Discriminator Loss : ', round(dloss, 2), '  Accuracy', round(dacc,2),\n",
    "              #'|| GAN Loss: ', round(gloss,2) , ' || Adv loss: ', round(ganloss,2))\n",
    "        print('Discriminator Loss : ', round(Dloss/N_runs, 2), '  Accuracy', round(Dacc/N_runs,2),\n",
    "              '|| GD Loss: ', round(GD_loss/N_runs,2) , ' || GAN loss: ', round(GAN_loss/N_runs,2))\n",
    "        \n",
    "        if( i%20 == 0 and train_dis == 1):\n",
    "            g_model.save('saved_model/gen_'+ str(i) + '.h5')\n",
    "            d_model.save('saved_model/dis_'+ str(i) + '.h5')"
   ]
  },
  {
   "cell_type": "code",
   "execution_count": null,
   "id": "61032dd2",
   "metadata": {},
   "outputs": [],
   "source": []
  },
  {
   "cell_type": "code",
   "execution_count": null,
   "id": "2aeefe50",
   "metadata": {},
   "outputs": [],
   "source": []
  },
  {
   "cell_type": "markdown",
   "id": "7b5a369c",
   "metadata": {},
   "source": [
    "#  Execution "
   ]
  },
  {
   "cell_type": "code",
   "execution_count": 9,
   "id": "5415b8a5",
   "metadata": {},
   "outputs": [
    {
     "name": "stdout",
     "output_type": "stream",
     "text": [
      "Found 700 files belonging to 3 classes.\n",
      "Using 560 files for training.\n",
      "Found 700 files belonging to 3 classes.\n",
      "Using 140 files for validation.\n"
     ]
    }
   ],
   "source": [
    "sign_shape = (30, 30, 3)\n",
    "num_classes = 43\n",
    "num_epochs = 30\n",
    "\n",
    "batch_size = 32\n",
    "img_height = 30\n",
    "img_width = 30\n",
    "#images, labels = readTrafficSigns(data_location, 43)\n",
    "#images = images/256\n",
    "\n",
    "import pathlib\n",
    "data_dir = pathlib.Path('Dataset/Signs/')\n",
    "train_ds = tf.keras.preprocessing.image_dataset_from_directory( data_dir,  validation_split=0.2,\n",
    "  subset=\"training\",  seed=123,  image_size=(img_height, img_width),  batch_size=batch_size)\n",
    "val_ds = tf.keras.preprocessing.image_dataset_from_directory(  data_dir,  validation_split=0.2,\n",
    "  subset=\"validation\",  seed=123,  image_size=(img_height, img_width),  batch_size=batch_size)\n",
    "\n",
    "normalization_layer = tf.keras.layers.experimental.preprocessing.Rescaling(1./255)\n",
    "\n",
    "train_ds = train_ds.map(lambda x, y: (normalization_layer(x), y))\n",
    "val_ds = val_ds.map(lambda x, y: (normalization_layer(x), y))"
   ]
  },
  {
   "cell_type": "code",
   "execution_count": null,
   "id": "b79a2f46",
   "metadata": {},
   "outputs": [],
   "source": []
  },
  {
   "cell_type": "code",
   "execution_count": null,
   "id": "a3a0f6d6",
   "metadata": {},
   "outputs": [],
   "source": []
  },
  {
   "cell_type": "code",
   "execution_count": 13,
   "id": "8fecdbe6",
   "metadata": {},
   "outputs": [],
   "source": [
    "discriminator = get_discriminator(sign_shape)\n",
    "generator = get_generator(sign_shape)\n",
    "classifier = tf.keras.models.load_model(model_location +'model1.h5')\n",
    "\n",
    "gan_model  = define_gan(generator, discriminator)\n",
    "adv_model = define_adv(generator, classifier)\n",
    "\n",
    "#encoder = Encoder(model_location)\n",
    "#simulator = CarSimulator(model_location)"
   ]
  },
  {
   "cell_type": "code",
   "execution_count": 19,
   "id": "c93a28e8",
   "metadata": {
    "scrolled": true
   },
   "outputs": [
    {
     "name": "stdout",
     "output_type": "stream",
     "text": [
      "Epoch :  0\n"
     ]
    },
    {
     "data": {
      "application/vnd.jupyter.widget-view+json": {
       "model_id": "40c56bbb40284379936d252ffb00ed9b",
       "version_major": 2,
       "version_minor": 0
      },
      "text/plain": [
       "HBox(children=(HTML(value=''), FloatProgress(value=0.0, max=18.0), HTML(value='')))"
      ]
     },
     "metadata": {},
     "output_type": "display_data"
    },
    {
     "name": "stdout",
     "output_type": "stream",
     "text": [
      "\n",
      "Discriminator Loss :  0.7   Accuracy 0.48 || GD Loss:  0.68  || GAN loss:  -3.94\n",
      "Epoch :  1\n"
     ]
    },
    {
     "data": {
      "application/vnd.jupyter.widget-view+json": {
       "model_id": "8937970673064645a0584c00425d190d",
       "version_major": 2,
       "version_minor": 0
      },
      "text/plain": [
       "HBox(children=(HTML(value=''), FloatProgress(value=0.0, max=18.0), HTML(value='')))"
      ]
     },
     "metadata": {},
     "output_type": "display_data"
    },
    {
     "name": "stdout",
     "output_type": "stream",
     "text": [
      "\n",
      "Discriminator Loss :  0.7   Accuracy 0.46 || GD Loss:  0.68  || GAN loss:  -10.18\n",
      "Epoch :  2\n"
     ]
    },
    {
     "data": {
      "application/vnd.jupyter.widget-view+json": {
       "model_id": "a76b30d70ab641dbb418d2f9c95c885e",
       "version_major": 2,
       "version_minor": 0
      },
      "text/plain": [
       "HBox(children=(HTML(value=''), FloatProgress(value=0.0, max=18.0), HTML(value='')))"
      ]
     },
     "metadata": {},
     "output_type": "display_data"
    },
    {
     "name": "stdout",
     "output_type": "stream",
     "text": [
      "\n",
      "Discriminator Loss :  0.7   Accuracy 0.47 || GD Loss:  0.69  || GAN loss:  -10.53\n",
      "Epoch :  3\n"
     ]
    },
    {
     "data": {
      "application/vnd.jupyter.widget-view+json": {
       "model_id": "fa21de74a12b40759e1d58ffb6d90e64",
       "version_major": 2,
       "version_minor": 0
      },
      "text/plain": [
       "HBox(children=(HTML(value=''), FloatProgress(value=0.0, max=18.0), HTML(value='')))"
      ]
     },
     "metadata": {},
     "output_type": "display_data"
    },
    {
     "name": "stdout",
     "output_type": "stream",
     "text": [
      "\n",
      "Discriminator Loss :  0.7   Accuracy 0.49 || GD Loss:  0.69  || GAN loss:  -11.87\n",
      "Epoch :  4\n"
     ]
    },
    {
     "data": {
      "application/vnd.jupyter.widget-view+json": {
       "model_id": "ffb2b35e130e40558d3f31906179fc23",
       "version_major": 2,
       "version_minor": 0
      },
      "text/plain": [
       "HBox(children=(HTML(value=''), FloatProgress(value=0.0, max=18.0), HTML(value='')))"
      ]
     },
     "metadata": {},
     "output_type": "display_data"
    },
    {
     "name": "stdout",
     "output_type": "stream",
     "text": [
      "\n",
      "Discriminator Loss :  0.69   Accuracy 0.52 || GD Loss:  0.7  || GAN loss:  -12.23\n",
      "Epoch :  5\n"
     ]
    },
    {
     "data": {
      "application/vnd.jupyter.widget-view+json": {
       "model_id": "ebb2c1aaf94a4c6da04478787a38112e",
       "version_major": 2,
       "version_minor": 0
      },
      "text/plain": [
       "HBox(children=(HTML(value=''), FloatProgress(value=0.0, max=18.0), HTML(value='')))"
      ]
     },
     "metadata": {},
     "output_type": "display_data"
    },
    {
     "name": "stdout",
     "output_type": "stream",
     "text": [
      "\n",
      "Discriminator Loss :  0.69   Accuracy 0.5 || GD Loss:  0.7  || GAN loss:  -11.24\n",
      "Epoch :  6\n"
     ]
    },
    {
     "data": {
      "application/vnd.jupyter.widget-view+json": {
       "model_id": "642252509b8e4a1693a04dda68f7a98e",
       "version_major": 2,
       "version_minor": 0
      },
      "text/plain": [
       "HBox(children=(HTML(value=''), FloatProgress(value=0.0, max=18.0), HTML(value='')))"
      ]
     },
     "metadata": {},
     "output_type": "display_data"
    },
    {
     "name": "stdout",
     "output_type": "stream",
     "text": [
      "\n",
      "Discriminator Loss :  0.69   Accuracy 0.52 || GD Loss:  0.7  || GAN loss:  -12.47\n",
      "Epoch :  7\n"
     ]
    },
    {
     "data": {
      "application/vnd.jupyter.widget-view+json": {
       "model_id": "d28cd3b1aff4434d868ab51110eab570",
       "version_major": 2,
       "version_minor": 0
      },
      "text/plain": [
       "HBox(children=(HTML(value=''), FloatProgress(value=0.0, max=18.0), HTML(value='')))"
      ]
     },
     "metadata": {},
     "output_type": "display_data"
    },
    {
     "name": "stdout",
     "output_type": "stream",
     "text": [
      "\n",
      "Discriminator Loss :  0.7   Accuracy 0.49 || GD Loss:  0.71  || GAN loss:  -13.22\n",
      "Epoch :  8\n"
     ]
    },
    {
     "data": {
      "application/vnd.jupyter.widget-view+json": {
       "model_id": "04a65f24c0a2434288034a016a6ab712",
       "version_major": 2,
       "version_minor": 0
      },
      "text/plain": [
       "HBox(children=(HTML(value=''), FloatProgress(value=0.0, max=18.0), HTML(value='')))"
      ]
     },
     "metadata": {},
     "output_type": "display_data"
    },
    {
     "name": "stdout",
     "output_type": "stream",
     "text": [
      "\n",
      "Discriminator Loss :  0.69   Accuracy 0.53 || GD Loss:  0.71  || GAN loss:  -12.55\n",
      "Epoch :  9\n"
     ]
    },
    {
     "data": {
      "application/vnd.jupyter.widget-view+json": {
       "model_id": "4b33937c93a548ab86dfab7eb74e6446",
       "version_major": 2,
       "version_minor": 0
      },
      "text/plain": [
       "HBox(children=(HTML(value=''), FloatProgress(value=0.0, max=18.0), HTML(value='')))"
      ]
     },
     "metadata": {},
     "output_type": "display_data"
    },
    {
     "name": "stdout",
     "output_type": "stream",
     "text": [
      "\n",
      "Discriminator Loss :  0.69   Accuracy 0.52 || GD Loss:  0.71  || GAN loss:  -13.42\n",
      "Epoch :  10\n"
     ]
    },
    {
     "data": {
      "application/vnd.jupyter.widget-view+json": {
       "model_id": "f032c711cb634530aacdc249da9e649a",
       "version_major": 2,
       "version_minor": 0
      },
      "text/plain": [
       "HBox(children=(HTML(value=''), FloatProgress(value=0.0, max=18.0), HTML(value='')))"
      ]
     },
     "metadata": {},
     "output_type": "display_data"
    },
    {
     "name": "stdout",
     "output_type": "stream",
     "text": [
      "\n",
      "Discriminator Loss :  0.69   Accuracy 0.51 || GD Loss:  0.72  || GAN loss:  -14.05\n",
      "Epoch :  11\n"
     ]
    },
    {
     "data": {
      "application/vnd.jupyter.widget-view+json": {
       "model_id": "20fd9237a9b2480a876b87190baed1e5",
       "version_major": 2,
       "version_minor": 0
      },
      "text/plain": [
       "HBox(children=(HTML(value=''), FloatProgress(value=0.0, max=18.0), HTML(value='')))"
      ]
     },
     "metadata": {},
     "output_type": "display_data"
    },
    {
     "name": "stdout",
     "output_type": "stream",
     "text": [
      "\n",
      "Discriminator Loss :  0.69   Accuracy 0.55 || GD Loss:  0.72  || GAN loss:  -14.22\n",
      "Epoch :  12\n"
     ]
    },
    {
     "data": {
      "application/vnd.jupyter.widget-view+json": {
       "model_id": "a9c5804772d94adfadb042ef1e0cc97b",
       "version_major": 2,
       "version_minor": 0
      },
      "text/plain": [
       "HBox(children=(HTML(value=''), FloatProgress(value=0.0, max=18.0), HTML(value='')))"
      ]
     },
     "metadata": {},
     "output_type": "display_data"
    },
    {
     "name": "stdout",
     "output_type": "stream",
     "text": [
      "\n",
      "Discriminator Loss :  0.69   Accuracy 0.57 || GD Loss:  0.72  || GAN loss:  -14.32\n",
      "Epoch :  13\n"
     ]
    },
    {
     "data": {
      "application/vnd.jupyter.widget-view+json": {
       "model_id": "24ba85baacd54239a6ae19aa1e28c90f",
       "version_major": 2,
       "version_minor": 0
      },
      "text/plain": [
       "HBox(children=(HTML(value=''), FloatProgress(value=0.0, max=18.0), HTML(value='')))"
      ]
     },
     "metadata": {},
     "output_type": "display_data"
    },
    {
     "name": "stdout",
     "output_type": "stream",
     "text": [
      "\n",
      "Discriminator Loss :  0.69   Accuracy 0.56 || GD Loss:  0.72  || GAN loss:  -12.8\n",
      "Epoch :  14\n"
     ]
    },
    {
     "data": {
      "application/vnd.jupyter.widget-view+json": {
       "model_id": "66503b2a4ca14e2d82dd6872b6eb79e4",
       "version_major": 2,
       "version_minor": 0
      },
      "text/plain": [
       "HBox(children=(HTML(value=''), FloatProgress(value=0.0, max=18.0), HTML(value='')))"
      ]
     },
     "metadata": {},
     "output_type": "display_data"
    },
    {
     "name": "stdout",
     "output_type": "stream",
     "text": [
      "\n",
      "Discriminator Loss :  0.69   Accuracy 0.56 || GD Loss:  0.73  || GAN loss:  -13.65\n",
      "Epoch :  15\n"
     ]
    },
    {
     "data": {
      "application/vnd.jupyter.widget-view+json": {
       "model_id": "621cdb7d484d47d7965ccbaccb007859",
       "version_major": 2,
       "version_minor": 0
      },
      "text/plain": [
       "HBox(children=(HTML(value=''), FloatProgress(value=0.0, max=18.0), HTML(value='')))"
      ]
     },
     "metadata": {},
     "output_type": "display_data"
    },
    {
     "name": "stdout",
     "output_type": "stream",
     "text": [
      "\n",
      "Discriminator Loss :  0.69   Accuracy 0.57 || GD Loss:  0.73  || GAN loss:  -14.26\n",
      "Epoch :  16\n"
     ]
    },
    {
     "data": {
      "application/vnd.jupyter.widget-view+json": {
       "model_id": "1bfda574b71e40518f39635d9afa2fb4",
       "version_major": 2,
       "version_minor": 0
      },
      "text/plain": [
       "HBox(children=(HTML(value=''), FloatProgress(value=0.0, max=18.0), HTML(value='')))"
      ]
     },
     "metadata": {},
     "output_type": "display_data"
    },
    {
     "name": "stdout",
     "output_type": "stream",
     "text": [
      "\n",
      "Discriminator Loss :  0.69   Accuracy 0.56 || GD Loss:  0.73  || GAN loss:  -13.97\n",
      "Epoch :  17\n"
     ]
    },
    {
     "data": {
      "application/vnd.jupyter.widget-view+json": {
       "model_id": "47fa456a68274cf69a4466ce911e2603",
       "version_major": 2,
       "version_minor": 0
      },
      "text/plain": [
       "HBox(children=(HTML(value=''), FloatProgress(value=0.0, max=18.0), HTML(value='')))"
      ]
     },
     "metadata": {},
     "output_type": "display_data"
    },
    {
     "name": "stdout",
     "output_type": "stream",
     "text": [
      "\n",
      "Discriminator Loss :  0.69   Accuracy 0.6 || GD Loss:  0.73  || GAN loss:  -14.4\n",
      "Epoch :  18\n"
     ]
    },
    {
     "data": {
      "application/vnd.jupyter.widget-view+json": {
       "model_id": "3ff8860876e1409ca0de2e70615d2e0b",
       "version_major": 2,
       "version_minor": 0
      },
      "text/plain": [
       "HBox(children=(HTML(value=''), FloatProgress(value=0.0, max=18.0), HTML(value='')))"
      ]
     },
     "metadata": {},
     "output_type": "display_data"
    },
    {
     "name": "stdout",
     "output_type": "stream",
     "text": [
      "\n",
      "Discriminator Loss :  0.69   Accuracy 0.59 || GD Loss:  0.73  || GAN loss:  -13.22\n",
      "Epoch :  19\n"
     ]
    },
    {
     "data": {
      "application/vnd.jupyter.widget-view+json": {
       "model_id": "e8c260f69b3a4a94ac648b6871989fb2",
       "version_major": 2,
       "version_minor": 0
      },
      "text/plain": [
       "HBox(children=(HTML(value=''), FloatProgress(value=0.0, max=18.0), HTML(value='')))"
      ]
     },
     "metadata": {},
     "output_type": "display_data"
    },
    {
     "name": "stdout",
     "output_type": "stream",
     "text": [
      "\n",
      "Discriminator Loss :  0.69   Accuracy 0.61 || GD Loss:  0.73  || GAN loss:  -13.68\n",
      "Epoch :  20\n"
     ]
    },
    {
     "data": {
      "application/vnd.jupyter.widget-view+json": {
       "model_id": "944c6251a3be4e58a6d0374800b29fbe",
       "version_major": 2,
       "version_minor": 0
      },
      "text/plain": [
       "HBox(children=(HTML(value=''), FloatProgress(value=0.0, max=18.0), HTML(value='')))"
      ]
     },
     "metadata": {},
     "output_type": "display_data"
    },
    {
     "name": "stdout",
     "output_type": "stream",
     "text": [
      "\n",
      "Discriminator Loss :  0.69   Accuracy 0.64 || GD Loss:  0.73  || GAN loss:  -15.0\n",
      "Epoch :  21\n"
     ]
    },
    {
     "data": {
      "application/vnd.jupyter.widget-view+json": {
       "model_id": "06fabc709dd34076828da641d8dc0162",
       "version_major": 2,
       "version_minor": 0
      },
      "text/plain": [
       "HBox(children=(HTML(value=''), FloatProgress(value=0.0, max=18.0), HTML(value='')))"
      ]
     },
     "metadata": {},
     "output_type": "display_data"
    },
    {
     "name": "stdout",
     "output_type": "stream",
     "text": [
      "\n",
      "Discriminator Loss :  0.68   Accuracy 0.62 || GD Loss:  0.74  || GAN loss:  -15.27\n",
      "Epoch :  22\n"
     ]
    },
    {
     "data": {
      "application/vnd.jupyter.widget-view+json": {
       "model_id": "c84d5459c87f4fe090e1ea12cfa66d93",
       "version_major": 2,
       "version_minor": 0
      },
      "text/plain": [
       "HBox(children=(HTML(value=''), FloatProgress(value=0.0, max=18.0), HTML(value='')))"
      ]
     },
     "metadata": {},
     "output_type": "display_data"
    },
    {
     "name": "stdout",
     "output_type": "stream",
     "text": [
      "\n",
      "Discriminator Loss :  0.69   Accuracy 0.6 || GD Loss:  0.73  || GAN loss:  -14.6\n",
      "Epoch :  23\n"
     ]
    },
    {
     "data": {
      "application/vnd.jupyter.widget-view+json": {
       "model_id": "b8a9e22cb74f47a3b5b90cbf91332976",
       "version_major": 2,
       "version_minor": 0
      },
      "text/plain": [
       "HBox(children=(HTML(value=''), FloatProgress(value=0.0, max=18.0), HTML(value='')))"
      ]
     },
     "metadata": {},
     "output_type": "display_data"
    },
    {
     "name": "stdout",
     "output_type": "stream",
     "text": [
      "\n",
      "Discriminator Loss :  0.68   Accuracy 0.63 || GD Loss:  0.73  || GAN loss:  -13.89\n",
      "Epoch :  24\n"
     ]
    },
    {
     "data": {
      "application/vnd.jupyter.widget-view+json": {
       "model_id": "b660bdca590146ef83347d47ba5d2aa0",
       "version_major": 2,
       "version_minor": 0
      },
      "text/plain": [
       "HBox(children=(HTML(value=''), FloatProgress(value=0.0, max=18.0), HTML(value='')))"
      ]
     },
     "metadata": {},
     "output_type": "display_data"
    },
    {
     "name": "stdout",
     "output_type": "stream",
     "text": [
      "\n",
      "Discriminator Loss :  0.69   Accuracy 0.62 || GD Loss:  0.73  || GAN loss:  -15.68\n",
      "Epoch :  25\n"
     ]
    },
    {
     "data": {
      "application/vnd.jupyter.widget-view+json": {
       "model_id": "aa05e514466a40bd85a126430b785bd0",
       "version_major": 2,
       "version_minor": 0
      },
      "text/plain": [
       "HBox(children=(HTML(value=''), FloatProgress(value=0.0, max=18.0), HTML(value='')))"
      ]
     },
     "metadata": {},
     "output_type": "display_data"
    },
    {
     "name": "stdout",
     "output_type": "stream",
     "text": [
      "\n",
      "Discriminator Loss :  0.68   Accuracy 0.63 || GD Loss:  0.73  || GAN loss:  -15.0\n",
      "Epoch :  26\n"
     ]
    },
    {
     "data": {
      "application/vnd.jupyter.widget-view+json": {
       "model_id": "c4feafab529942b0a4544c82d1bac15f",
       "version_major": 2,
       "version_minor": 0
      },
      "text/plain": [
       "HBox(children=(HTML(value=''), FloatProgress(value=0.0, max=18.0), HTML(value='')))"
      ]
     },
     "metadata": {},
     "output_type": "display_data"
    },
    {
     "name": "stdout",
     "output_type": "stream",
     "text": [
      "\n",
      "Discriminator Loss :  0.68   Accuracy 0.66 || GD Loss:  0.74  || GAN loss:  -14.45\n",
      "Epoch :  27\n"
     ]
    },
    {
     "data": {
      "application/vnd.jupyter.widget-view+json": {
       "model_id": "8a57b83765aa40ccac738ca124ee8a62",
       "version_major": 2,
       "version_minor": 0
      },
      "text/plain": [
       "HBox(children=(HTML(value=''), FloatProgress(value=0.0, max=18.0), HTML(value='')))"
      ]
     },
     "metadata": {},
     "output_type": "display_data"
    },
    {
     "name": "stdout",
     "output_type": "stream",
     "text": [
      "\n",
      "Discriminator Loss :  0.68   Accuracy 0.66 || GD Loss:  0.73  || GAN loss:  -14.6\n",
      "Epoch :  28\n"
     ]
    },
    {
     "data": {
      "application/vnd.jupyter.widget-view+json": {
       "model_id": "4701bfc8c9dc48398567bec9a474160c",
       "version_major": 2,
       "version_minor": 0
      },
      "text/plain": [
       "HBox(children=(HTML(value=''), FloatProgress(value=0.0, max=18.0), HTML(value='')))"
      ]
     },
     "metadata": {},
     "output_type": "display_data"
    },
    {
     "name": "stdout",
     "output_type": "stream",
     "text": [
      "\n",
      "Discriminator Loss :  0.68   Accuracy 0.65 || GD Loss:  0.73  || GAN loss:  -14.33\n",
      "Epoch :  29\n"
     ]
    },
    {
     "data": {
      "application/vnd.jupyter.widget-view+json": {
       "model_id": "6ac29a9f6cff4199a8cd5f1543f96a2c",
       "version_major": 2,
       "version_minor": 0
      },
      "text/plain": [
       "HBox(children=(HTML(value=''), FloatProgress(value=0.0, max=18.0), HTML(value='')))"
      ]
     },
     "metadata": {},
     "output_type": "display_data"
    },
    {
     "name": "stdout",
     "output_type": "stream",
     "text": [
      "\n",
      "Discriminator Loss :  0.68   Accuracy 0.66 || GD Loss:  0.73  || GAN loss:  -14.21\n",
      "Epoch :  30\n"
     ]
    },
    {
     "data": {
      "application/vnd.jupyter.widget-view+json": {
       "model_id": "75fd5d7151da42a082ed29e311790401",
       "version_major": 2,
       "version_minor": 0
      },
      "text/plain": [
       "HBox(children=(HTML(value=''), FloatProgress(value=0.0, max=18.0), HTML(value='')))"
      ]
     },
     "metadata": {},
     "output_type": "display_data"
    },
    {
     "name": "stdout",
     "output_type": "stream",
     "text": [
      "\n",
      "Discriminator Loss :  0.68   Accuracy 0.66 || GD Loss:  0.74  || GAN loss:  -13.68\n",
      "Epoch :  31\n"
     ]
    },
    {
     "data": {
      "application/vnd.jupyter.widget-view+json": {
       "model_id": "e9138ee15a0d44228a899eab4e2d4f3a",
       "version_major": 2,
       "version_minor": 0
      },
      "text/plain": [
       "HBox(children=(HTML(value=''), FloatProgress(value=0.0, max=18.0), HTML(value='')))"
      ]
     },
     "metadata": {},
     "output_type": "display_data"
    },
    {
     "name": "stdout",
     "output_type": "stream",
     "text": [
      "\n",
      "Discriminator Loss :  0.68   Accuracy 0.63 || GD Loss:  0.74  || GAN loss:  -14.62\n",
      "Epoch :  32\n"
     ]
    },
    {
     "data": {
      "application/vnd.jupyter.widget-view+json": {
       "model_id": "404f685c3a4140eb8c27bc4ee39a5f25",
       "version_major": 2,
       "version_minor": 0
      },
      "text/plain": [
       "HBox(children=(HTML(value=''), FloatProgress(value=0.0, max=18.0), HTML(value='')))"
      ]
     },
     "metadata": {},
     "output_type": "display_data"
    },
    {
     "name": "stdout",
     "output_type": "stream",
     "text": [
      "\n",
      "Discriminator Loss :  0.68   Accuracy 0.69 || GD Loss:  0.73  || GAN loss:  -14.69\n",
      "Epoch :  33\n"
     ]
    },
    {
     "data": {
      "application/vnd.jupyter.widget-view+json": {
       "model_id": "d65b2d08e52c4baca65cf64b02037b52",
       "version_major": 2,
       "version_minor": 0
      },
      "text/plain": [
       "HBox(children=(HTML(value=''), FloatProgress(value=0.0, max=18.0), HTML(value='')))"
      ]
     },
     "metadata": {},
     "output_type": "display_data"
    },
    {
     "name": "stdout",
     "output_type": "stream",
     "text": [
      "\n",
      "Discriminator Loss :  0.68   Accuracy 0.65 || GD Loss:  0.74  || GAN loss:  -15.26\n",
      "Epoch :  34\n"
     ]
    },
    {
     "data": {
      "application/vnd.jupyter.widget-view+json": {
       "model_id": "dd2b28d808b043c8a89faf18657c5c06",
       "version_major": 2,
       "version_minor": 0
      },
      "text/plain": [
       "HBox(children=(HTML(value=''), FloatProgress(value=0.0, max=18.0), HTML(value='')))"
      ]
     },
     "metadata": {},
     "output_type": "display_data"
    },
    {
     "name": "stdout",
     "output_type": "stream",
     "text": [
      "\n",
      "Discriminator Loss :  0.68   Accuracy 0.7 || GD Loss:  0.74  || GAN loss:  -14.51\n",
      "Epoch :  35\n"
     ]
    },
    {
     "data": {
      "application/vnd.jupyter.widget-view+json": {
       "model_id": "c14808e6f895449a90731066e6fb4193",
       "version_major": 2,
       "version_minor": 0
      },
      "text/plain": [
       "HBox(children=(HTML(value=''), FloatProgress(value=0.0, max=18.0), HTML(value='')))"
      ]
     },
     "metadata": {},
     "output_type": "display_data"
    },
    {
     "name": "stdout",
     "output_type": "stream",
     "text": [
      "\n",
      "Discriminator Loss :  0.68   Accuracy 0.69 || GD Loss:  0.74  || GAN loss:  -15.98\n",
      "Epoch :  36\n"
     ]
    },
    {
     "data": {
      "application/vnd.jupyter.widget-view+json": {
       "model_id": "5018405b6cbc412daf144689f58bf0ff",
       "version_major": 2,
       "version_minor": 0
      },
      "text/plain": [
       "HBox(children=(HTML(value=''), FloatProgress(value=0.0, max=18.0), HTML(value='')))"
      ]
     },
     "metadata": {},
     "output_type": "display_data"
    },
    {
     "name": "stdout",
     "output_type": "stream",
     "text": [
      "\n",
      "Discriminator Loss :  0.68   Accuracy 0.68 || GD Loss:  0.73  || GAN loss:  -15.36\n",
      "Epoch :  37\n"
     ]
    },
    {
     "data": {
      "application/vnd.jupyter.widget-view+json": {
       "model_id": "7e508895f7b7469f87e36c0b7bb2f92d",
       "version_major": 2,
       "version_minor": 0
      },
      "text/plain": [
       "HBox(children=(HTML(value=''), FloatProgress(value=0.0, max=18.0), HTML(value='')))"
      ]
     },
     "metadata": {},
     "output_type": "display_data"
    },
    {
     "name": "stdout",
     "output_type": "stream",
     "text": [
      "\n",
      "Discriminator Loss :  0.68   Accuracy 0.68 || GD Loss:  0.74  || GAN loss:  -15.18\n",
      "Epoch :  38\n"
     ]
    },
    {
     "data": {
      "application/vnd.jupyter.widget-view+json": {
       "model_id": "89d0f6a525e34267a1fca31e3ba26153",
       "version_major": 2,
       "version_minor": 0
      },
      "text/plain": [
       "HBox(children=(HTML(value=''), FloatProgress(value=0.0, max=18.0), HTML(value='')))"
      ]
     },
     "metadata": {},
     "output_type": "display_data"
    },
    {
     "name": "stdout",
     "output_type": "stream",
     "text": [
      "\n",
      "Discriminator Loss :  0.67   Accuracy 0.68 || GD Loss:  0.74  || GAN loss:  -16.35\n",
      "Epoch :  39\n"
     ]
    },
    {
     "data": {
      "application/vnd.jupyter.widget-view+json": {
       "model_id": "0264170802c14edc8cd2c4faa654043c",
       "version_major": 2,
       "version_minor": 0
      },
      "text/plain": [
       "HBox(children=(HTML(value=''), FloatProgress(value=0.0, max=18.0), HTML(value='')))"
      ]
     },
     "metadata": {},
     "output_type": "display_data"
    },
    {
     "name": "stdout",
     "output_type": "stream",
     "text": [
      "\n",
      "Discriminator Loss :  0.67   Accuracy 0.69 || GD Loss:  0.74  || GAN loss:  -15.69\n"
     ]
    }
   ],
   "source": [
    "train_all_models(discriminator, generator, gan_model, adv_model, train_ds, num_epochs=40)"
   ]
  },
  {
   "cell_type": "code",
   "execution_count": null,
   "id": "d07b80ef",
   "metadata": {},
   "outputs": [],
   "source": []
  },
  {
   "cell_type": "code",
   "execution_count": null,
   "id": "e9bc4ee4",
   "metadata": {},
   "outputs": [],
   "source": []
  },
  {
   "cell_type": "code",
   "execution_count": 14,
   "id": "4ffbf0bb",
   "metadata": {},
   "outputs": [],
   "source": [
    "generator = tf.keras.models.load_model('saved_model/gen_20.h5')"
   ]
  },
  {
   "cell_type": "code",
   "execution_count": 15,
   "id": "801e286b",
   "metadata": {
    "scrolled": true
   },
   "outputs": [
    {
     "data": {
      "application/vnd.jupyter.widget-view+json": {
       "model_id": "e29d9a45ee004376a5d9a4d921940f7a",
       "version_major": 2,
       "version_minor": 0
      },
      "text/plain": [
       "HBox(children=(HTML(value=''), FloatProgress(value=0.0, max=18.0), HTML(value='')))"
      ]
     },
     "metadata": {},
     "output_type": "display_data"
    },
    {
     "name": "stdout",
     "output_type": "stream",
     "text": [
      "\n"
     ]
    },
    {
     "data": {
      "text/plain": [
       "(354, 560)"
      ]
     },
     "execution_count": 15,
     "metadata": {},
     "output_type": "execute_result"
    }
   ],
   "source": [
    "count = 0\n",
    "total_count = 0\n",
    "for x in tq.tqdm(train_ds):\n",
    "    for y in range(len(x[0])):\n",
    "        if( x[1][y] != 3):\n",
    "            im = tf.expand_dims(x[0][y], 0)\n",
    "            predb = generator(im )\n",
    "            pred = classifier.predict(predb)\n",
    "            \n",
    "            total_count = total_count + 1\n",
    "            count = count + (np.argmax(pred[0]) != x[1][y].numpy())\n",
    "            #print(np.argmax(pred[0]) , x[1][y].numpy())\n",
    "count, total_count"
   ]
  },
  {
   "cell_type": "code",
   "execution_count": 16,
   "id": "09e29e8f",
   "metadata": {},
   "outputs": [
    {
     "data": {
      "application/vnd.jupyter.widget-view+json": {
       "model_id": "374992db07a843a3a22bb0d45d3265bf",
       "version_major": 2,
       "version_minor": 0
      },
      "text/plain": [
       "HBox(children=(HTML(value=''), FloatProgress(value=0.0, max=5.0), HTML(value='')))"
      ]
     },
     "metadata": {},
     "output_type": "display_data"
    },
    {
     "name": "stdout",
     "output_type": "stream",
     "text": [
      "\n"
     ]
    },
    {
     "data": {
      "text/plain": [
       "(92, 140)"
      ]
     },
     "execution_count": 16,
     "metadata": {},
     "output_type": "execute_result"
    }
   ],
   "source": [
    "count = 0\n",
    "total_count = 0\n",
    "for x in tq.tqdm(val_ds):\n",
    "    for y in range(len(x[0])):\n",
    "        if( x[1][y] != 3):\n",
    "            im = tf.expand_dims(x[0][y], 0)\n",
    "            predb = generator(im )\n",
    "            pred = classifier.predict(predb)\n",
    "            \n",
    "            total_count = total_count + 1\n",
    "            count = count + (np.argmax(pred[0]) != x[1][y].numpy())\n",
    "            #print(np.argmax(pred[0]) , x[1][y].numpy())\n",
    "count, total_count"
   ]
  },
  {
   "cell_type": "code",
   "execution_count": null,
   "id": "393a21ee",
   "metadata": {},
   "outputs": [],
   "source": []
  },
  {
   "cell_type": "code",
   "execution_count": null,
   "id": "4aa24889",
   "metadata": {},
   "outputs": [],
   "source": []
  },
  {
   "cell_type": "code",
   "execution_count": null,
   "id": "bebfcbf2",
   "metadata": {},
   "outputs": [],
   "source": []
  },
  {
   "cell_type": "code",
   "execution_count": null,
   "id": "042cc3e4",
   "metadata": {},
   "outputs": [],
   "source": []
  },
  {
   "cell_type": "code",
   "execution_count": null,
   "id": "80a802e3",
   "metadata": {},
   "outputs": [],
   "source": [
    "            plt.subplot(1,2,1)\n",
    "            plt.imshow(predb[0])\n",
    "            plt.subplot(1,2,2)\n",
    "            plt.imshow(im[0])"
   ]
  }
 ],
 "metadata": {
  "kernelspec": {
   "display_name": "Python 3",
   "language": "python",
   "name": "python3"
  },
  "language_info": {
   "codemirror_mode": {
    "name": "ipython",
    "version": 3
   },
   "file_extension": ".py",
   "mimetype": "text/x-python",
   "name": "python",
   "nbconvert_exporter": "python",
   "pygments_lexer": "ipython3",
   "version": "3.8.5"
  }
 },
 "nbformat": 4,
 "nbformat_minor": 5
}
